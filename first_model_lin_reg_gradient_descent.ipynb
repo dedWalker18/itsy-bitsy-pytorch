{
  "nbformat": 4,
  "nbformat_minor": 0,
  "metadata": {
    "colab": {
      "provenance": []
    },
    "kernelspec": {
      "name": "python3",
      "display_name": "Python 3"
    },
    "language_info": {
      "name": "python"
    }
  },
  "cells": [
    {
      "cell_type": "code",
      "execution_count": 2,
      "metadata": {
        "id": "0RAHcc-NQkmL"
      },
      "outputs": [],
      "source": [
        "import torch"
      ]
    },
    {
      "cell_type": "code",
      "source": [
        "new = torch.empty(1,1,1,6)"
      ],
      "metadata": {
        "id": "Rx4FQJNCxUdg"
      },
      "execution_count": 3,
      "outputs": []
    },
    {
      "cell_type": "code",
      "source": [
        "new.mT.shape, new.T.shape   ## T is transpose & mT is transpose of last 2 dims"
      ],
      "metadata": {
        "colab": {
          "base_uri": "https://localhost:8080/"
        },
        "id": "gOblUia0xYwj",
        "outputId": "512b6ed4-52f5-4624-834b-b6dc0df66763"
      },
      "execution_count": 4,
      "outputs": [
        {
          "output_type": "stream",
          "name": "stderr",
          "text": [
            "<ipython-input-4-4c93d4e00b17>:1: UserWarning: The use of `x.T` on tensors of dimension other than 2 to reverse their shape is deprecated and it will throw an error in a future release. Consider `x.mT` to transpose batches of matrices or `x.permute(*torch.arange(x.ndim - 1, -1, -1))` to reverse the dimensions of a tensor. (Triggered internally at ../aten/src/ATen/native/TensorShape.cpp:3637.)\n",
            "  new.mT.shape, new.T.shape   ## T is transpose & mT is transpose of last 2 dims\n"
          ]
        },
        {
          "output_type": "execute_result",
          "data": {
            "text/plain": [
              "(torch.Size([1, 1, 6, 1]), torch.Size([6, 1, 1, 1]))"
            ]
          },
          "metadata": {},
          "execution_count": 4
        }
      ]
    },
    {
      "cell_type": "code",
      "source": [
        "torch.rand(2,3).H.shape  ## conjugate and transpose of a 2-D matrix, has a mH similar to mT"
      ],
      "metadata": {
        "colab": {
          "base_uri": "https://localhost:8080/"
        },
        "id": "g_DQZ1XvxbY9",
        "outputId": "5483f625-9571-4dbc-e45a-becb764b7368"
      },
      "execution_count": 5,
      "outputs": [
        {
          "output_type": "execute_result",
          "data": {
            "text/plain": [
              "torch.Size([3, 2])"
            ]
          },
          "metadata": {},
          "execution_count": 5
        }
      ]
    },
    {
      "cell_type": "code",
      "source": [
        "new.transpose(-1,-1).shape"
      ],
      "metadata": {
        "colab": {
          "base_uri": "https://localhost:8080/"
        },
        "id": "dkO7KA0LxyNt",
        "outputId": "609ca6e3-2d67-48df-97da-ba8939d60c78"
      },
      "execution_count": 6,
      "outputs": [
        {
          "output_type": "execute_result",
          "data": {
            "text/plain": [
              "torch.Size([1, 1, 1, 6])"
            ]
          },
          "metadata": {},
          "execution_count": 6
        }
      ]
    },
    {
      "cell_type": "code",
      "source": [
        "w = 0.7\n",
        "b = 0.3\n",
        "\n",
        "\n",
        "start = 0\n",
        "end =  1\n",
        "step = 0.02\n",
        "X = torch.arange(start, end, step).unsqueeze(dim=1)\n",
        "y = w * X + b"
      ],
      "metadata": {
        "id": "TP8T_8UNylMD"
      },
      "execution_count": 7,
      "outputs": []
    },
    {
      "cell_type": "code",
      "source": [
        "X.shape, y.shape"
      ],
      "metadata": {
        "colab": {
          "base_uri": "https://localhost:8080/"
        },
        "id": "WA9feSlh3O0B",
        "outputId": "8d068d1f-f959-4b36-c5d5-0bbe35d8bd30"
      },
      "execution_count": 8,
      "outputs": [
        {
          "output_type": "execute_result",
          "data": {
            "text/plain": [
              "(torch.Size([50, 1]), torch.Size([50, 1]))"
            ]
          },
          "metadata": {},
          "execution_count": 8
        }
      ]
    },
    {
      "cell_type": "code",
      "source": [
        "seventy = int(0.7 * len(X))\n",
        "X_train, y_train, X_test, y_test = X[:seventy], y[:seventy], X[seventy:], y[seventy:]\n",
        "X_train.shape,y_train.shape, X_test.shape, y_test.shape"
      ],
      "metadata": {
        "colab": {
          "base_uri": "https://localhost:8080/"
        },
        "id": "DDwnFla33T2w",
        "outputId": "2476b6f9-d540-4bd5-df84-a92e8453288d"
      },
      "execution_count": 9,
      "outputs": [
        {
          "output_type": "execute_result",
          "data": {
            "text/plain": [
              "(torch.Size([35, 1]),\n",
              " torch.Size([35, 1]),\n",
              " torch.Size([15, 1]),\n",
              " torch.Size([15, 1]))"
            ]
          },
          "metadata": {},
          "execution_count": 9
        }
      ]
    },
    {
      "cell_type": "code",
      "source": [
        "from torch import nn"
      ],
      "metadata": {
        "id": "nGe-6v927BKe"
      },
      "execution_count": 10,
      "outputs": []
    },
    {
      "cell_type": "code",
      "source": [
        "## boiler plate for all neural network model class\n",
        "## forward method needs to be overwritten to specify computation for every iteration\n",
        "\n",
        "class LinRegModel(nn.Module):\n",
        "  def __init__(self) -> None:\n",
        "    super().__init__()\n",
        "    self.weights = nn.Parameter(torch.randn(1,\n",
        "                                requires_grad=True,\n",
        "                                dtype=torch.float)\n",
        "                                )\n",
        "    self.bias = nn.Parameter(torch.randn(1,\n",
        "                                         requires_grad=True,\n",
        "                                         dtype=torch.float)\n",
        "                                )\n",
        "\n",
        "  def forward(self, x:torch.tensor) -> torch.Tensor:\n",
        "    return self.weights * x + self.bias   ## linear reg\n",
        "\n"
      ],
      "metadata": {
        "id": "zSq0Pi333jr5"
      },
      "execution_count": 11,
      "outputs": []
    },
    {
      "cell_type": "code",
      "source": [
        "torch.manual_seed(43)\n",
        "my_model = LinRegModel()"
      ],
      "metadata": {
        "id": "ZgDdqBab89TN"
      },
      "execution_count": 12,
      "outputs": []
    },
    {
      "cell_type": "code",
      "source": [
        "list(my_model.parameters())"
      ],
      "metadata": {
        "colab": {
          "base_uri": "https://localhost:8080/"
        },
        "id": "kr_EDqJ49CoB",
        "outputId": "0839c7fb-d9af-4b0a-d88e-a8ad73371078"
      },
      "execution_count": 13,
      "outputs": [
        {
          "output_type": "execute_result",
          "data": {
            "text/plain": [
              "[Parameter containing:\n",
              " tensor([-0.6484], requires_grad=True),\n",
              " Parameter containing:\n",
              " tensor([-0.7058], requires_grad=True)]"
            ]
          },
          "metadata": {},
          "execution_count": 13
        }
      ]
    },
    {
      "cell_type": "markdown",
      "source": [
        "\n",
        "### checkout utils.dataset and dataloader\n",
        "\n",
        "nn.Module -- contains the larger building blocks (layers)\n",
        "\n",
        "nn.Parameter -- contains the smaller parameters like weights and biases (put these together to make nn.Module(s))\n",
        "\n",
        "forward() -- tells the larger blocks how to make calculations on inputs (tensors full of data) within nn.Module(s)\n",
        "\n",
        "torch.optim -- contains optimization methods on how to improve the parameters within nn.Parameter to better represent input data"
      ],
      "metadata": {
        "id": "JPgY6dTL9HXz"
      }
    },
    {
      "cell_type": "code",
      "source": [
        "my_model.state_dict()"
      ],
      "metadata": {
        "colab": {
          "base_uri": "https://localhost:8080/"
        },
        "id": "zaeYhk9W9rMz",
        "outputId": "e8151352-f2e8-4b4b-d725-287a1e71b411"
      },
      "execution_count": 14,
      "outputs": [
        {
          "output_type": "execute_result",
          "data": {
            "text/plain": [
              "OrderedDict([('weights', tensor([-0.6484])), ('bias', tensor([-0.7058]))])"
            ]
          },
          "metadata": {},
          "execution_count": 14
        }
      ]
    },
    {
      "cell_type": "code",
      "source": [
        "y_preds = my_model(X_test)\n",
        "y_preds, y_test"
      ],
      "metadata": {
        "colab": {
          "base_uri": "https://localhost:8080/"
        },
        "id": "iA7KFnvTUbiH",
        "outputId": "e2e94160-93a4-4765-f491-52c7d86a1ea3"
      },
      "execution_count": 15,
      "outputs": [
        {
          "output_type": "execute_result",
          "data": {
            "text/plain": [
              "(tensor([[-1.1597],\n",
              "         [-1.1727],\n",
              "         [-1.1857],\n",
              "         [-1.1986],\n",
              "         [-1.2116],\n",
              "         [-1.2246],\n",
              "         [-1.2375],\n",
              "         [-1.2505],\n",
              "         [-1.2635],\n",
              "         [-1.2764],\n",
              "         [-1.2894],\n",
              "         [-1.3024],\n",
              "         [-1.3153],\n",
              "         [-1.3283],\n",
              "         [-1.3413]], grad_fn=<AddBackward0>),\n",
              " tensor([[0.7900],\n",
              "         [0.8040],\n",
              "         [0.8180],\n",
              "         [0.8320],\n",
              "         [0.8460],\n",
              "         [0.8600],\n",
              "         [0.8740],\n",
              "         [0.8880],\n",
              "         [0.9020],\n",
              "         [0.9160],\n",
              "         [0.9300],\n",
              "         [0.9440],\n",
              "         [0.9580],\n",
              "         [0.9720],\n",
              "         [0.9860]]))"
            ]
          },
          "metadata": {},
          "execution_count": 15
        }
      ]
    },
    {
      "cell_type": "code",
      "source": [
        "with torch.inference_mode():   ## removes gradient track ## replaces torch.no_grad() from lder pytorch\n",
        "  y_pred = my_model(X_test)\n",
        "\n",
        "y_pred"
      ],
      "metadata": {
        "colab": {
          "base_uri": "https://localhost:8080/"
        },
        "id": "7dQTOC2cSbrL",
        "outputId": "8d7843f8-0f47-4723-f966-bfc0c692298a"
      },
      "execution_count": 16,
      "outputs": [
        {
          "output_type": "execute_result",
          "data": {
            "text/plain": [
              "tensor([[-1.1597],\n",
              "        [-1.1727],\n",
              "        [-1.1857],\n",
              "        [-1.1986],\n",
              "        [-1.2116],\n",
              "        [-1.2246],\n",
              "        [-1.2375],\n",
              "        [-1.2505],\n",
              "        [-1.2635],\n",
              "        [-1.2764],\n",
              "        [-1.2894],\n",
              "        [-1.3024],\n",
              "        [-1.3153],\n",
              "        [-1.3283],\n",
              "        [-1.3413]])"
            ]
          },
          "metadata": {},
          "execution_count": 16
        }
      ]
    },
    {
      "cell_type": "markdown",
      "source": [
        "basic scoring using loss functions like mse_loss and l1_loss ,\n",
        "l1_loss is MAE"
      ],
      "metadata": {
        "id": "UHo1gNUzSegD"
      }
    },
    {
      "cell_type": "code",
      "source": [
        "%%time\n",
        "torch.nn.functional.l1_loss(y_pred, y_test), torch.nn.functional.mse_loss(y_pred, y_test)"
      ],
      "metadata": {
        "colab": {
          "base_uri": "https://localhost:8080/"
        },
        "id": "t3Y9kKhHWKq8",
        "outputId": "42da044f-900c-4c46-a2d9-0ff900191d9b"
      },
      "execution_count": 17,
      "outputs": [
        {
          "output_type": "stream",
          "name": "stdout",
          "text": [
            "CPU times: user 43 µs, sys: 840 µs, total: 883 µs\n",
            "Wall time: 2.26 ms\n"
          ]
        },
        {
          "output_type": "execute_result",
          "data": {
            "text/plain": [
              "(tensor(2.1385), tensor(4.5868))"
            ]
          },
          "metadata": {},
          "execution_count": 17
        }
      ]
    },
    {
      "cell_type": "code",
      "source": [
        "%%time\n",
        "## Mean of absoulte of element wise difference\n",
        "l=[]\n",
        "for i,j in zip(y_pred, y_test):\n",
        "  l.append(abs(i-j))\n",
        "\n",
        "diff = torch.tensor(l)\n",
        "diff.mean()"
      ],
      "metadata": {
        "colab": {
          "base_uri": "https://localhost:8080/"
        },
        "id": "Mr0xkbc6W0kI",
        "outputId": "29428b2a-27cb-4d21-e3b5-06f2b8a3877f"
      },
      "execution_count": 18,
      "outputs": [
        {
          "output_type": "stream",
          "name": "stdout",
          "text": [
            "CPU times: user 651 µs, sys: 5 µs, total: 656 µs\n",
            "Wall time: 665 µs\n"
          ]
        },
        {
          "output_type": "execute_result",
          "data": {
            "text/plain": [
              "tensor(2.1385)"
            ]
          },
          "metadata": {},
          "execution_count": 18
        }
      ]
    },
    {
      "cell_type": "code",
      "source": [
        "loss_func = nn.L1Loss()\n",
        "\n",
        "optimiser = torch.optim.SGD(params = my_model.parameters(),\n",
        "                            lr = 0.001\n",
        "                            )"
      ],
      "metadata": {
        "id": "swZzs4xzYNIn"
      },
      "execution_count": 19,
      "outputs": []
    },
    {
      "cell_type": "markdown",
      "source": [
        "For training loop, we need\n",
        "\n",
        "- loop through data\n",
        "- foward propogation using forward method\n",
        "- calulate loss\n",
        "- optimise zero grad\n",
        "- loss backward - move backward in network to calculate the gradients of each of the params with respect to loss\n",
        "- optimiser step to try to reduce loss, ie, gradient descent"
      ],
      "metadata": {
        "id": "wOrpgeyebsHZ"
      }
    },
    {
      "cell_type": "code",
      "source": [
        "%%time\n",
        "epochs = 10000\n",
        "\n",
        "for epoch in range(epochs):\n",
        "  my_model.train()\n",
        "  y_pred = my_model(X_train)\n",
        "  loss = loss_func(y_train, y_pred)\n",
        "  optimiser.zero_grad()   ## required if multiple epochs, check out docs\n",
        "  loss.backward()\n",
        "  optimiser.step()\n",
        "  my_model.eval()\n",
        "\n",
        "  with torch.inference_mode():\n",
        "    y_pred_test = my_model(X_test)\n",
        "    test_loss = loss_func(y_test, y_pred_test)\n",
        "\n",
        "\n",
        "  if (epochs - epoch) <= 10:\n",
        "    print(f\"epoch {epoch}, loss {loss}, test_loss {test_loss}\")"
      ],
      "metadata": {
        "colab": {
          "base_uri": "https://localhost:8080/"
        },
        "id": "ztQ-dj2CeXpm",
        "outputId": "62e9a74f-2fe5-4f9e-90a5-b1c4dd853b4d"
      },
      "execution_count": 20,
      "outputs": [
        {
          "output_type": "stream",
          "name": "stdout",
          "text": [
            "epoch 9990, loss 0.0006866072071716189, test_loss 0.000955816125497222\n",
            "epoch 9991, loss 0.0004289737844374031, test_loss 0.00032976866350509226\n",
            "epoch 9992, loss 0.0006866072071716189, test_loss 0.000955816125497222\n",
            "epoch 9993, loss 0.0004289737844374031, test_loss 0.00032976866350509226\n",
            "epoch 9994, loss 0.0006866072071716189, test_loss 0.000955816125497222\n",
            "epoch 9995, loss 0.0004289737844374031, test_loss 0.00032976866350509226\n",
            "epoch 9996, loss 0.0006866072071716189, test_loss 0.000955816125497222\n",
            "epoch 9997, loss 0.0004289737844374031, test_loss 0.00032976866350509226\n",
            "epoch 9998, loss 0.0006866072071716189, test_loss 0.000955816125497222\n",
            "epoch 9999, loss 0.0004289737844374031, test_loss 0.00032976866350509226\n",
            "CPU times: user 5.78 s, sys: 109 ms, total: 5.89 s\n",
            "Wall time: 5.94 s\n"
          ]
        }
      ]
    },
    {
      "cell_type": "code",
      "source": [
        "list(my_model.parameters())"
      ],
      "metadata": {
        "colab": {
          "base_uri": "https://localhost:8080/"
        },
        "id": "y9AaxkRBgm06",
        "outputId": "5e2a4405-d1f2-4757-a0d9-239fcd123068"
      },
      "execution_count": 21,
      "outputs": [
        {
          "output_type": "execute_result",
          "data": {
            "text/plain": [
              "[Parameter containing:\n",
              " tensor([0.6993], requires_grad=True),\n",
              " Parameter containing:\n",
              " tensor([0.3009], requires_grad=True)]"
            ]
          },
          "metadata": {},
          "execution_count": 21
        }
      ]
    },
    {
      "cell_type": "code",
      "source": [
        "with torch.inference_mode():\n",
        "  y_pred = my_model(X_test)"
      ],
      "metadata": {
        "id": "zFEv-t1om4RT"
      },
      "execution_count": 22,
      "outputs": []
    },
    {
      "cell_type": "code",
      "source": [
        "torch.nn.functional.l1_loss(y_pred, y_test), torch.nn.functional.mse_loss(y_pred, y_test)"
      ],
      "metadata": {
        "colab": {
          "base_uri": "https://localhost:8080/"
        },
        "id": "9a7A1gdhhCqH",
        "outputId": "0e85d558-a6a7-4526-cd9a-5d94520ae4a1"
      },
      "execution_count": 23,
      "outputs": [
        {
          "output_type": "execute_result",
          "data": {
            "text/plain": [
              "(tensor(0.0003), tensor(1.1255e-07))"
            ]
          },
          "metadata": {},
          "execution_count": 23
        }
      ]
    },
    {
      "cell_type": "markdown",
      "source": [
        "current timestamp - 7:40:00"
      ],
      "metadata": {
        "id": "DD4BainCmxXi"
      }
    },
    {
      "cell_type": "code",
      "source": [
        "torch.save(obj = my_model.state_dict(), f='first_lin_regressor.pth')   ## asve onj as state dict instead of saving entire model, check ddocs"
      ],
      "metadata": {
        "id": "NSeJBHpSFip_"
      },
      "execution_count": 36,
      "outputs": []
    },
    {
      "cell_type": "code",
      "source": [],
      "metadata": {
        "id": "HaQq7bgHHPXi"
      },
      "execution_count": null,
      "outputs": []
    }
  ]
}