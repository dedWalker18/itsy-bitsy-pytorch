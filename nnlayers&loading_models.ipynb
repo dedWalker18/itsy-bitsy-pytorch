{
  "cells": [
    {
      "cell_type": "code",
      "execution_count": null,
      "metadata": {
        "colab": {
          "base_uri": "https://localhost:8080/"
        },
        "id": "yEqlZYBHHv4t",
        "outputId": "7db83b99-97a8-4db8-fdf3-10cabb4ded50"
      },
      "outputs": [
        {
          "name": "stdout",
          "output_type": "stream",
          "text": [
            "Mounted at /content/gdrive\n"
          ]
        }
      ],
      "source": [
        "from google.colab import drive\n",
        "drive.mount('/content/gdrive')"
      ]
    },
    {
      "cell_type": "code",
      "execution_count": null,
      "metadata": {
        "id": "oLiuuw_HIdNo"
      },
      "outputs": [],
      "source": [
        "import torch\n",
        "from torch import nn"
      ]
    },
    {
      "cell_type": "code",
      "execution_count": null,
      "metadata": {
        "colab": {
          "base_uri": "https://localhost:8080/",
          "height": 35
        },
        "id": "8TZfbXaJSy1R",
        "outputId": "92fce876-12f6-4e5f-869b-4a248553dbdd"
      },
      "outputs": [
        {
          "data": {
            "application/vnd.google.colaboratory.intrinsic+json": {
              "type": "string"
            },
            "text/plain": [
              "'cuda'"
            ]
          },
          "execution_count": 3,
          "metadata": {},
          "output_type": "execute_result"
        }
      ],
      "source": [
        "device = \"cuda\" if  torch.cuda.is_available() else \"cpu\"\n",
        "device"
      ]
    },
    {
      "cell_type": "code",
      "execution_count": null,
      "metadata": {
        "colab": {
          "base_uri": "https://localhost:8080/"
        },
        "id": "qyadTkSATLA-",
        "outputId": "187064b6-dedb-4100-bc68-d41e64d35798"
      },
      "outputs": [
        {
          "name": "stderr",
          "output_type": "stream",
          "text": [
            "<ipython-input-4-e000d6fbd9dc>:4: UserWarning: To copy construct from a tensor, it is recommended to use sourceTensor.clone().detach() or sourceTensor.clone().detach().requires_grad_(True), rather than torch.tensor(sourceTensor).\n",
            "  X = torch.tensor(torch.arange(start, end, step).unsqueeze(dim=1))\n"
          ]
        },
        {
          "data": {
            "text/plain": [
              "(tensor([[0.0000],\n",
              "         [0.0200],\n",
              "         [0.0400],\n",
              "         [0.0600],\n",
              "         [0.0800]], device='cuda:0'),\n",
              " tensor([[1.4219],\n",
              "         [1.4090],\n",
              "         [1.3960],\n",
              "         [1.3830],\n",
              "         [1.3701]]),\n",
              " torch.Size([500, 1]),\n",
              " torch.Size([500, 1]),\n",
              " tensor([-0.6484]),\n",
              " tensor([1.4219]),\n",
              " device(type='cuda', index=0))"
            ]
          },
          "execution_count": 4,
          "metadata": {},
          "output_type": "execute_result"
        }
      ],
      "source": [
        "start = 0\n",
        "end =  10\n",
        "step = 0.02\n",
        "X = torch.tensor(torch.arange(start, end, step).unsqueeze(dim=1))\n",
        "torch.manual_seed(43)\n",
        "weight = torch.randn(1, requires_grad=False, dtype=torch.float)\n",
        "\n",
        "torch.manual_seed(34)\n",
        "bias = torch.randn(1, requires_grad=False, dtype=torch.float)\n",
        "\n",
        "y = X * weight + bias\n",
        "X= X.to(device)\n",
        "X[:5], y[:5], X.shape, y.shape, weight, bias, X.device"
      ]
    },
    {
      "cell_type": "code",
      "execution_count": null,
      "metadata": {
        "colab": {
          "base_uri": "https://localhost:8080/"
        },
        "id": "_r6Hdv_mVKoW",
        "outputId": "15db0370-b6fd-41d9-d606-fb84601d105b"
      },
      "outputs": [
        {
          "data": {
            "text/plain": [
              "(device(type='cuda', index=0),\n",
              " device(type='cuda', index=0),\n",
              " device(type='cuda', index=0),\n",
              " device(type='cuda', index=0),\n",
              " torch.Size([350, 1]),\n",
              " torch.Size([150, 1]),\n",
              " torch.Size([350, 1]),\n",
              " torch.Size([150, 1]))"
            ]
          },
          "execution_count": 5,
          "metadata": {},
          "output_type": "execute_result"
        }
      ],
      "source": [
        "seventy = int(0.7 * len(X))\n",
        "X_train, X_test, y_train, y_test = X[:seventy], X[seventy:], y[:seventy], y[seventy:]\n",
        "y_train = y_train.to(device)\n",
        "y_test = y_test.to(device)\n",
        "X_train.device,X_test.device, y_train.device,y_test.device, X_train.shape, X_test.shape, y_train.shape, y_test.shape"
      ]
    },
    {
      "cell_type": "code",
      "execution_count": null,
      "metadata": {
        "id": "fj9Nf8EPJWMz"
      },
      "outputs": [],
      "source": [
        "class LinRegModel(nn.Module):\n",
        "  def __init__(self) -> None:\n",
        "    super().__init__()\n",
        "    self.weights = nn.Parameter(torch.randn(1,\n",
        "                                requires_grad=True,\n",
        "                                dtype=torch.float)\n",
        "                                )\n",
        "    self.bias = nn.Parameter(torch.randn(1,\n",
        "                                         requires_grad=True,\n",
        "                                         dtype=torch.float)\n",
        "                                )\n",
        "\n",
        "  def forward(self, x:torch.tensor) -> torch.Tensor:\n",
        "    return self.weights * x + self.bias   ## linear reg\n",
        "\n",
        "\n",
        "\n",
        "## need model class to subclass if you want to load model params,\n",
        "## since we oly saved params and not entire model\n",
        "my_model = LinRegModel()"
      ]
    },
    {
      "cell_type": "code",
      "execution_count": null,
      "metadata": {
        "colab": {
          "base_uri": "https://localhost:8080/"
        },
        "id": "PCg297-BJ19s",
        "outputId": "38ded040-c692-44d8-9d47-f07f79b3f902"
      },
      "outputs": [
        {
          "data": {
            "text/plain": [
              "<All keys matched successfully>"
            ]
          },
          "execution_count": 7,
          "metadata": {},
          "output_type": "execute_result"
        }
      ],
      "source": [
        "from pathlib import Path\n",
        "model_path = Path(\"/content/gdrive/MyDrive/Colab Notebooks/first_lin_regressor.pth\")\n",
        "\n",
        "my_model.load_state_dict(torch.load(model_path))                                ## takes pathlike object as input"
      ]
    },
    {
      "cell_type": "code",
      "execution_count": null,
      "metadata": {
        "colab": {
          "base_uri": "https://localhost:8080/"
        },
        "id": "P1RXad1gKfsi",
        "outputId": "6facfd3e-cf71-4945-e424-2f51df0392ea"
      },
      "outputs": [
        {
          "data": {
            "text/plain": [
              "OrderedDict([('weights', tensor([0.6993])), ('bias', tensor([0.3009]))])"
            ]
          },
          "execution_count": 8,
          "metadata": {},
          "output_type": "execute_result"
        }
      ],
      "source": [
        "my_model.state_dict()"
      ]
    },
    {
      "cell_type": "code",
      "execution_count": null,
      "metadata": {
        "colab": {
          "base_uri": "https://localhost:8080/"
        },
        "id": "G4NrcX4WLlae",
        "outputId": "f6250946-4b81-4ecb-822c-eea80466cc1f"
      },
      "outputs": [
        {
          "data": {
            "text/plain": [
              "(LinRegModelV2(\n",
              "   (linear_layer): Linear(in_features=1, out_features=1, bias=True)\n",
              " ),\n",
              " OrderedDict([('linear_layer.weight', tensor([[-0.0921]])),\n",
              "              ('linear_layer.bias', tensor([-0.6070]))]))"
            ]
          },
          "execution_count": 9,
          "metadata": {},
          "output_type": "execute_result"
        }
      ],
      "source": [
        "class LinRegModelV2(nn.Module):\n",
        "  def __init__(self):\n",
        "    super().__init__()\n",
        "\n",
        "    self.linear_layer = nn.Linear(in_features=1,\n",
        "                                  out_features=1)\n",
        "\n",
        "  def forward(self, x:torch.Tensor) -> torch.Tensor:\n",
        "    return self.linear_layer(x)\n",
        "\n",
        "\n",
        "torch.manual_seed(43)\n",
        "modelv2 = LinRegModelV2()\n",
        "modelv2,  modelv2.state_dict()"
      ]
    },
    {
      "cell_type": "code",
      "execution_count": null,
      "metadata": {
        "colab": {
          "base_uri": "https://localhost:8080/"
        },
        "id": "EsQ-ZkctSH-q",
        "outputId": "834bb860-645d-4d81-d702-587fafe267d7"
      },
      "outputs": [
        {
          "data": {
            "text/plain": [
              "device(type='cpu')"
            ]
          },
          "execution_count": 10,
          "metadata": {},
          "output_type": "execute_result"
        }
      ],
      "source": [
        "next(modelv2.parameters()).device"
      ]
    },
    {
      "cell_type": "code",
      "execution_count": null,
      "metadata": {
        "colab": {
          "base_uri": "https://localhost:8080/"
        },
        "id": "ROldk00aS8Hi",
        "outputId": "fe170da4-8de4-4290-a48b-33d2a6d5af92"
      },
      "outputs": [
        {
          "data": {
            "text/plain": [
              "LinRegModelV2(\n",
              "  (linear_layer): Linear(in_features=1, out_features=1, bias=True)\n",
              ")"
            ]
          },
          "execution_count": 11,
          "metadata": {},
          "output_type": "execute_result"
        }
      ],
      "source": [
        "modelv2.to(device)"
      ]
    },
    {
      "cell_type": "code",
      "execution_count": null,
      "metadata": {
        "colab": {
          "base_uri": "https://localhost:8080/"
        },
        "id": "vxgMKU-3XyLp",
        "outputId": "8836450b-a160-40cb-b72e-a93e6c49d2fb"
      },
      "outputs": [
        {
          "data": {
            "text/plain": [
              "(device(type='cuda', index=0), device(type='cuda', index=0))"
            ]
          },
          "execution_count": 12,
          "metadata": {},
          "output_type": "execute_result"
        }
      ],
      "source": [
        "next(modelv2.parameters()).device, X_train.device"
      ]
    },
    {
      "cell_type": "code",
      "execution_count": null,
      "metadata": {
        "id": "4GuW1W95S_OI"
      },
      "outputs": [],
      "source": [
        "loss_func = nn.L1Loss()\n",
        "\n",
        "optimiser = torch.optim.SGD(params=modelv2.parameters(),\n",
        "                            lr = 0.001)"
      ]
    },
    {
      "cell_type": "code",
      "execution_count": null,
      "metadata": {
        "colab": {
          "base_uri": "https://localhost:8080/"
        },
        "id": "PkvQ-f4gV8eC",
        "outputId": "2b863d6a-d0b7-4ab6-ef5b-22921866eb34"
      },
      "outputs": [
        {
          "name": "stdout",
          "output_type": "stream",
          "text": [
            "0 tensor(2.6930, device='cuda:0')\n",
            "10000 tensor(1.2281, device='cuda:0')\n",
            "20000 tensor(0.9334, device='cuda:0')\n",
            "30000 tensor(0.6387, device='cuda:0')\n",
            "40000 tensor(0.3439, device='cuda:0')\n",
            "50000 tensor(0.0488, device='cuda:0')\n",
            "60000 tensor(0.0025, device='cuda:0')\n",
            "70000 tensor(0.0025, device='cuda:0')\n",
            "80000 tensor(0.0025, device='cuda:0')\n",
            "90000 tensor(0.0025, device='cuda:0')\n"
          ]
        }
      ],
      "source": [
        "torch.manual_seed(43)\n",
        "\n",
        "epochs = 100000\n",
        "\n",
        "for epoch in range(epochs):\n",
        "  modelv2.train()\n",
        "\n",
        "  y_pred = modelv2(X_train)\n",
        "  loss = loss_func(y_pred, y_train)\n",
        "  optimiser.zero_grad()\n",
        "  loss.backward()\n",
        "  optimiser.step()\n",
        "  modelv2.eval()\n",
        "\n",
        "  with torch.inference_mode():\n",
        "    y_pred_test = modelv2(X_test)\n",
        "    test_loss = loss_func(y_pred_test, y_test)\n",
        "\n",
        "  if epoch % 10000 == 0:\n",
        "    print(epoch, test_loss)"
      ]
    },
    {
      "cell_type": "code",
      "execution_count": null,
      "metadata": {
        "colab": {
          "base_uri": "https://localhost:8080/"
        },
        "id": "lwbGtlpiXGOZ",
        "outputId": "aea441e1-b191-442d-cc3b-454c70efbda2"
      },
      "outputs": [
        {
          "data": {
            "text/plain": [
              "[Parameter containing:\n",
              " tensor([[-0.6485]], device='cuda:0', requires_grad=True),\n",
              " Parameter containing:\n",
              " tensor([1.4218], device='cuda:0', requires_grad=True)]"
            ]
          },
          "execution_count": 16,
          "metadata": {},
          "output_type": "execute_result"
        }
      ],
      "source": [
        "list(modelv2.parameters())"
      ]
    },
    {
      "cell_type": "code",
      "execution_count": null,
      "metadata": {
        "id": "Y-z1yn0ol2LL"
      },
      "outputs": [],
      "source": [
        "torch.save(obj=modelv2.state_dict(),\n",
        "             f=\"gpu_trained_lin_reg.pth\")"
      ]
    },
    {
      "cell_type": "markdown",
      "metadata": {
        "id": "NeiySFCupPwK"
      },
      "source": [
        "current timestamp - 8:32:00"
      ]
    }
  ],
  "metadata": {
    "colab": {
      "provenance": []
    },
    "kernelspec": {
      "display_name": "Python 3",
      "name": "python3"
    },
    "language_info": {
      "name": "python"
    }
  },
  "nbformat": 4,
  "nbformat_minor": 0
}
