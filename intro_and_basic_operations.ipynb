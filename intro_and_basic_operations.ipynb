{
  "cells": [
    {
      "cell_type": "markdown",
      "metadata": {
        "id": "Urxfd3zCKUiE"
      },
      "source": [
        "My First Pytorch notebook"
      ]
    },
    {
      "cell_type": "code",
      "execution_count": 39,
      "metadata": {
        "id": "HdDt6wWM2vDM"
      },
      "outputs": [],
      "source": [
        "import torch"
      ]
    },
    {
      "cell_type": "code",
      "execution_count": 40,
      "metadata": {
        "id": "l8K0WbpN2yQr"
      },
      "outputs": [],
      "source": [
        "x=torch.rand(3,3)"
      ]
    },
    {
      "cell_type": "code",
      "execution_count": 41,
      "metadata": {
        "id": "-n7zyJleJtHj"
      },
      "outputs": [],
      "source": [
        "import pandas as pd"
      ]
    },
    {
      "cell_type": "code",
      "execution_count": 42,
      "metadata": {
        "colab": {
          "base_uri": "https://localhost:8080/"
        },
        "id": "b9PlTBZCJ7ll",
        "outputId": "94dc3e20-5885-4ad1-f42e-d9edc2be9ee5"
      },
      "outputs": [
        {
          "name": "stdout",
          "output_type": "stream",
          "text": [
            "tensor([[0.4808, 0.5772, 0.8880],\n",
            "        [0.0652, 0.6066, 0.7738],\n",
            "        [0.6166, 0.3378, 0.0688]])\n"
          ]
        }
      ],
      "source": [
        "print(x)"
      ]
    },
    {
      "cell_type": "code",
      "execution_count": 43,
      "metadata": {
        "colab": {
          "base_uri": "https://localhost:8080/",
          "height": 143
        },
        "id": "4QxH-IANLGGt",
        "outputId": "7bf3755f-b104-45c7-8a4b-da57b2df6abd"
      },
      "outputs": [
        {
          "data": {
            "application/vnd.google.colaboratory.intrinsic+json": {
              "summary": "{\n  \"name\": \"y\",\n  \"rows\": 3,\n  \"fields\": [\n    {\n      \"column\": 0,\n      \"properties\": {\n        \"dtype\": \"float32\",\n        \"num_unique_values\": 3,\n        \"samples\": [\n          0.48075437545776367,\n          0.06524664163589478,\n          0.6166075468063354\n        ],\n        \"semantic_type\": \"\",\n        \"description\": \"\"\n      }\n    },\n    {\n      \"column\": 1,\n      \"properties\": {\n        \"dtype\": \"float32\",\n        \"num_unique_values\": 3,\n        \"samples\": [\n          0.5772049427032471,\n          0.6066036224365234,\n          0.337834894657135\n        ],\n        \"semantic_type\": \"\",\n        \"description\": \"\"\n      }\n    },\n    {\n      \"column\": 2,\n      \"properties\": {\n        \"dtype\": \"float32\",\n        \"num_unique_values\": 3,\n        \"samples\": [\n          0.888027012348175,\n          0.7738154530525208,\n          0.06882935762405396\n        ],\n        \"semantic_type\": \"\",\n        \"description\": \"\"\n      }\n    }\n  ]\n}",
              "type": "dataframe",
              "variable_name": "y"
            },
            "text/html": [
              "\n",
              "  <div id=\"df-da04e318-88ee-4b5c-8c37-339abe0fb718\" class=\"colab-df-container\">\n",
              "    <div>\n",
              "<style scoped>\n",
              "    .dataframe tbody tr th:only-of-type {\n",
              "        vertical-align: middle;\n",
              "    }\n",
              "\n",
              "    .dataframe tbody tr th {\n",
              "        vertical-align: top;\n",
              "    }\n",
              "\n",
              "    .dataframe thead th {\n",
              "        text-align: right;\n",
              "    }\n",
              "</style>\n",
              "<table border=\"1\" class=\"dataframe\">\n",
              "  <thead>\n",
              "    <tr style=\"text-align: right;\">\n",
              "      <th></th>\n",
              "      <th>0</th>\n",
              "      <th>1</th>\n",
              "      <th>2</th>\n",
              "    </tr>\n",
              "  </thead>\n",
              "  <tbody>\n",
              "    <tr>\n",
              "      <th>0</th>\n",
              "      <td>0.480754</td>\n",
              "      <td>0.577205</td>\n",
              "      <td>0.888027</td>\n",
              "    </tr>\n",
              "    <tr>\n",
              "      <th>1</th>\n",
              "      <td>0.065247</td>\n",
              "      <td>0.606604</td>\n",
              "      <td>0.773815</td>\n",
              "    </tr>\n",
              "    <tr>\n",
              "      <th>2</th>\n",
              "      <td>0.616608</td>\n",
              "      <td>0.337835</td>\n",
              "      <td>0.068829</td>\n",
              "    </tr>\n",
              "  </tbody>\n",
              "</table>\n",
              "</div>\n",
              "    <div class=\"colab-df-buttons\">\n",
              "\n",
              "  <div class=\"colab-df-container\">\n",
              "    <button class=\"colab-df-convert\" onclick=\"convertToInteractive('df-da04e318-88ee-4b5c-8c37-339abe0fb718')\"\n",
              "            title=\"Convert this dataframe to an interactive table.\"\n",
              "            style=\"display:none;\">\n",
              "\n",
              "  <svg xmlns=\"http://www.w3.org/2000/svg\" height=\"24px\" viewBox=\"0 -960 960 960\">\n",
              "    <path d=\"M120-120v-720h720v720H120Zm60-500h600v-160H180v160Zm220 220h160v-160H400v160Zm0 220h160v-160H400v160ZM180-400h160v-160H180v160Zm440 0h160v-160H620v160ZM180-180h160v-160H180v160Zm440 0h160v-160H620v160Z\"/>\n",
              "  </svg>\n",
              "    </button>\n",
              "\n",
              "  <style>\n",
              "    .colab-df-container {\n",
              "      display:flex;\n",
              "      gap: 12px;\n",
              "    }\n",
              "\n",
              "    .colab-df-convert {\n",
              "      background-color: #E8F0FE;\n",
              "      border: none;\n",
              "      border-radius: 50%;\n",
              "      cursor: pointer;\n",
              "      display: none;\n",
              "      fill: #1967D2;\n",
              "      height: 32px;\n",
              "      padding: 0 0 0 0;\n",
              "      width: 32px;\n",
              "    }\n",
              "\n",
              "    .colab-df-convert:hover {\n",
              "      background-color: #E2EBFA;\n",
              "      box-shadow: 0px 1px 2px rgba(60, 64, 67, 0.3), 0px 1px 3px 1px rgba(60, 64, 67, 0.15);\n",
              "      fill: #174EA6;\n",
              "    }\n",
              "\n",
              "    .colab-df-buttons div {\n",
              "      margin-bottom: 4px;\n",
              "    }\n",
              "\n",
              "    [theme=dark] .colab-df-convert {\n",
              "      background-color: #3B4455;\n",
              "      fill: #D2E3FC;\n",
              "    }\n",
              "\n",
              "    [theme=dark] .colab-df-convert:hover {\n",
              "      background-color: #434B5C;\n",
              "      box-shadow: 0px 1px 3px 1px rgba(0, 0, 0, 0.15);\n",
              "      filter: drop-shadow(0px 1px 2px rgba(0, 0, 0, 0.3));\n",
              "      fill: #FFFFFF;\n",
              "    }\n",
              "  </style>\n",
              "\n",
              "    <script>\n",
              "      const buttonEl =\n",
              "        document.querySelector('#df-da04e318-88ee-4b5c-8c37-339abe0fb718 button.colab-df-convert');\n",
              "      buttonEl.style.display =\n",
              "        google.colab.kernel.accessAllowed ? 'block' : 'none';\n",
              "\n",
              "      async function convertToInteractive(key) {\n",
              "        const element = document.querySelector('#df-da04e318-88ee-4b5c-8c37-339abe0fb718');\n",
              "        const dataTable =\n",
              "          await google.colab.kernel.invokeFunction('convertToInteractive',\n",
              "                                                    [key], {});\n",
              "        if (!dataTable) return;\n",
              "\n",
              "        const docLinkHtml = 'Like what you see? Visit the ' +\n",
              "          '<a target=\"_blank\" href=https://colab.research.google.com/notebooks/data_table.ipynb>data table notebook</a>'\n",
              "          + ' to learn more about interactive tables.';\n",
              "        element.innerHTML = '';\n",
              "        dataTable['output_type'] = 'display_data';\n",
              "        await google.colab.output.renderOutput(dataTable, element);\n",
              "        const docLink = document.createElement('div');\n",
              "        docLink.innerHTML = docLinkHtml;\n",
              "        element.appendChild(docLink);\n",
              "      }\n",
              "    </script>\n",
              "  </div>\n",
              "\n",
              "\n",
              "<div id=\"df-b92e2b11-53fe-47f1-ba8a-c3149e77c558\">\n",
              "  <button class=\"colab-df-quickchart\" onclick=\"quickchart('df-b92e2b11-53fe-47f1-ba8a-c3149e77c558')\"\n",
              "            title=\"Suggest charts\"\n",
              "            style=\"display:none;\">\n",
              "\n",
              "<svg xmlns=\"http://www.w3.org/2000/svg\" height=\"24px\"viewBox=\"0 0 24 24\"\n",
              "     width=\"24px\">\n",
              "    <g>\n",
              "        <path d=\"M19 3H5c-1.1 0-2 .9-2 2v14c0 1.1.9 2 2 2h14c1.1 0 2-.9 2-2V5c0-1.1-.9-2-2-2zM9 17H7v-7h2v7zm4 0h-2V7h2v10zm4 0h-2v-4h2v4z\"/>\n",
              "    </g>\n",
              "</svg>\n",
              "  </button>\n",
              "\n",
              "<style>\n",
              "  .colab-df-quickchart {\n",
              "      --bg-color: #E8F0FE;\n",
              "      --fill-color: #1967D2;\n",
              "      --hover-bg-color: #E2EBFA;\n",
              "      --hover-fill-color: #174EA6;\n",
              "      --disabled-fill-color: #AAA;\n",
              "      --disabled-bg-color: #DDD;\n",
              "  }\n",
              "\n",
              "  [theme=dark] .colab-df-quickchart {\n",
              "      --bg-color: #3B4455;\n",
              "      --fill-color: #D2E3FC;\n",
              "      --hover-bg-color: #434B5C;\n",
              "      --hover-fill-color: #FFFFFF;\n",
              "      --disabled-bg-color: #3B4455;\n",
              "      --disabled-fill-color: #666;\n",
              "  }\n",
              "\n",
              "  .colab-df-quickchart {\n",
              "    background-color: var(--bg-color);\n",
              "    border: none;\n",
              "    border-radius: 50%;\n",
              "    cursor: pointer;\n",
              "    display: none;\n",
              "    fill: var(--fill-color);\n",
              "    height: 32px;\n",
              "    padding: 0;\n",
              "    width: 32px;\n",
              "  }\n",
              "\n",
              "  .colab-df-quickchart:hover {\n",
              "    background-color: var(--hover-bg-color);\n",
              "    box-shadow: 0 1px 2px rgba(60, 64, 67, 0.3), 0 1px 3px 1px rgba(60, 64, 67, 0.15);\n",
              "    fill: var(--button-hover-fill-color);\n",
              "  }\n",
              "\n",
              "  .colab-df-quickchart-complete:disabled,\n",
              "  .colab-df-quickchart-complete:disabled:hover {\n",
              "    background-color: var(--disabled-bg-color);\n",
              "    fill: var(--disabled-fill-color);\n",
              "    box-shadow: none;\n",
              "  }\n",
              "\n",
              "  .colab-df-spinner {\n",
              "    border: 2px solid var(--fill-color);\n",
              "    border-color: transparent;\n",
              "    border-bottom-color: var(--fill-color);\n",
              "    animation:\n",
              "      spin 1s steps(1) infinite;\n",
              "  }\n",
              "\n",
              "  @keyframes spin {\n",
              "    0% {\n",
              "      border-color: transparent;\n",
              "      border-bottom-color: var(--fill-color);\n",
              "      border-left-color: var(--fill-color);\n",
              "    }\n",
              "    20% {\n",
              "      border-color: transparent;\n",
              "      border-left-color: var(--fill-color);\n",
              "      border-top-color: var(--fill-color);\n",
              "    }\n",
              "    30% {\n",
              "      border-color: transparent;\n",
              "      border-left-color: var(--fill-color);\n",
              "      border-top-color: var(--fill-color);\n",
              "      border-right-color: var(--fill-color);\n",
              "    }\n",
              "    40% {\n",
              "      border-color: transparent;\n",
              "      border-right-color: var(--fill-color);\n",
              "      border-top-color: var(--fill-color);\n",
              "    }\n",
              "    60% {\n",
              "      border-color: transparent;\n",
              "      border-right-color: var(--fill-color);\n",
              "    }\n",
              "    80% {\n",
              "      border-color: transparent;\n",
              "      border-right-color: var(--fill-color);\n",
              "      border-bottom-color: var(--fill-color);\n",
              "    }\n",
              "    90% {\n",
              "      border-color: transparent;\n",
              "      border-bottom-color: var(--fill-color);\n",
              "    }\n",
              "  }\n",
              "</style>\n",
              "\n",
              "  <script>\n",
              "    async function quickchart(key) {\n",
              "      const quickchartButtonEl =\n",
              "        document.querySelector('#' + key + ' button');\n",
              "      quickchartButtonEl.disabled = true;  // To prevent multiple clicks.\n",
              "      quickchartButtonEl.classList.add('colab-df-spinner');\n",
              "      try {\n",
              "        const charts = await google.colab.kernel.invokeFunction(\n",
              "            'suggestCharts', [key], {});\n",
              "      } catch (error) {\n",
              "        console.error('Error during call to suggestCharts:', error);\n",
              "      }\n",
              "      quickchartButtonEl.classList.remove('colab-df-spinner');\n",
              "      quickchartButtonEl.classList.add('colab-df-quickchart-complete');\n",
              "    }\n",
              "    (() => {\n",
              "      let quickchartButtonEl =\n",
              "        document.querySelector('#df-b92e2b11-53fe-47f1-ba8a-c3149e77c558 button');\n",
              "      quickchartButtonEl.style.display =\n",
              "        google.colab.kernel.accessAllowed ? 'block' : 'none';\n",
              "    })();\n",
              "  </script>\n",
              "</div>\n",
              "\n",
              "  <div id=\"id_84becfc8-93c2-4140-8953-f350ba691ffc\">\n",
              "    <style>\n",
              "      .colab-df-generate {\n",
              "        background-color: #E8F0FE;\n",
              "        border: none;\n",
              "        border-radius: 50%;\n",
              "        cursor: pointer;\n",
              "        display: none;\n",
              "        fill: #1967D2;\n",
              "        height: 32px;\n",
              "        padding: 0 0 0 0;\n",
              "        width: 32px;\n",
              "      }\n",
              "\n",
              "      .colab-df-generate:hover {\n",
              "        background-color: #E2EBFA;\n",
              "        box-shadow: 0px 1px 2px rgba(60, 64, 67, 0.3), 0px 1px 3px 1px rgba(60, 64, 67, 0.15);\n",
              "        fill: #174EA6;\n",
              "      }\n",
              "\n",
              "      [theme=dark] .colab-df-generate {\n",
              "        background-color: #3B4455;\n",
              "        fill: #D2E3FC;\n",
              "      }\n",
              "\n",
              "      [theme=dark] .colab-df-generate:hover {\n",
              "        background-color: #434B5C;\n",
              "        box-shadow: 0px 1px 3px 1px rgba(0, 0, 0, 0.15);\n",
              "        filter: drop-shadow(0px 1px 2px rgba(0, 0, 0, 0.3));\n",
              "        fill: #FFFFFF;\n",
              "      }\n",
              "    </style>\n",
              "    <button class=\"colab-df-generate\" onclick=\"generateWithVariable('y')\"\n",
              "            title=\"Generate code using this dataframe.\"\n",
              "            style=\"display:none;\">\n",
              "\n",
              "  <svg xmlns=\"http://www.w3.org/2000/svg\" height=\"24px\"viewBox=\"0 0 24 24\"\n",
              "       width=\"24px\">\n",
              "    <path d=\"M7,19H8.4L18.45,9,17,7.55,7,17.6ZM5,21V16.75L18.45,3.32a2,2,0,0,1,2.83,0l1.4,1.43a1.91,1.91,0,0,1,.58,1.4,1.91,1.91,0,0,1-.58,1.4L9.25,21ZM18.45,9,17,7.55Zm-12,3A5.31,5.31,0,0,0,4.9,8.1,5.31,5.31,0,0,0,1,6.5,5.31,5.31,0,0,0,4.9,4.9,5.31,5.31,0,0,0,6.5,1,5.31,5.31,0,0,0,8.1,4.9,5.31,5.31,0,0,0,12,6.5,5.46,5.46,0,0,0,6.5,12Z\"/>\n",
              "  </svg>\n",
              "    </button>\n",
              "    <script>\n",
              "      (() => {\n",
              "      const buttonEl =\n",
              "        document.querySelector('#id_84becfc8-93c2-4140-8953-f350ba691ffc button.colab-df-generate');\n",
              "      buttonEl.style.display =\n",
              "        google.colab.kernel.accessAllowed ? 'block' : 'none';\n",
              "\n",
              "      buttonEl.onclick = () => {\n",
              "        google.colab.notebook.generateWithVariable('y');\n",
              "      }\n",
              "      })();\n",
              "    </script>\n",
              "  </div>\n",
              "\n",
              "    </div>\n",
              "  </div>\n"
            ],
            "text/plain": [
              "          0         1         2\n",
              "0  0.480754  0.577205  0.888027\n",
              "1  0.065247  0.606604  0.773815\n",
              "2  0.616608  0.337835  0.068829"
            ]
          },
          "execution_count": 43,
          "metadata": {},
          "output_type": "execute_result"
        }
      ],
      "source": [
        "y=pd.DataFrame(x)\n",
        "y"
      ]
    },
    {
      "cell_type": "code",
      "execution_count": 44,
      "metadata": {
        "colab": {
          "base_uri": "https://localhost:8080/"
        },
        "id": "Vqa7Dn9-LKSe",
        "outputId": "a2c8940b-074a-4cc7-83fa-bf8e0f2557d1"
      },
      "outputs": [
        {
          "name": "stdout",
          "output_type": "stream",
          "text": [
            "2.2.1+cu121\n"
          ]
        }
      ],
      "source": [
        "print(torch.__version__)"
      ]
    },
    {
      "cell_type": "markdown",
      "metadata": {
        "id": "_zCWXqnGNir0"
      },
      "source": [
        "Deep Learning is a subset of machine learning"
      ]
    },
    {
      "cell_type": "markdown",
      "metadata": {
        "id": "UTh17dBqN9Sl"
      },
      "source": [
        "Introduction to Tensors"
      ]
    },
    {
      "cell_type": "code",
      "execution_count": 45,
      "metadata": {
        "colab": {
          "base_uri": "https://localhost:8080/"
        },
        "id": "8Pm3d8dqOKD0",
        "outputId": "3014b838-752d-4aae-feba-7fccacfe7c7a"
      },
      "outputs": [
        {
          "name": "stderr",
          "output_type": "stream",
          "text": [
            "<ipython-input-45-47c3021c4d95>:1: UserWarning: To copy construct from a tensor, it is recommended to use sourceTensor.clone().detach() or sourceTensor.clone().detach().requires_grad_(True), rather than torch.tensor(sourceTensor).\n",
            "  scalr = torch.tensor(x)\n"
          ]
        },
        {
          "data": {
            "text/plain": [
              "tensor([[0.4808, 0.5772, 0.8880],\n",
              "        [0.0652, 0.6066, 0.7738],\n",
              "        [0.6166, 0.3378, 0.0688]])"
            ]
          },
          "execution_count": 45,
          "metadata": {},
          "output_type": "execute_result"
        }
      ],
      "source": [
        "scalr = torch.tensor(x)\n",
        "scalr"
      ]
    },
    {
      "cell_type": "code",
      "execution_count": 46,
      "metadata": {
        "colab": {
          "base_uri": "https://localhost:8080/"
        },
        "id": "9ka2wayiOXxf",
        "outputId": "e46e51d5-7ea1-4615-9539-abdf37dad739"
      },
      "outputs": [
        {
          "data": {
            "text/plain": [
              "tensor([7, 7])"
            ]
          },
          "execution_count": 46,
          "metadata": {},
          "output_type": "execute_result"
        }
      ],
      "source": [
        "scalar = torch.tensor([7,7])\n",
        "scalar"
      ]
    },
    {
      "cell_type": "code",
      "execution_count": 47,
      "metadata": {
        "colab": {
          "base_uri": "https://localhost:8080/"
        },
        "id": "bNi9Kyp5PJS9",
        "outputId": "479e09ed-ae49-4f36-c90d-dd96c8525507"
      },
      "outputs": [
        {
          "data": {
            "text/plain": [
              "torch.Tensor"
            ]
          },
          "execution_count": 47,
          "metadata": {},
          "output_type": "execute_result"
        }
      ],
      "source": [
        "type(scalar)"
      ]
    },
    {
      "cell_type": "code",
      "execution_count": 48,
      "metadata": {
        "colab": {
          "base_uri": "https://localhost:8080/"
        },
        "id": "Vxoddfb7POwl",
        "outputId": "72f2bd83-085d-4317-cd0b-b5a9509a474a"
      },
      "outputs": [
        {
          "data": {
            "text/plain": [
              "int"
            ]
          },
          "execution_count": 48,
          "metadata": {},
          "output_type": "execute_result"
        }
      ],
      "source": [
        "seven = torch.tensor(43)\n",
        "type(seven.item())"
      ]
    },
    {
      "cell_type": "code",
      "execution_count": 49,
      "metadata": {
        "id": "5BuGX9lLPVJv"
      },
      "outputs": [],
      "source": [
        "import numpy as np"
      ]
    },
    {
      "cell_type": "code",
      "execution_count": 50,
      "metadata": {
        "colab": {
          "base_uri": "https://localhost:8080/"
        },
        "id": "lSOzU_BWQKHd",
        "outputId": "6cdcacab-c523-4c4c-8d6a-4287fd498a7e"
      },
      "outputs": [
        {
          "data": {
            "text/plain": [
              "array(43)"
            ]
          },
          "execution_count": 50,
          "metadata": {},
          "output_type": "execute_result"
        }
      ],
      "source": [
        "seven.numpy()"
      ]
    },
    {
      "cell_type": "code",
      "execution_count": 51,
      "metadata": {
        "colab": {
          "base_uri": "https://localhost:8080/"
        },
        "id": "iFtYQ2CPQL8E",
        "outputId": "20391b9d-10c7-4f70-984a-3ca7a002c5a1"
      },
      "outputs": [
        {
          "data": {
            "text/plain": [
              "array([7, 7])"
            ]
          },
          "execution_count": 51,
          "metadata": {},
          "output_type": "execute_result"
        }
      ],
      "source": [
        "scalar.numpy()"
      ]
    },
    {
      "cell_type": "code",
      "execution_count": 52,
      "metadata": {
        "colab": {
          "base_uri": "https://localhost:8080/"
        },
        "id": "OGSSQEIUQOoU",
        "outputId": "84fec87a-c238-4ee7-cdd8-a6ad2153990e"
      },
      "outputs": [
        {
          "data": {
            "text/plain": [
              "array([[0.48075438, 0.57720494, 0.888027  ],\n",
              "       [0.06524664, 0.6066036 , 0.77381545],\n",
              "       [0.61660755, 0.3378349 , 0.06882936]], dtype=float32)"
            ]
          },
          "execution_count": 52,
          "metadata": {},
          "output_type": "execute_result"
        }
      ],
      "source": [
        "scalr.numpy()"
      ]
    },
    {
      "cell_type": "code",
      "execution_count": 53,
      "metadata": {
        "colab": {
          "base_uri": "https://localhost:8080/"
        },
        "id": "Hndq7yJ6QRvt",
        "outputId": "e5618e7b-0bf2-44ce-e3f3-07a731be0dea"
      },
      "outputs": [
        {
          "data": {
            "text/plain": [
              "1"
            ]
          },
          "execution_count": 53,
          "metadata": {},
          "output_type": "execute_result"
        }
      ],
      "source": [
        "scalar.ndim"
      ]
    },
    {
      "cell_type": "code",
      "execution_count": 54,
      "metadata": {
        "colab": {
          "base_uri": "https://localhost:8080/"
        },
        "id": "IF7ky6dVQplH",
        "outputId": "7984c241-4327-4bac-c726-1abe8c36a5e1"
      },
      "outputs": [
        {
          "data": {
            "text/plain": [
              "2"
            ]
          },
          "execution_count": 54,
          "metadata": {},
          "output_type": "execute_result"
        }
      ],
      "source": [
        "scalr.ndim"
      ]
    },
    {
      "cell_type": "code",
      "execution_count": 55,
      "metadata": {
        "colab": {
          "base_uri": "https://localhost:8080/"
        },
        "id": "OfJIRp49Q_r6",
        "outputId": "b4c8297b-8b4e-4484-a6b7-f929fc140eb4"
      },
      "outputs": [
        {
          "data": {
            "text/plain": [
              "torch.Size([3, 3])"
            ]
          },
          "execution_count": 55,
          "metadata": {},
          "output_type": "execute_result"
        }
      ],
      "source": [
        "scalr.shape"
      ]
    },
    {
      "cell_type": "code",
      "execution_count": 56,
      "metadata": {
        "colab": {
          "base_uri": "https://localhost:8080/"
        },
        "id": "WSV_lsY4RRVU",
        "outputId": "e079ea4e-3101-41ce-fed3-ffbc54a67d23"
      },
      "outputs": [
        {
          "data": {
            "text/plain": [
              "torch.Size([])"
            ]
          },
          "execution_count": 56,
          "metadata": {},
          "output_type": "execute_result"
        }
      ],
      "source": [
        "seven.shape"
      ]
    },
    {
      "cell_type": "code",
      "execution_count": 57,
      "metadata": {
        "id": "I9eOqavsRV-k"
      },
      "outputs": [],
      "source": [
        "randomTensor = torch.rand([5,6,4,4,3,5])"
      ]
    },
    {
      "cell_type": "code",
      "execution_count": 58,
      "metadata": {
        "colab": {
          "base_uri": "https://localhost:8080/"
        },
        "id": "5mN9gof-RfVl",
        "outputId": "9421de8c-643b-4b89-8495-024245908c87"
      },
      "outputs": [
        {
          "data": {
            "text/plain": [
              "torch.Size([5, 6, 4, 4, 3, 5])"
            ]
          },
          "execution_count": 58,
          "metadata": {},
          "output_type": "execute_result"
        }
      ],
      "source": [
        "randomTensor.shape"
      ]
    },
    {
      "cell_type": "code",
      "execution_count": 59,
      "metadata": {
        "colab": {
          "base_uri": "https://localhost:8080/"
        },
        "id": "BufXWdmlRild",
        "outputId": "2da50062-4487-4114-aec4-cbd362475730"
      },
      "outputs": [
        {
          "data": {
            "text/plain": [
              "6"
            ]
          },
          "execution_count": 59,
          "metadata": {},
          "output_type": "execute_result"
        }
      ],
      "source": [
        "randomTensor.ndim"
      ]
    },
    {
      "cell_type": "code",
      "execution_count": 60,
      "metadata": {
        "colab": {
          "base_uri": "https://localhost:8080/"
        },
        "id": "W1dH0priRmUe",
        "outputId": "04753d4c-576b-491a-ac2b-f085d1aab676"
      },
      "outputs": [
        {
          "data": {
            "text/plain": [
              "tensor([[[[[[9.7521e-01, 5.3913e-01, 9.7885e-01, 6.5641e-01, 9.2666e-01],\n",
              "            [6.6237e-01, 6.6926e-01, 3.7552e-01, 2.2337e-01, 2.3611e-01],\n",
              "            [4.5416e-01, 8.8771e-01, 4.6794e-01, 2.1045e-01, 4.2919e-01]],\n",
              "\n",
              "           [[3.0930e-01, 7.7183e-01, 3.7534e-01, 5.6126e-01, 5.3164e-01],\n",
              "            [8.8063e-01, 3.2517e-01, 3.5457e-01, 4.2957e-01, 8.5349e-01],\n",
              "            [5.9529e-01, 2.6925e-02, 3.1115e-01, 1.3456e-01, 9.0148e-01]],\n",
              "\n",
              "           [[7.5968e-02, 5.3772e-01, 3.9349e-01, 2.5296e-01, 2.5757e-01],\n",
              "            [8.4882e-01, 7.7327e-01, 8.1113e-01, 4.6902e-01, 8.3750e-01],\n",
              "            [5.7340e-01, 6.0102e-01, 4.1988e-01, 5.3600e-01, 8.9467e-01]],\n",
              "\n",
              "           [[7.8004e-01, 4.6351e-01, 9.8923e-02, 3.3709e-01, 3.7027e-02],\n",
              "            [4.3605e-01, 8.3834e-01, 2.6535e-01, 4.8176e-02, 8.5461e-01],\n",
              "            [3.5892e-01, 3.7642e-01, 4.8668e-01, 8.3531e-02, 1.8914e-01]]],\n",
              "\n",
              "\n",
              "          [[[7.2814e-01, 6.3113e-01, 3.8979e-01, 2.6008e-01, 1.0325e-01],\n",
              "            [9.1336e-01, 6.0945e-01, 8.5774e-01, 5.4441e-01, 1.4055e-01],\n",
              "            [1.3551e-01, 2.4649e-01, 9.3732e-01, 5.3800e-02, 9.4099e-01]],\n",
              "\n",
              "           [[1.5801e-01, 8.5018e-01, 7.2049e-02, 6.2743e-01, 7.3349e-01],\n",
              "            [3.8866e-01, 9.8175e-01, 3.0995e-01, 7.9849e-01, 2.4517e-01],\n",
              "            [3.2273e-01, 4.2492e-01, 5.5839e-02, 8.3643e-01, 6.3102e-01]],\n",
              "\n",
              "           [[3.7844e-01, 8.9695e-02, 2.8992e-01, 8.9778e-01, 9.0103e-01],\n",
              "            [2.1618e-01, 6.4382e-01, 3.8260e-01, 1.9073e-01, 7.9022e-01],\n",
              "            [6.2244e-01, 6.4618e-01, 4.0564e-01, 5.5085e-01, 5.6067e-01]],\n",
              "\n",
              "           [[3.9434e-01, 2.4716e-01, 9.8320e-03, 1.2999e-02, 8.6998e-01],\n",
              "            [3.1370e-01, 3.5770e-01, 2.7704e-02, 4.9412e-01, 4.2973e-01],\n",
              "            [9.7372e-03, 2.3003e-02, 1.1195e-01, 8.8174e-01, 3.2566e-01]]],\n",
              "\n",
              "\n",
              "          [[[9.8584e-01, 3.6956e-02, 9.7595e-01, 4.1901e-01, 7.4463e-01],\n",
              "            [6.0499e-01, 9.1078e-01, 4.5645e-01, 2.4677e-01, 6.1997e-01],\n",
              "            [6.9782e-01, 1.0306e-02, 8.3216e-01, 1.9661e-01, 2.2153e-01]],\n",
              "\n",
              "           [[9.8957e-01, 7.4620e-01, 2.1641e-01, 8.2695e-01, 2.0731e-01],\n",
              "            [6.0544e-01, 1.6819e-02, 2.6802e-01, 1.9585e-01, 2.5232e-01],\n",
              "            [7.3146e-01, 7.6396e-01, 9.0095e-01, 3.0920e-01, 1.2906e-01]],\n",
              "\n",
              "           [[3.5202e-01, 3.5278e-01, 6.3846e-01, 2.0772e-02, 1.7467e-01],\n",
              "            [9.8804e-01, 5.1196e-01, 4.0847e-01, 4.1990e-01, 1.0338e-01],\n",
              "            [5.0573e-01, 6.6290e-01, 8.8768e-01, 2.1019e-01, 2.4163e-01]],\n",
              "\n",
              "           [[5.6098e-02, 7.0229e-01, 3.2062e-01, 3.2343e-01, 5.4061e-01],\n",
              "            [2.1605e-02, 4.0476e-01, 4.8971e-01, 6.1967e-01, 4.2894e-01],\n",
              "            [4.9328e-01, 8.7231e-01, 7.3344e-01, 4.2941e-01, 1.3315e-01]]],\n",
              "\n",
              "\n",
              "          [[[8.6823e-01, 2.5234e-01, 5.0303e-01, 8.7685e-01, 3.6332e-01],\n",
              "            [8.1625e-01, 1.7971e-01, 3.6864e-01, 2.0460e-01, 5.7530e-01],\n",
              "            [8.8446e-01, 6.0468e-01, 9.6999e-01, 1.8205e-01, 3.2096e-01]],\n",
              "\n",
              "           [[6.1941e-01, 9.9589e-01, 8.5516e-01, 7.4644e-03, 4.7391e-01],\n",
              "            [1.9612e-01, 4.6376e-01, 5.6835e-01, 1.4127e-01, 9.9817e-01],\n",
              "            [1.5107e-01, 1.9019e-01, 3.3252e-01, 9.2412e-01, 4.7154e-01]],\n",
              "\n",
              "           [[5.7108e-01, 9.9395e-01, 8.5997e-01, 2.5070e-01, 5.3087e-01],\n",
              "            [6.7697e-01, 8.6329e-01, 7.1986e-01, 4.4341e-01, 6.7520e-01],\n",
              "            [2.3278e-01, 3.4985e-01, 9.9482e-01, 5.1937e-01, 1.1559e-01]],\n",
              "\n",
              "           [[2.0262e-01, 7.1598e-01, 7.4236e-01, 8.9001e-01, 3.8941e-01],\n",
              "            [5.2069e-01, 5.5426e-02, 7.4238e-01, 5.8864e-01, 3.8175e-01],\n",
              "            [6.7526e-01, 2.1193e-01, 2.0747e-01, 3.8694e-01, 5.2393e-01]]]],\n",
              "\n",
              "\n",
              "\n",
              "         [[[[3.6068e-01, 2.8220e-01, 1.1866e-01, 7.6947e-01, 2.4611e-01],\n",
              "            [4.5717e-01, 5.4155e-01, 3.2335e-01, 3.8433e-01, 3.1120e-01],\n",
              "            [3.4829e-02, 4.3193e-01, 2.5733e-01, 5.7592e-01, 8.7935e-01]],\n",
              "\n",
              "           [[1.9573e-01, 3.3347e-01, 2.1143e-01, 2.4102e-01, 2.3437e-01],\n",
              "            [9.0479e-01, 4.4486e-01, 4.8140e-01, 8.2562e-01, 7.0757e-01],\n",
              "            [1.1916e-01, 1.9820e-01, 7.8060e-01, 5.7515e-02, 9.2658e-02]],\n",
              "\n",
              "           [[8.7976e-01, 5.5899e-01, 3.7934e-01, 7.7397e-01, 4.4864e-01],\n",
              "            [3.0152e-01, 3.2791e-02, 8.0999e-01, 3.8485e-01, 9.7893e-02],\n",
              "            [6.2916e-01, 2.6718e-01, 8.0332e-01, 8.7028e-02, 9.3392e-01]],\n",
              "\n",
              "           [[2.0178e-01, 3.4790e-01, 7.0203e-01, 7.0289e-01, 3.0890e-01],\n",
              "            [3.6880e-01, 4.7527e-01, 3.0531e-01, 6.0186e-01, 1.9431e-01],\n",
              "            [2.9026e-01, 1.5875e-01, 4.1495e-01, 6.9095e-01, 7.3121e-01]]],\n",
              "\n",
              "\n",
              "          [[[4.4962e-01, 5.8485e-01, 4.4947e-01, 3.0185e-01, 8.5720e-01],\n",
              "            [4.8774e-01, 6.8111e-01, 5.7971e-01, 2.1862e-01, 1.9778e-02],\n",
              "            [4.4466e-01, 7.5989e-01, 3.0087e-01, 8.6745e-02, 9.4821e-01]],\n",
              "\n",
              "           [[4.4886e-01, 8.3999e-01, 5.6139e-01, 4.9490e-01, 8.2453e-01],\n",
              "            [7.5647e-01, 1.9169e-01, 7.2295e-01, 7.9532e-01, 4.9838e-01],\n",
              "            [4.5476e-01, 1.8511e-01, 4.7892e-01, 9.3996e-02, 9.1766e-02]],\n",
              "\n",
              "           [[6.1335e-01, 4.9939e-01, 6.8763e-01, 9.6321e-02, 1.0600e-01],\n",
              "            [5.4794e-01, 9.8538e-01, 4.5698e-01, 9.8035e-01, 7.2273e-01],\n",
              "            [7.8478e-01, 3.1194e-01, 1.7620e-01, 2.8758e-01, 4.9240e-01]],\n",
              "\n",
              "           [[9.8430e-01, 9.1866e-02, 5.5657e-01, 8.0242e-01, 4.8106e-01],\n",
              "            [6.0167e-01, 6.9956e-01, 9.4715e-01, 9.0690e-01, 2.6517e-01],\n",
              "            [6.2543e-01, 6.4829e-01, 5.3637e-01, 3.0146e-01, 2.8212e-01]]],\n",
              "\n",
              "\n",
              "          [[[2.0245e-01, 4.7672e-01, 4.9925e-01, 5.7129e-01, 3.9376e-01],\n",
              "            [5.8865e-01, 8.8386e-01, 7.6424e-01, 4.5853e-01, 3.1468e-01],\n",
              "            [7.4171e-01, 5.4178e-01, 6.7392e-01, 1.0486e-01, 3.9098e-02]],\n",
              "\n",
              "           [[2.2983e-01, 8.2727e-01, 1.2135e-01, 3.8458e-01, 3.1521e-01],\n",
              "            [9.8154e-01, 6.5500e-01, 8.7533e-01, 9.1985e-01, 8.0588e-01],\n",
              "            [5.8160e-01, 3.8280e-01, 3.5987e-01, 8.2315e-01, 2.9454e-01]],\n",
              "\n",
              "           [[7.1978e-01, 2.1752e-01, 6.4750e-01, 6.4996e-01, 2.8465e-01],\n",
              "            [7.8565e-01, 3.1384e-01, 6.1115e-01, 9.2751e-01, 9.1412e-02],\n",
              "            [6.0463e-01, 7.3905e-02, 3.9371e-01, 1.4805e-01, 3.4852e-01]],\n",
              "\n",
              "           [[4.0062e-01, 9.3748e-02, 9.7734e-01, 2.5125e-01, 6.5216e-02],\n",
              "            [4.7215e-01, 6.1484e-01, 6.2138e-01, 9.7874e-01, 8.3685e-01],\n",
              "            [8.9566e-01, 8.9832e-01, 2.4311e-01, 9.6961e-02, 4.0359e-01]]],\n",
              "\n",
              "\n",
              "          [[[4.0691e-01, 5.2002e-02, 4.8463e-01, 4.2973e-01, 3.2878e-01],\n",
              "            [5.5649e-01, 1.5581e-01, 9.7280e-01, 5.1530e-01, 3.3641e-01],\n",
              "            [4.8030e-01, 3.1566e-01, 6.6413e-01, 5.5575e-01, 9.2910e-01]],\n",
              "\n",
              "           [[8.3990e-01, 4.3586e-01, 3.6049e-01, 8.6801e-01, 6.2187e-01],\n",
              "            [5.5455e-01, 5.2737e-01, 5.3902e-01, 9.2707e-01, 5.3098e-01],\n",
              "            [8.7796e-01, 6.5419e-02, 2.4665e-01, 9.9659e-01, 7.4382e-01]],\n",
              "\n",
              "           [[7.0084e-02, 2.0121e-01, 8.2361e-01, 3.6570e-01, 3.9010e-01],\n",
              "            [8.7551e-01, 3.6110e-01, 1.1769e-02, 8.2401e-01, 3.0851e-01],\n",
              "            [7.6420e-01, 2.1010e-01, 6.3935e-01, 6.4116e-01, 8.4215e-01]],\n",
              "\n",
              "           [[8.6053e-01, 9.7244e-01, 4.6167e-01, 8.2961e-01, 2.5144e-01],\n",
              "            [1.1464e-01, 9.5056e-01, 2.1680e-02, 8.9916e-01, 1.1672e-02],\n",
              "            [7.7580e-01, 1.5084e-01, 9.6731e-01, 4.6892e-01, 3.0500e-03]]]],\n",
              "\n",
              "\n",
              "\n",
              "         [[[[6.2300e-01, 8.5629e-02, 6.1031e-01, 7.5353e-01, 8.4507e-01],\n",
              "            [5.1965e-01, 9.2992e-01, 2.5236e-01, 1.4612e-01, 8.7733e-01],\n",
              "            [6.0491e-01, 9.5096e-01, 5.0349e-02, 9.2582e-02, 4.0079e-01]],\n",
              "\n",
              "           [[2.7296e-01, 7.4630e-01, 3.9887e-01, 6.5581e-01, 1.2743e-01],\n",
              "            [7.2824e-01, 3.9902e-01, 2.9760e-01, 9.9549e-01, 8.9728e-01],\n",
              "            [8.9506e-01, 7.4214e-01, 6.3838e-01, 3.7535e-01, 1.7321e-01]],\n",
              "\n",
              "           [[4.0213e-02, 1.1614e-01, 9.3883e-01, 9.1333e-01, 9.2745e-01],\n",
              "            [6.8331e-01, 2.1017e-01, 8.2761e-01, 8.3615e-01, 7.8853e-01],\n",
              "            [1.0615e-01, 4.5259e-01, 4.5693e-02, 7.5721e-01, 5.1871e-01]],\n",
              "\n",
              "           [[1.2686e-01, 4.7393e-01, 9.3545e-02, 2.0385e-02, 7.0743e-01],\n",
              "            [7.7299e-01, 2.5386e-01, 8.3471e-01, 1.6587e-01, 6.5510e-01],\n",
              "            [4.3572e-01, 7.2950e-01, 7.4113e-01, 6.2242e-01, 8.7543e-01]]],\n",
              "\n",
              "\n",
              "          [[[7.2465e-01, 9.3776e-01, 3.8819e-01, 5.9128e-01, 9.6236e-01],\n",
              "            [6.4802e-02, 9.3343e-01, 7.1315e-01, 1.5575e-01, 9.1552e-01],\n",
              "            [5.8566e-02, 6.3700e-01, 7.5231e-01, 4.1099e-01, 2.2438e-01]],\n",
              "\n",
              "           [[6.6923e-01, 6.0739e-01, 9.8404e-01, 2.8086e-01, 5.3285e-01],\n",
              "            [6.8957e-01, 4.7431e-01, 1.4961e-01, 1.8184e-01, 5.1206e-02],\n",
              "            [8.9211e-01, 2.7646e-01, 4.1209e-01, 7.8621e-01, 9.8819e-01]],\n",
              "\n",
              "           [[9.9995e-01, 2.6277e-01, 8.9922e-01, 8.5103e-01, 8.0377e-01],\n",
              "            [3.3794e-01, 6.1314e-01, 8.0296e-01, 5.5680e-01, 3.6305e-01],\n",
              "            [3.2691e-01, 1.9371e-01, 1.5114e-01, 3.4515e-02, 6.6334e-01]],\n",
              "\n",
              "           [[5.8030e-01, 7.6896e-01, 6.5197e-01, 6.7795e-01, 1.1420e-01],\n",
              "            [7.0338e-01, 1.9867e-01, 5.0232e-01, 3.6656e-01, 4.9450e-01],\n",
              "            [1.9024e-01, 3.0732e-01, 5.3920e-01, 6.5545e-01, 1.3673e-01]]],\n",
              "\n",
              "\n",
              "          [[[6.8916e-01, 4.3763e-01, 4.4783e-01, 7.6573e-01, 5.0196e-01],\n",
              "            [7.6732e-01, 7.2322e-01, 6.1931e-01, 2.7677e-01, 7.2395e-01],\n",
              "            [2.3365e-01, 4.7307e-01, 1.3207e-01, 7.9292e-01, 1.3537e-01]],\n",
              "\n",
              "           [[7.3013e-01, 3.7152e-02, 5.4312e-01, 2.1335e-01, 4.8343e-01],\n",
              "            [9.5600e-01, 7.6084e-01, 8.9853e-01, 8.5673e-01, 9.7000e-01],\n",
              "            [3.2488e-01, 1.2379e-02, 9.2810e-01, 1.4670e-01, 5.9127e-01]],\n",
              "\n",
              "           [[2.1334e-01, 9.8507e-01, 4.8309e-01, 8.9754e-01, 5.4776e-01],\n",
              "            [7.7492e-02, 8.0202e-01, 5.7284e-01, 1.3818e-02, 3.8335e-01],\n",
              "            [2.4896e-01, 6.9099e-01, 5.4283e-01, 1.4406e-01, 2.3224e-01]],\n",
              "\n",
              "           [[6.0673e-01, 7.3648e-01, 5.7184e-01, 8.5352e-01, 1.9321e-01],\n",
              "            [2.6031e-01, 3.0647e-01, 1.4991e-01, 5.4666e-01, 6.1265e-01],\n",
              "            [9.5275e-01, 7.5407e-01, 8.4160e-01, 9.8295e-01, 2.3299e-01]]],\n",
              "\n",
              "\n",
              "          [[[2.4262e-01, 2.8909e-01, 2.8877e-01, 4.3913e-01, 3.6070e-01],\n",
              "            [2.4247e-01, 7.7348e-01, 6.8219e-02, 9.9763e-01, 6.0151e-01],\n",
              "            [8.9502e-01, 4.3480e-01, 9.8455e-01, 1.6708e-01, 2.8022e-01]],\n",
              "\n",
              "           [[1.0399e-01, 1.0610e-01, 9.7846e-01, 6.2671e-01, 6.2635e-01],\n",
              "            [9.5788e-01, 3.0285e-01, 5.4689e-01, 2.3521e-01, 3.4525e-01],\n",
              "            [5.5292e-01, 6.5038e-01, 5.3499e-01, 2.0974e-01, 4.5814e-01]],\n",
              "\n",
              "           [[1.8180e-01, 2.5315e-02, 5.1956e-01, 6.5258e-01, 2.9897e-01],\n",
              "            [3.7505e-01, 8.0451e-01, 2.4776e-01, 1.6788e-01, 9.5147e-01],\n",
              "            [1.4483e-01, 7.9969e-01, 6.4781e-01, 3.8586e-01, 5.8938e-01]],\n",
              "\n",
              "           [[2.3290e-01, 1.9661e-02, 3.1659e-01, 4.3019e-01, 3.4338e-01],\n",
              "            [6.1467e-01, 5.0940e-01, 2.1395e-02, 3.5616e-01, 9.9993e-01],\n",
              "            [1.9561e-03, 5.4850e-01, 4.2162e-01, 8.3185e-01, 6.9414e-01]]]],\n",
              "\n",
              "\n",
              "\n",
              "         [[[[9.5288e-02, 9.2638e-01, 3.8204e-01, 8.9691e-01, 2.0816e-01],\n",
              "            [3.2664e-01, 8.2876e-01, 9.9054e-01, 3.0024e-01, 4.5926e-01],\n",
              "            [5.2392e-01, 3.7879e-01, 4.1679e-01, 1.0560e-01, 7.3482e-01]],\n",
              "\n",
              "           [[8.2518e-01, 5.5198e-01, 8.8874e-01, 8.9326e-01, 5.4606e-01],\n",
              "            [3.5327e-01, 6.2880e-01, 5.9434e-01, 4.4501e-01, 5.0700e-01],\n",
              "            [8.0160e-01, 3.1811e-01, 1.7296e-01, 1.4238e-01, 2.7534e-01]],\n",
              "\n",
              "           [[5.7653e-01, 4.6072e-01, 4.8595e-01, 8.0762e-01, 9.1861e-01],\n",
              "            [3.1327e-01, 7.9464e-01, 7.1561e-01, 1.0688e-01, 5.7378e-01],\n",
              "            [8.4424e-01, 7.5004e-01, 5.2353e-01, 5.2724e-01, 2.9678e-01]],\n",
              "\n",
              "           [[2.4659e-01, 1.5916e-01, 5.6275e-01, 6.8286e-01, 8.4357e-01],\n",
              "            [5.6355e-01, 1.1003e-01, 5.4674e-01, 6.2541e-02, 1.4792e-01],\n",
              "            [9.8076e-02, 3.8577e-01, 4.3339e-01, 1.1897e-02, 9.9644e-01]]],\n",
              "\n",
              "\n",
              "          [[[9.1742e-01, 6.3671e-02, 5.3148e-01, 3.4148e-01, 1.0987e-01],\n",
              "            [9.2424e-01, 9.9390e-01, 8.3549e-01, 1.0513e-01, 1.6118e-01],\n",
              "            [5.4053e-01, 7.9759e-01, 7.0121e-01, 7.5096e-01, 4.5024e-01]],\n",
              "\n",
              "           [[9.5177e-01, 2.5178e-02, 1.8214e-01, 4.7293e-01, 3.9657e-01],\n",
              "            [9.7336e-01, 8.1939e-01, 3.5020e-01, 1.3204e-01, 5.7479e-01],\n",
              "            [4.2541e-01, 3.2249e-01, 1.2625e-01, 8.0673e-01, 9.6031e-01]],\n",
              "\n",
              "           [[7.6111e-01, 9.6128e-01, 1.7772e-01, 5.9736e-01, 9.2955e-01],\n",
              "            [5.1037e-01, 3.7402e-01, 3.3681e-01, 6.6656e-01, 1.6950e-01],\n",
              "            [7.7584e-01, 2.9069e-01, 9.6264e-01, 7.7270e-01, 3.8917e-01]],\n",
              "\n",
              "           [[2.4321e-01, 5.5943e-01, 9.4407e-02, 4.1259e-01, 6.1624e-01],\n",
              "            [2.6815e-01, 9.0689e-01, 8.5601e-01, 7.7376e-01, 5.3341e-01],\n",
              "            [9.6875e-04, 2.7113e-01, 3.5643e-01, 2.0477e-01, 7.7101e-01]]],\n",
              "\n",
              "\n",
              "          [[[1.9456e-01, 6.2107e-01, 3.7275e-01, 9.5447e-01, 8.9709e-01],\n",
              "            [4.5937e-01, 9.2548e-01, 9.5827e-02, 8.2274e-01, 8.7455e-01],\n",
              "            [9.6656e-01, 5.9254e-01, 1.1385e-01, 6.7272e-01, 5.2092e-01]],\n",
              "\n",
              "           [[8.1039e-01, 6.8790e-01, 5.8080e-02, 4.8636e-02, 7.4445e-02],\n",
              "            [4.6055e-01, 8.9296e-01, 5.6979e-01, 5.6395e-01, 3.2031e-01],\n",
              "            [6.3534e-01, 7.1570e-01, 6.0179e-01, 7.9175e-01, 4.8762e-01]],\n",
              "\n",
              "           [[1.6592e-01, 2.7510e-01, 2.4935e-01, 8.0417e-01, 4.6810e-01],\n",
              "            [4.1211e-01, 4.6866e-01, 3.8295e-01, 5.4873e-01, 8.2767e-01],\n",
              "            [4.5671e-01, 9.8450e-01, 9.1047e-01, 5.4512e-01, 3.7203e-01]],\n",
              "\n",
              "           [[7.4097e-01, 9.9710e-02, 4.4865e-01, 2.8078e-01, 5.4672e-01],\n",
              "            [8.7491e-01, 8.8520e-01, 2.6515e-01, 2.1006e-01, 2.5794e-01],\n",
              "            [2.4500e-01, 4.5544e-01, 4.1803e-01, 3.9476e-01, 7.1077e-01]]],\n",
              "\n",
              "\n",
              "          [[[6.6297e-02, 2.3228e-01, 8.9636e-01, 9.2598e-01, 2.9357e-01],\n",
              "            [8.9666e-01, 7.7058e-01, 2.3872e-01, 6.2384e-01, 9.4707e-01],\n",
              "            [5.4033e-01, 6.0265e-01, 8.4989e-01, 5.1670e-01, 7.0719e-02]],\n",
              "\n",
              "           [[3.1126e-01, 2.0138e-01, 6.7164e-01, 9.1300e-01, 5.8270e-01],\n",
              "            [8.2667e-01, 6.2024e-01, 1.5517e-01, 8.8523e-01, 9.2334e-01],\n",
              "            [7.6178e-01, 3.8784e-01, 9.5261e-01, 6.0798e-01, 6.8315e-01]],\n",
              "\n",
              "           [[7.1499e-01, 1.9896e-01, 5.5313e-01, 3.7925e-01, 6.9432e-01],\n",
              "            [5.9676e-01, 6.2933e-01, 8.1392e-01, 8.3746e-01, 8.1358e-01],\n",
              "            [6.8208e-01, 2.3816e-01, 4.8028e-01, 3.5083e-01, 1.5570e-01]],\n",
              "\n",
              "           [[4.0774e-01, 8.5247e-01, 6.2102e-01, 5.4542e-01, 3.9196e-02],\n",
              "            [3.4511e-01, 2.5166e-02, 3.9196e-01, 3.2284e-03, 6.1945e-01],\n",
              "            [8.6839e-01, 6.7729e-01, 3.1551e-01, 7.7312e-01, 4.6597e-01]]]],\n",
              "\n",
              "\n",
              "\n",
              "         [[[[5.4541e-01, 5.1555e-01, 3.2580e-01, 9.9349e-01, 8.1231e-01],\n",
              "            [5.6561e-01, 6.7280e-01, 9.4789e-01, 7.5672e-01, 4.7980e-01],\n",
              "            [5.1438e-01, 5.1329e-01, 2.9971e-01, 3.7423e-02, 3.2500e-01]],\n",
              "\n",
              "           [[1.7973e-01, 2.8352e-01, 9.4644e-01, 7.9069e-01, 7.3601e-01],\n",
              "            [3.9613e-01, 4.8763e-01, 4.7185e-01, 2.4071e-01, 6.9589e-01],\n",
              "            [7.7311e-01, 9.0795e-01, 8.0455e-01, 7.8741e-01, 8.8041e-01]],\n",
              "\n",
              "           [[2.0576e-01, 6.3309e-01, 2.3367e-01, 6.1368e-01, 7.1922e-01],\n",
              "            [3.5243e-01, 5.2114e-01, 3.8174e-01, 5.7332e-01, 4.3522e-01],\n",
              "            [9.7334e-01, 2.4361e-01, 6.6673e-01, 1.1559e-01, 2.9938e-01]],\n",
              "\n",
              "           [[6.6573e-01, 1.7041e-01, 5.5577e-02, 5.6442e-01, 2.7659e-01],\n",
              "            [9.4476e-01, 8.1138e-01, 3.7120e-01, 3.9529e-01, 6.0821e-01],\n",
              "            [5.3782e-01, 1.3272e-01, 3.2248e-01, 4.7645e-01, 6.6378e-01]]],\n",
              "\n",
              "\n",
              "          [[[7.6529e-01, 8.5534e-01, 8.0780e-01, 2.8122e-01, 5.3487e-01],\n",
              "            [3.6916e-01, 4.2987e-01, 7.2015e-01, 6.0401e-01, 3.4548e-01],\n",
              "            [9.0410e-01, 3.5082e-01, 4.7331e-01, 6.9993e-01, 9.5350e-01]],\n",
              "\n",
              "           [[4.2041e-01, 4.3250e-01, 8.8073e-01, 1.8795e-01, 8.5868e-01],\n",
              "            [6.2950e-01, 2.3100e-01, 9.2820e-01, 8.2669e-01, 4.8463e-01],\n",
              "            [6.6570e-01, 6.2602e-01, 8.4152e-01, 2.0391e-01, 1.4139e-01]],\n",
              "\n",
              "           [[7.9743e-01, 9.7666e-01, 7.7065e-01, 5.1603e-01, 7.2063e-01],\n",
              "            [5.2931e-01, 1.8983e-01, 1.4018e-01, 6.8810e-01, 2.1213e-01],\n",
              "            [3.9118e-01, 7.0747e-01, 2.4263e-01, 7.8825e-01, 4.4443e-03]],\n",
              "\n",
              "           [[8.4491e-01, 6.7941e-01, 1.3109e-01, 6.8629e-01, 6.7739e-01],\n",
              "            [5.7508e-01, 6.6300e-01, 1.2345e-01, 8.6122e-01, 6.9658e-01],\n",
              "            [7.6338e-01, 9.3600e-01, 4.1454e-02, 4.7030e-01, 6.0303e-01]]],\n",
              "\n",
              "\n",
              "          [[[4.9968e-02, 1.1706e-01, 6.0294e-01, 5.8316e-01, 7.4657e-01],\n",
              "            [1.9554e-01, 4.0178e-01, 9.7323e-01, 2.9598e-01, 6.8897e-01],\n",
              "            [2.8249e-01, 4.8370e-01, 9.7830e-01, 2.1772e-01, 3.4720e-01]],\n",
              "\n",
              "           [[1.9069e-01, 1.6282e-01, 2.8138e-01, 5.9393e-01, 6.2305e-01],\n",
              "            [4.0242e-01, 7.5767e-01, 5.4348e-01, 9.4618e-01, 8.7114e-01],\n",
              "            [3.9263e-01, 1.8481e-01, 3.9195e-01, 6.6230e-01, 4.6836e-01]],\n",
              "\n",
              "           [[5.3415e-01, 9.7539e-01, 3.3407e-01, 9.6943e-01, 1.8098e-02],\n",
              "            [4.9286e-01, 9.2690e-01, 3.7632e-01, 3.0135e-01, 3.3843e-01],\n",
              "            [6.5943e-03, 8.0306e-01, 7.6589e-01, 8.8890e-01, 8.6152e-01]],\n",
              "\n",
              "           [[6.5505e-01, 2.9816e-01, 9.7615e-01, 5.5794e-01, 3.3678e-01],\n",
              "            [3.6506e-01, 5.7952e-01, 4.6151e-01, 5.0837e-01, 9.2396e-01],\n",
              "            [7.0687e-02, 1.4885e-02, 7.9221e-01, 9.6350e-01, 9.8232e-01]]],\n",
              "\n",
              "\n",
              "          [[[8.0920e-01, 7.0952e-01, 9.6885e-01, 3.1613e-01, 9.8192e-01],\n",
              "            [1.4085e-01, 8.6176e-01, 5.8856e-01, 4.9951e-01, 6.5473e-01],\n",
              "            [3.1706e-01, 1.6695e-01, 3.5133e-01, 3.9362e-01, 1.7833e-01]],\n",
              "\n",
              "           [[1.2199e-03, 2.2492e-01, 2.5385e-01, 4.3480e-01, 6.2596e-02],\n",
              "            [4.3463e-01, 8.0514e-01, 3.6251e-01, 6.3907e-01, 7.2269e-01],\n",
              "            [1.3608e-01, 4.1197e-01, 3.6574e-01, 5.1625e-02, 4.9477e-01]],\n",
              "\n",
              "           [[2.7556e-01, 5.3311e-01, 9.5255e-01, 1.5709e-01, 2.5912e-01],\n",
              "            [3.8246e-01, 9.1124e-01, 5.7151e-01, 2.2850e-01, 9.2646e-01],\n",
              "            [2.4061e-03, 4.7890e-01, 9.0279e-01, 1.5316e-01, 9.3248e-01]],\n",
              "\n",
              "           [[4.7789e-01, 8.1186e-01, 8.5492e-02, 1.1063e-02, 8.3538e-02],\n",
              "            [1.0581e-01, 9.8322e-01, 5.0471e-01, 8.1830e-01, 9.0547e-01],\n",
              "            [7.1520e-04, 8.7251e-01, 1.2215e-01, 6.4289e-01, 7.5333e-01]]]],\n",
              "\n",
              "\n",
              "\n",
              "         [[[[5.6994e-01, 6.5270e-01, 5.1079e-01, 5.6656e-01, 7.1508e-01],\n",
              "            [6.4349e-01, 7.4325e-01, 6.4315e-01, 1.9148e-01, 6.3155e-01],\n",
              "            [2.1809e-01, 9.7033e-01, 8.4923e-01, 2.9244e-01, 6.9275e-01]],\n",
              "\n",
              "           [[7.6829e-01, 6.9620e-01, 4.9997e-01, 4.1023e-01, 8.8113e-02],\n",
              "            [9.3081e-02, 7.8464e-01, 7.5116e-01, 8.5570e-01, 5.7414e-01],\n",
              "            [4.4849e-01, 4.5825e-01, 7.9903e-01, 4.2571e-01, 6.0000e-01]],\n",
              "\n",
              "           [[6.4266e-01, 5.8176e-01, 9.5692e-01, 7.3834e-01, 8.1140e-01],\n",
              "            [7.5169e-01, 7.6145e-02, 2.3302e-01, 1.0260e-01, 5.5321e-01],\n",
              "            [1.6423e-01, 8.2428e-02, 6.4930e-01, 7.3078e-01, 5.5650e-01]],\n",
              "\n",
              "           [[2.8477e-01, 8.3572e-01, 2.1924e-01, 3.6096e-01, 9.7909e-01],\n",
              "            [7.2648e-01, 7.4113e-01, 1.8277e-01, 5.6544e-02, 5.1044e-01],\n",
              "            [3.0601e-02, 5.2585e-01, 7.3639e-01, 5.3009e-01, 3.2979e-01]]],\n",
              "\n",
              "\n",
              "          [[[4.8639e-01, 7.2517e-01, 1.5790e-01, 8.9433e-01, 7.6053e-02],\n",
              "            [8.3765e-01, 4.3731e-01, 3.3228e-01, 7.8054e-01, 2.0455e-01],\n",
              "            [8.1167e-01, 5.6942e-01, 1.3995e-01, 4.1524e-01, 2.2423e-01]],\n",
              "\n",
              "           [[3.3186e-01, 5.7001e-01, 6.1533e-01, 8.5567e-01, 6.2159e-01],\n",
              "            [6.0676e-01, 4.3637e-01, 2.7648e-01, 8.5053e-01, 6.8791e-01],\n",
              "            [6.9514e-01, 7.0483e-01, 2.1979e-01, 9.9840e-01, 1.2115e-01]],\n",
              "\n",
              "           [[5.1264e-01, 8.0342e-01, 3.3823e-01, 1.3277e-02, 4.3206e-01],\n",
              "            [8.9185e-02, 3.8995e-01, 9.8571e-01, 6.8003e-01, 7.7128e-01],\n",
              "            [9.0771e-01, 4.4529e-01, 5.9798e-01, 4.0678e-01, 1.6957e-01]],\n",
              "\n",
              "           [[1.1152e-02, 7.5436e-01, 1.3866e-01, 4.6082e-01, 1.3753e-01],\n",
              "            [5.9970e-01, 7.6266e-01, 9.3595e-02, 1.6197e-01, 6.7072e-02],\n",
              "            [1.0666e-01, 2.7065e-01, 4.5560e-01, 1.2340e-01, 6.6645e-01]]],\n",
              "\n",
              "\n",
              "          [[[6.7553e-01, 7.5145e-01, 3.7817e-01, 2.1242e-01, 2.7682e-01],\n",
              "            [3.4100e-02, 7.2524e-01, 6.5962e-01, 8.4865e-01, 4.0981e-01],\n",
              "            [4.6190e-01, 1.4317e-01, 3.6989e-01, 1.0714e-01, 6.0437e-01]],\n",
              "\n",
              "           [[8.8021e-01, 8.0382e-01, 8.6201e-01, 2.2795e-01, 6.5705e-01],\n",
              "            [3.2936e-01, 7.9882e-01, 9.2260e-01, 8.9842e-01, 6.4564e-01],\n",
              "            [6.1316e-01, 8.0014e-02, 5.9791e-01, 2.1821e-01, 4.4942e-01]],\n",
              "\n",
              "           [[9.6064e-01, 6.5002e-01, 8.3153e-01, 1.5342e-01, 1.1082e-01],\n",
              "            [1.9598e-01, 3.4540e-01, 8.8306e-02, 4.5248e-01, 7.0505e-01],\n",
              "            [9.7517e-01, 4.4694e-01, 3.5237e-01, 2.0825e-02, 9.9148e-01]],\n",
              "\n",
              "           [[3.5838e-01, 3.7603e-01, 3.8398e-01, 2.0736e-01, 4.9767e-01],\n",
              "            [6.1469e-01, 4.7330e-01, 5.5947e-01, 6.0525e-01, 9.7516e-01],\n",
              "            [2.7227e-01, 6.6875e-01, 6.7121e-01, 8.9443e-01, 2.0809e-01]]],\n",
              "\n",
              "\n",
              "          [[[6.7380e-01, 1.9245e-01, 3.9664e-01, 9.7879e-01, 3.1268e-02],\n",
              "            [6.0147e-01, 3.4387e-01, 9.1328e-02, 3.7694e-01, 7.6212e-01],\n",
              "            [5.7742e-02, 7.1175e-01, 4.6546e-01, 8.6513e-01, 9.1867e-01]],\n",
              "\n",
              "           [[4.1761e-01, 5.6672e-01, 6.5453e-01, 3.0974e-01, 5.5123e-01],\n",
              "            [4.6174e-01, 7.6959e-01, 5.5461e-01, 7.7404e-01, 1.7460e-01],\n",
              "            [2.2571e-01, 8.9625e-01, 5.0522e-01, 1.4533e-01, 6.1125e-01]],\n",
              "\n",
              "           [[6.1387e-01, 5.5577e-01, 1.9241e-01, 5.4308e-01, 9.6559e-01],\n",
              "            [3.1941e-01, 7.2586e-01, 8.9229e-01, 2.9863e-01, 7.5128e-01],\n",
              "            [8.1000e-01, 6.0545e-03, 5.8189e-01, 7.0273e-01, 8.5794e-01]],\n",
              "\n",
              "           [[7.8796e-02, 6.7172e-01, 9.7922e-01, 2.3515e-01, 6.5318e-01],\n",
              "            [1.1379e-01, 4.5525e-01, 6.9970e-01, 7.2800e-01, 8.5622e-01],\n",
              "            [5.2893e-01, 5.0434e-01, 6.7274e-01, 8.4883e-01, 4.8719e-01]]]]],\n",
              "\n",
              "\n",
              "\n",
              "\n",
              "        [[[[[4.6518e-01, 9.7196e-01, 3.9211e-01, 5.1675e-02, 7.3982e-02],\n",
              "            [9.7171e-01, 7.5248e-01, 7.0538e-01, 2.0576e-01, 5.6874e-01],\n",
              "            [7.8559e-01, 5.2599e-01, 2.6445e-02, 5.5863e-01, 6.8888e-01]],\n",
              "\n",
              "           [[4.1001e-01, 1.0582e-01, 9.5224e-01, 6.1801e-01, 9.4567e-01],\n",
              "            [4.2783e-01, 6.8822e-01, 8.4632e-01, 4.2486e-01, 8.5744e-01],\n",
              "            [5.5201e-01, 6.8427e-01, 9.6755e-01, 5.2753e-01, 6.1399e-01]],\n",
              "\n",
              "           [[6.9546e-01, 3.8503e-01, 8.7454e-01, 8.3851e-01, 7.9023e-01],\n",
              "            [8.3222e-01, 7.8363e-02, 9.9599e-01, 7.8567e-01, 8.9704e-01],\n",
              "            [7.8027e-02, 3.5339e-01, 6.7466e-02, 9.8467e-01, 2.2112e-02]],\n",
              "\n",
              "           [[4.1176e-01, 2.3643e-01, 5.1264e-01, 6.2818e-01, 9.0917e-01],\n",
              "            [8.2693e-02, 7.2422e-01, 7.4768e-01, 9.7689e-01, 1.4242e-01],\n",
              "            [2.4610e-01, 7.2927e-01, 4.7038e-01, 7.6964e-01, 9.7932e-01]]],\n",
              "\n",
              "\n",
              "          [[[2.1891e-01, 8.6102e-01, 7.8612e-02, 9.9085e-01, 4.0392e-01],\n",
              "            [5.9214e-01, 6.6268e-01, 6.6386e-01, 1.1513e-01, 5.6634e-02],\n",
              "            [2.3564e-02, 9.5315e-01, 2.0929e-02, 3.2245e-01, 6.3761e-01]],\n",
              "\n",
              "           [[3.3058e-02, 7.1292e-02, 7.2622e-01, 5.1819e-01, 6.0184e-01],\n",
              "            [5.1638e-01, 9.0604e-01, 1.2972e-02, 1.8799e-01, 5.7548e-01],\n",
              "            [7.1226e-01, 9.1397e-02, 4.0490e-01, 3.8931e-01, 8.3858e-01]],\n",
              "\n",
              "           [[7.0754e-01, 2.8993e-01, 7.0230e-01, 7.8337e-01, 9.1110e-01],\n",
              "            [6.2545e-01, 3.2402e-01, 4.7518e-01, 4.2280e-01, 1.8894e-01],\n",
              "            [7.8700e-02, 2.6486e-01, 9.2368e-01, 2.3663e-01, 6.8335e-01]],\n",
              "\n",
              "           [[4.4552e-01, 7.1174e-01, 2.9361e-01, 5.3578e-01, 9.0009e-01],\n",
              "            [6.0683e-01, 2.1796e-01, 1.9048e-01, 8.6522e-01, 2.1467e-01],\n",
              "            [9.1584e-01, 3.4607e-01, 1.7067e-01, 8.1026e-02, 7.4209e-02]]],\n",
              "\n",
              "\n",
              "          [[[1.7344e-01, 5.4259e-01, 1.7195e-01, 1.1338e-01, 4.3765e-01],\n",
              "            [2.9897e-01, 4.8016e-01, 2.1796e-02, 2.6261e-01, 2.9443e-01],\n",
              "            [3.9326e-01, 6.7913e-01, 7.8167e-01, 3.6337e-01, 8.0063e-01]],\n",
              "\n",
              "           [[3.0404e-01, 1.9853e-01, 2.4948e-01, 9.1169e-01, 6.7214e-01],\n",
              "            [7.7443e-01, 3.6929e-01, 8.9032e-02, 4.5627e-01, 7.4948e-01],\n",
              "            [7.1577e-01, 7.4882e-01, 2.1045e-01, 2.4421e-01, 9.8709e-01]],\n",
              "\n",
              "           [[4.8725e-01, 5.4698e-01, 8.6227e-01, 9.1820e-01, 3.7100e-01],\n",
              "            [8.4890e-01, 4.8999e-01, 1.5271e-01, 6.6251e-01, 9.8821e-01],\n",
              "            [9.0546e-01, 4.9193e-01, 3.7126e-01, 1.7090e-01, 8.1623e-01]],\n",
              "\n",
              "           [[7.9688e-01, 4.8663e-01, 4.3394e-01, 2.1811e-01, 1.5453e-01],\n",
              "            [7.4506e-01, 5.4507e-01, 9.2220e-01, 2.7223e-01, 9.3112e-01],\n",
              "            [5.3340e-01, 4.2961e-01, 4.5340e-01, 1.9378e-02, 5.3978e-01]]],\n",
              "\n",
              "\n",
              "          [[[2.6973e-01, 6.1813e-01, 7.0253e-01, 7.8235e-01, 7.2876e-02],\n",
              "            [9.6501e-01, 1.3069e-03, 2.3810e-01, 3.3184e-01, 4.8575e-01],\n",
              "            [2.4760e-01, 8.4587e-01, 3.3946e-01, 9.2177e-01, 5.9878e-01]],\n",
              "\n",
              "           [[2.8343e-02, 9.2516e-01, 1.0571e-01, 6.6790e-01, 8.5314e-01],\n",
              "            [8.1498e-01, 1.6029e-01, 7.0373e-01, 9.3031e-02, 5.4649e-01],\n",
              "            [7.2961e-01, 3.0269e-01, 2.9671e-01, 3.7430e-01, 3.4272e-01]],\n",
              "\n",
              "           [[7.8934e-01, 5.3762e-01, 5.6331e-01, 7.3554e-01, 1.7714e-01],\n",
              "            [7.4077e-01, 9.6448e-01, 1.8602e-01, 6.7554e-01, 7.5286e-01],\n",
              "            [3.0713e-01, 2.0395e-01, 3.4089e-01, 3.5710e-01, 2.4329e-01]],\n",
              "\n",
              "           [[9.4925e-02, 6.0688e-01, 2.4935e-01, 7.6553e-01, 1.1684e-03],\n",
              "            [8.8799e-04, 1.9182e-01, 5.0996e-01, 3.9755e-01, 8.9088e-01],\n",
              "            [1.2124e-01, 4.8353e-01, 6.2314e-02, 2.4755e-01, 1.9846e-01]]]],\n",
              "\n",
              "\n",
              "\n",
              "         [[[[4.2640e-01, 8.2578e-01, 2.8625e-01, 8.2849e-01, 2.6027e-01],\n",
              "            [6.0709e-01, 6.1404e-01, 2.4752e-01, 9.5467e-01, 7.6143e-01],\n",
              "            [5.0809e-01, 2.9538e-01, 4.3569e-01, 7.7683e-01, 2.4429e-01]],\n",
              "\n",
              "           [[8.8717e-01, 1.4474e-01, 7.4607e-02, 9.3477e-01, 6.2711e-01],\n",
              "            [1.4262e-01, 9.6263e-01, 9.5934e-01, 4.8501e-01, 9.9694e-01],\n",
              "            [8.9428e-02, 4.7079e-01, 6.8627e-01, 6.1421e-01, 5.6740e-01]],\n",
              "\n",
              "           [[6.1184e-01, 2.4144e-01, 3.6307e-02, 7.6412e-01, 3.4947e-01],\n",
              "            [2.8579e-01, 3.1990e-01, 7.8869e-01, 2.0414e-01, 8.3570e-01],\n",
              "            [1.6212e-01, 9.3990e-01, 8.6905e-01, 6.6343e-01, 5.8401e-01]],\n",
              "\n",
              "           [[7.6250e-01, 7.6298e-01, 2.2698e-01, 7.0676e-01, 8.0867e-01],\n",
              "            [9.7489e-01, 3.3253e-01, 3.0152e-02, 9.4248e-01, 8.9070e-01],\n",
              "            [2.1527e-01, 7.5811e-01, 9.3612e-01, 6.7361e-01, 4.1860e-01]]],\n",
              "\n",
              "\n",
              "          [[[5.3522e-01, 1.2688e-01, 2.7138e-02, 9.7929e-01, 9.1827e-01],\n",
              "            [9.4186e-01, 6.9251e-01, 3.1267e-02, 4.5356e-01, 2.7271e-02],\n",
              "            [5.8855e-01, 4.7681e-01, 9.6103e-01, 6.3642e-01, 3.6803e-01]],\n",
              "\n",
              "           [[7.2336e-01, 6.3392e-01, 4.7201e-01, 7.6952e-01, 1.3389e-01],\n",
              "            [8.0520e-01, 1.2393e-01, 7.6986e-01, 3.9621e-01, 6.4875e-01],\n",
              "            [4.3273e-01, 2.6208e-01, 4.0896e-01, 3.2518e-01, 9.3672e-01]],\n",
              "\n",
              "           [[9.4677e-03, 9.9581e-01, 1.4877e-01, 8.7647e-01, 9.9340e-01],\n",
              "            [7.3370e-01, 5.1805e-01, 3.8712e-01, 8.3615e-01, 8.8030e-01],\n",
              "            [9.5457e-01, 1.5490e-01, 2.6847e-01, 7.3243e-01, 9.3710e-01]],\n",
              "\n",
              "           [[3.4382e-01, 3.8264e-01, 8.3669e-01, 6.3930e-01, 4.4446e-01],\n",
              "            [6.6645e-01, 3.6489e-01, 3.6218e-01, 9.4380e-03, 1.0153e-01],\n",
              "            [8.8151e-01, 3.3069e-01, 9.1354e-01, 7.6191e-01, 8.3531e-01]]],\n",
              "\n",
              "\n",
              "          [[[7.1095e-01, 6.0762e-01, 5.3747e-01, 9.5303e-01, 6.6445e-01],\n",
              "            [4.9203e-01, 7.3485e-01, 7.4377e-01, 5.8000e-02, 2.5643e-01],\n",
              "            [3.3304e-01, 7.0092e-01, 5.6407e-01, 4.8197e-01, 5.6326e-01]],\n",
              "\n",
              "           [[2.6138e-01, 6.0437e-01, 7.8843e-01, 3.0725e-01, 4.6541e-01],\n",
              "            [6.9655e-01, 1.3145e-01, 3.0560e-01, 4.1919e-01, 2.6370e-02],\n",
              "            [4.7715e-01, 3.3838e-01, 1.9773e-01, 4.7233e-01, 4.3148e-01]],\n",
              "\n",
              "           [[6.4631e-01, 1.1845e-01, 2.9259e-01, 8.5043e-01, 9.5081e-01],\n",
              "            [1.2139e-01, 3.0272e-01, 7.8241e-01, 8.1510e-01, 7.4433e-01],\n",
              "            [7.9213e-01, 2.4409e-01, 4.6257e-01, 5.2025e-01, 8.0426e-01]],\n",
              "\n",
              "           [[9.8886e-01, 8.7747e-01, 4.5469e-01, 3.4247e-01, 2.9609e-01],\n",
              "            [8.0444e-02, 8.0061e-01, 3.7442e-01, 8.2513e-01, 9.5678e-01],\n",
              "            [8.4999e-01, 5.2111e-01, 4.8621e-01, 9.4419e-01, 8.8301e-01]]],\n",
              "\n",
              "\n",
              "          [[[4.6115e-01, 7.2477e-01, 4.8556e-01, 8.6659e-01, 4.7631e-01],\n",
              "            [1.0736e-01, 5.9647e-01, 9.4705e-01, 8.4078e-01, 3.1691e-01],\n",
              "            [9.1200e-01, 8.5485e-01, 7.8716e-01, 8.9879e-01, 4.2890e-01]],\n",
              "\n",
              "           [[2.3764e-01, 3.2294e-01, 4.0859e-01, 9.7634e-01, 2.7020e-01],\n",
              "            [6.8551e-01, 5.7117e-01, 5.7890e-01, 6.7597e-01, 9.0466e-02],\n",
              "            [9.7814e-02, 3.2413e-01, 4.7736e-01, 9.7823e-01, 9.9900e-01]],\n",
              "\n",
              "           [[9.8474e-01, 5.7127e-01, 1.9922e-01, 6.4235e-01, 3.2706e-01],\n",
              "            [2.8719e-01, 2.7197e-01, 5.4943e-01, 7.3121e-01, 1.9724e-01],\n",
              "            [7.7231e-01, 7.6053e-01, 8.0237e-01, 9.7405e-01, 5.3596e-01]],\n",
              "\n",
              "           [[1.5926e-01, 2.5647e-01, 2.2417e-01, 3.6107e-01, 6.3094e-01],\n",
              "            [1.5938e-01, 9.8713e-01, 1.3504e-01, 9.6201e-01, 8.9384e-01],\n",
              "            [9.4813e-01, 8.6047e-02, 5.8445e-01, 3.6537e-01, 4.4665e-01]]]],\n",
              "\n",
              "\n",
              "\n",
              "         [[[[7.6539e-01, 1.2407e-01, 6.1955e-01, 9.6429e-01, 2.8164e-01],\n",
              "            [8.8962e-01, 2.5322e-01, 6.3508e-01, 7.1907e-01, 7.1007e-01],\n",
              "            [5.1001e-01, 7.4112e-02, 5.5540e-02, 5.2497e-01, 3.3476e-01]],\n",
              "\n",
              "           [[4.6396e-02, 4.3605e-01, 4.6430e-01, 5.1094e-01, 8.8050e-01],\n",
              "            [4.5272e-01, 6.3103e-01, 7.0174e-01, 9.6408e-01, 3.9930e-01],\n",
              "            [1.1148e-01, 9.9823e-01, 5.3670e-01, 2.6400e-01, 2.6052e-01]],\n",
              "\n",
              "           [[6.1986e-01, 7.3289e-01, 8.3036e-01, 3.0145e-01, 2.3080e-01],\n",
              "            [8.3676e-01, 2.9056e-01, 6.3523e-01, 4.3512e-01, 3.8930e-01],\n",
              "            [5.5951e-01, 9.6144e-01, 8.8222e-01, 4.2294e-01, 7.1964e-01]],\n",
              "\n",
              "           [[3.2234e-01, 3.6535e-01, 1.1594e-02, 1.0642e-03, 5.2955e-01],\n",
              "            [9.9357e-01, 8.7341e-01, 6.8331e-01, 2.7018e-01, 8.7328e-01],\n",
              "            [8.1615e-01, 1.7224e-01, 7.9060e-01, 8.2907e-01, 7.2701e-01]]],\n",
              "\n",
              "\n",
              "          [[[1.2686e-02, 2.4288e-01, 8.4104e-01, 9.6633e-01, 4.0989e-02],\n",
              "            [9.6538e-01, 6.7217e-01, 5.5216e-01, 7.8912e-01, 4.9866e-01],\n",
              "            [4.9772e-02, 1.3070e-01, 1.5973e-01, 3.7625e-01, 4.6638e-01]],\n",
              "\n",
              "           [[2.5426e-02, 9.8839e-01, 2.4404e-01, 5.1736e-02, 9.4844e-01],\n",
              "            [1.1955e-02, 6.7632e-01, 2.8366e-01, 4.1036e-01, 2.9591e-01],\n",
              "            [7.6393e-01, 6.0555e-01, 5.3359e-02, 8.1098e-01, 1.5172e-01]],\n",
              "\n",
              "           [[7.8312e-01, 9.7941e-01, 8.2729e-01, 5.5644e-01, 6.2551e-01],\n",
              "            [6.0269e-01, 3.0841e-01, 1.2441e-01, 9.2623e-01, 5.3820e-01],\n",
              "            [6.8315e-01, 9.8640e-01, 7.7346e-01, 6.5997e-01, 4.6054e-01]],\n",
              "\n",
              "           [[4.0806e-01, 4.9290e-01, 9.0734e-01, 8.9476e-01, 3.3712e-01],\n",
              "            [8.4926e-01, 2.2613e-01, 4.1057e-01, 6.0394e-01, 3.4695e-01],\n",
              "            [9.2499e-01, 1.0057e-01, 4.8548e-01, 2.9353e-01, 5.9695e-01]]],\n",
              "\n",
              "\n",
              "          [[[1.5702e-01, 3.8539e-01, 4.2602e-02, 5.6732e-01, 4.4973e-01],\n",
              "            [9.8075e-01, 8.1292e-01, 1.8355e-01, 6.1564e-01, 7.5008e-01],\n",
              "            [7.9193e-02, 5.0787e-03, 4.1973e-01, 6.8408e-01, 9.4681e-01]],\n",
              "\n",
              "           [[5.1256e-02, 4.3706e-02, 2.7939e-01, 8.3353e-01, 5.0806e-01],\n",
              "            [9.9045e-01, 4.2889e-01, 2.5756e-01, 3.4046e-01, 4.3024e-01],\n",
              "            [5.5089e-01, 2.3498e-01, 3.3387e-01, 9.5464e-01, 1.9907e-01]],\n",
              "\n",
              "           [[8.4620e-01, 8.2406e-01, 6.9008e-01, 1.2081e-01, 7.4341e-01],\n",
              "            [4.5479e-01, 4.1026e-01, 3.0125e-02, 3.5695e-02, 1.1888e-01],\n",
              "            [4.2673e-01, 7.9453e-01, 7.8657e-01, 3.1149e-01, 6.4009e-01]],\n",
              "\n",
              "           [[4.5134e-01, 5.0358e-02, 4.1616e-01, 1.8403e-01, 4.0611e-01],\n",
              "            [3.5185e-01, 5.3513e-03, 9.8749e-01, 2.2019e-01, 1.4102e-01],\n",
              "            [5.8402e-01, 7.7901e-01, 3.6305e-01, 8.2016e-01, 5.7157e-02]]],\n",
              "\n",
              "\n",
              "          [[[7.5319e-01, 5.2864e-01, 7.6524e-01, 1.3690e-01, 4.6445e-01],\n",
              "            [4.6233e-01, 1.1336e-01, 2.1874e-01, 9.0779e-01, 9.7366e-01],\n",
              "            [4.8628e-01, 5.2659e-01, 5.6380e-01, 2.6891e-01, 2.6885e-01]],\n",
              "\n",
              "           [[7.8703e-01, 9.1531e-01, 4.0563e-01, 6.6068e-03, 8.5428e-01],\n",
              "            [8.2646e-01, 2.1056e-01, 9.6934e-01, 8.9092e-01, 6.4187e-01],\n",
              "            [8.9894e-01, 5.6239e-01, 9.0761e-01, 9.5916e-01, 9.8057e-01]],\n",
              "\n",
              "           [[5.6066e-01, 1.8495e-02, 6.6440e-01, 5.4867e-01, 3.8657e-01],\n",
              "            [9.9290e-01, 8.4759e-01, 6.6280e-01, 2.1689e-01, 1.4740e-01],\n",
              "            [7.0306e-01, 6.2281e-01, 2.9328e-01, 3.2665e-01, 3.1657e-01]],\n",
              "\n",
              "           [[2.3165e-01, 9.0903e-01, 6.3621e-01, 3.0216e-01, 3.7680e-01],\n",
              "            [4.8943e-01, 2.9059e-01, 1.5604e-01, 3.6688e-01, 9.9491e-01],\n",
              "            [1.4487e-02, 8.3013e-02, 3.8246e-01, 9.2103e-01, 1.2984e-02]]]],\n",
              "\n",
              "\n",
              "\n",
              "         [[[[9.0565e-01, 2.2905e-01, 6.1556e-01, 8.0595e-01, 6.2191e-01],\n",
              "            [9.0778e-01, 5.1140e-01, 3.7557e-01, 8.2233e-01, 8.1688e-01],\n",
              "            [5.2359e-01, 7.1071e-01, 5.7048e-01, 4.8603e-01, 8.1531e-01]],\n",
              "\n",
              "           [[7.0174e-02, 2.0924e-01, 8.4051e-02, 2.1554e-01, 5.2183e-01],\n",
              "            [1.4104e-01, 2.2421e-01, 8.6997e-01, 1.2593e-01, 2.2917e-01],\n",
              "            [8.3952e-01, 9.2689e-01, 7.5375e-01, 8.7930e-01, 8.0220e-01]],\n",
              "\n",
              "           [[9.9053e-01, 8.2671e-01, 9.1024e-01, 6.2070e-01, 9.8145e-01],\n",
              "            [5.2748e-01, 4.3509e-01, 5.9822e-01, 9.1404e-01, 9.6252e-01],\n",
              "            [2.2259e-01, 1.7394e-01, 2.8182e-01, 7.1364e-01, 6.8243e-02]],\n",
              "\n",
              "           [[6.5244e-01, 9.1322e-02, 1.3476e-01, 8.3338e-01, 9.0033e-01],\n",
              "            [4.7844e-01, 8.3521e-02, 4.0259e-01, 7.5234e-01, 5.0596e-01],\n",
              "            [3.9938e-01, 2.5040e-01, 7.3063e-01, 4.5198e-01, 1.5668e-01]]],\n",
              "\n",
              "\n",
              "          [[[5.4500e-02, 1.6637e-01, 8.6573e-01, 3.7235e-01, 5.9322e-01],\n",
              "            [5.8956e-01, 9.5990e-01, 9.4788e-02, 1.4021e-01, 3.6553e-01],\n",
              "            [7.9759e-01, 3.4042e-01, 4.1351e-01, 8.6753e-02, 3.7143e-01]],\n",
              "\n",
              "           [[7.8781e-01, 4.7408e-01, 2.9741e-01, 3.1673e-01, 6.7202e-01],\n",
              "            [6.7206e-01, 6.7711e-01, 4.9381e-01, 8.2920e-01, 1.9484e-01],\n",
              "            [3.9990e-01, 9.6942e-01, 7.5082e-01, 6.2925e-01, 1.0357e-02]],\n",
              "\n",
              "           [[1.2163e-01, 4.8320e-01, 5.8696e-01, 7.0678e-01, 7.7469e-01],\n",
              "            [6.5843e-01, 1.9052e-01, 2.5362e-01, 6.3273e-01, 3.0815e-01],\n",
              "            [7.8126e-01, 5.1005e-01, 3.3901e-01, 6.7802e-01, 2.7520e-01]],\n",
              "\n",
              "           [[6.9759e-01, 8.9705e-01, 1.4168e-01, 8.7260e-01, 3.5269e-01],\n",
              "            [5.1085e-01, 2.0195e-02, 1.5033e-01, 9.9250e-01, 4.8020e-01],\n",
              "            [9.6522e-01, 2.6880e-01, 3.0554e-01, 7.3039e-01, 2.7537e-01]]],\n",
              "\n",
              "\n",
              "          [[[1.8718e-01, 8.1780e-01, 5.0546e-02, 9.5482e-02, 2.4028e-01],\n",
              "            [4.3163e-01, 9.9722e-01, 5.3999e-01, 5.9128e-01, 3.4267e-01],\n",
              "            [1.2561e-01, 4.7248e-01, 4.7408e-01, 4.7015e-01, 4.0949e-01]],\n",
              "\n",
              "           [[1.0896e-01, 4.6573e-01, 2.3276e-01, 6.7728e-02, 1.5773e-01],\n",
              "            [9.7771e-01, 1.5694e-01, 9.8257e-01, 5.9002e-01, 4.6428e-01],\n",
              "            [6.8940e-03, 8.7195e-01, 1.6009e-01, 3.1807e-01, 4.3164e-01]],\n",
              "\n",
              "           [[1.0035e-01, 4.1652e-01, 7.2440e-01, 7.3175e-02, 6.1268e-01],\n",
              "            [7.8321e-01, 8.6420e-01, 1.9124e-01, 4.5186e-01, 3.8720e-01],\n",
              "            [8.9637e-01, 5.0820e-01, 5.5904e-01, 4.1247e-01, 8.8965e-01]],\n",
              "\n",
              "           [[9.7689e-01, 8.7748e-01, 5.8934e-01, 9.9592e-01, 4.0134e-01],\n",
              "            [6.5207e-01, 1.2107e-01, 7.6388e-01, 7.9658e-01, 4.0883e-02],\n",
              "            [6.3084e-01, 5.8384e-01, 2.7653e-01, 5.7047e-01, 6.5758e-01]]],\n",
              "\n",
              "\n",
              "          [[[2.9641e-01, 3.1162e-01, 9.6163e-01, 2.3529e-01, 4.6522e-01],\n",
              "            [6.1196e-01, 9.5694e-01, 7.3457e-01, 3.1609e-01, 4.6845e-02],\n",
              "            [8.0033e-01, 4.7329e-01, 5.2599e-02, 1.8777e-01, 9.8305e-02]],\n",
              "\n",
              "           [[2.1085e-02, 6.3929e-01, 2.3485e-01, 9.7582e-01, 4.8190e-01],\n",
              "            [6.4571e-01, 3.4555e-01, 6.9776e-01, 3.9998e-01, 8.9988e-01],\n",
              "            [7.6941e-01, 7.8775e-01, 8.9164e-01, 3.1676e-01, 1.9554e-01]],\n",
              "\n",
              "           [[8.5828e-01, 8.0176e-01, 2.9583e-01, 5.1393e-01, 1.2681e-01],\n",
              "            [9.1909e-01, 6.7330e-01, 7.7798e-01, 1.0776e-01, 4.1200e-01],\n",
              "            [7.0775e-01, 3.5294e-01, 4.6593e-01, 1.8820e-01, 8.1669e-01]],\n",
              "\n",
              "           [[3.4313e-01, 5.2142e-01, 2.4194e-01, 5.4063e-01, 3.2015e-01],\n",
              "            [2.1816e-01, 4.7923e-02, 3.4063e-02, 7.8925e-01, 9.0232e-01],\n",
              "            [5.9249e-01, 9.1135e-01, 6.4278e-01, 7.7459e-01, 8.4344e-01]]]],\n",
              "\n",
              "\n",
              "\n",
              "         [[[[3.5023e-01, 8.7572e-01, 3.3731e-01, 6.4646e-01, 2.6889e-01],\n",
              "            [5.7125e-01, 3.8463e-01, 7.7914e-01, 8.4649e-01, 6.5386e-01],\n",
              "            [9.3561e-01, 2.0175e-01, 1.9162e-01, 9.6427e-01, 5.5162e-02]],\n",
              "\n",
              "           [[7.0218e-02, 8.2980e-01, 4.4338e-01, 5.7080e-01, 9.9721e-01],\n",
              "            [6.4453e-01, 1.8609e-01, 4.2450e-01, 8.9831e-01, 8.1532e-01],\n",
              "            [8.9471e-01, 7.4848e-02, 8.0635e-01, 7.9817e-01, 4.7252e-01]],\n",
              "\n",
              "           [[4.1019e-01, 7.1821e-01, 6.2611e-02, 9.4405e-01, 6.3569e-01],\n",
              "            [6.5546e-01, 2.8901e-01, 1.7285e-01, 9.2438e-01, 1.6939e-01],\n",
              "            [6.7088e-01, 2.7661e-02, 9.2180e-02, 6.8677e-01, 9.0716e-01]],\n",
              "\n",
              "           [[5.2761e-01, 8.6238e-01, 8.2359e-01, 9.4953e-01, 2.3655e-01],\n",
              "            [8.0885e-01, 4.7829e-01, 9.2258e-02, 4.9743e-01, 9.4871e-01],\n",
              "            [8.8921e-01, 7.5556e-01, 2.2092e-01, 4.2766e-01, 8.2896e-01]]],\n",
              "\n",
              "\n",
              "          [[[2.4040e-01, 3.5968e-01, 9.4204e-01, 1.9429e-02, 4.1987e-01],\n",
              "            [2.1465e-01, 4.2241e-01, 9.3607e-01, 4.7078e-01, 3.3105e-01],\n",
              "            [4.8374e-01, 6.9895e-01, 3.7230e-01, 6.8950e-01, 9.3410e-01]],\n",
              "\n",
              "           [[7.3794e-01, 9.7258e-01, 9.9192e-01, 2.8909e-01, 1.9761e-01],\n",
              "            [5.9122e-01, 6.5721e-02, 9.3832e-01, 2.3915e-01, 9.8393e-01],\n",
              "            [5.6284e-01, 9.1093e-01, 6.1855e-01, 3.9500e-01, 9.4016e-02]],\n",
              "\n",
              "           [[6.1751e-01, 9.0346e-02, 2.3865e-01, 5.3856e-01, 9.6647e-01],\n",
              "            [2.8252e-01, 2.7917e-01, 8.7889e-01, 2.6212e-01, 9.8665e-01],\n",
              "            [5.2983e-01, 5.0245e-01, 3.3916e-01, 5.3983e-01, 8.9955e-03]],\n",
              "\n",
              "           [[6.1135e-01, 9.1018e-01, 5.4848e-01, 6.2185e-01, 9.2569e-01],\n",
              "            [9.8985e-01, 2.7235e-01, 4.6999e-01, 2.6318e-01, 6.3705e-01],\n",
              "            [6.1747e-01, 1.9420e-01, 6.1899e-01, 6.2396e-02, 9.3722e-01]]],\n",
              "\n",
              "\n",
              "          [[[2.9499e-01, 1.5013e-01, 2.0778e-01, 6.4995e-01, 5.1154e-01],\n",
              "            [6.3735e-01, 7.3699e-01, 6.3146e-01, 8.5327e-01, 4.3541e-01],\n",
              "            [4.2999e-01, 9.1761e-01, 5.9813e-01, 7.2166e-01, 6.1707e-01]],\n",
              "\n",
              "           [[8.0613e-02, 2.4154e-01, 9.0558e-01, 6.9399e-01, 9.7188e-01],\n",
              "            [3.9318e-01, 7.7336e-02, 5.1645e-01, 6.0152e-01, 3.1759e-01],\n",
              "            [8.1640e-01, 6.2890e-01, 6.7478e-01, 6.1254e-01, 9.2552e-01]],\n",
              "\n",
              "           [[7.2217e-01, 5.7996e-01, 6.4219e-01, 2.2874e-01, 9.7110e-01],\n",
              "            [2.8268e-01, 3.0009e-02, 8.7882e-01, 8.0053e-01, 2.3795e-01],\n",
              "            [6.1315e-01, 3.6548e-02, 7.6396e-01, 7.3615e-01, 3.5301e-01]],\n",
              "\n",
              "           [[8.0705e-01, 6.5122e-02, 5.8259e-01, 7.9182e-02, 2.4299e-01],\n",
              "            [1.8162e-01, 8.6206e-01, 8.5535e-01, 6.8781e-01, 5.8232e-01],\n",
              "            [5.0006e-01, 8.4800e-01, 3.9119e-02, 1.9879e-01, 4.1654e-01]]],\n",
              "\n",
              "\n",
              "          [[[5.9075e-01, 9.0616e-02, 1.0490e-01, 3.2613e-01, 7.6102e-01],\n",
              "            [6.0216e-01, 2.6009e-01, 1.7937e-01, 8.9480e-01, 8.5217e-01],\n",
              "            [9.0167e-01, 7.3227e-01, 5.0753e-01, 2.7803e-03, 4.3478e-01]],\n",
              "\n",
              "           [[4.9839e-03, 7.5819e-01, 3.8622e-01, 4.9407e-01, 4.8635e-01],\n",
              "            [1.2248e-01, 1.8954e-01, 2.9751e-01, 9.3826e-01, 4.7344e-01],\n",
              "            [7.8432e-01, 3.8005e-02, 8.7238e-01, 6.0064e-04, 5.7783e-02]],\n",
              "\n",
              "           [[5.2700e-01, 6.7065e-01, 4.0401e-01, 9.5303e-01, 1.5404e-01],\n",
              "            [1.0937e-01, 6.4878e-01, 6.1482e-02, 1.2034e-01, 3.4443e-01],\n",
              "            [3.8981e-01, 8.1208e-01, 4.1072e-01, 8.5751e-01, 3.7531e-01]],\n",
              "\n",
              "           [[4.7131e-01, 8.8549e-01, 4.1569e-01, 1.1233e-01, 4.9599e-01],\n",
              "            [7.6589e-01, 1.5715e-01, 1.0390e-01, 5.0665e-01, 3.6512e-01],\n",
              "            [8.1045e-01, 9.0874e-01, 3.2868e-01, 2.0602e-01, 2.5536e-01]]]],\n",
              "\n",
              "\n",
              "\n",
              "         [[[[3.0115e-01, 7.5285e-01, 5.1103e-01, 4.1126e-01, 4.3475e-01],\n",
              "            [3.2276e-02, 7.7551e-01, 6.1567e-01, 6.3678e-01, 5.9717e-01],\n",
              "            [9.1739e-01, 5.7079e-01, 8.3818e-01, 9.4814e-01, 2.1598e-01]],\n",
              "\n",
              "           [[4.8497e-01, 7.7725e-01, 8.2056e-01, 7.1310e-01, 7.2143e-01],\n",
              "            [8.3735e-01, 3.2447e-02, 3.8308e-01, 7.4362e-01, 9.9158e-01],\n",
              "            [7.2768e-01, 9.6185e-01, 1.9272e-01, 3.3049e-01, 3.2063e-01]],\n",
              "\n",
              "           [[9.1223e-01, 9.1127e-01, 1.2136e-01, 1.6739e-01, 5.2860e-01],\n",
              "            [3.6252e-01, 9.6341e-01, 3.3118e-01, 6.8971e-01, 5.5189e-01],\n",
              "            [7.6794e-01, 4.3457e-02, 8.0838e-01, 4.0472e-01, 5.4334e-01]],\n",
              "\n",
              "           [[5.4324e-01, 9.8129e-01, 8.8114e-01, 2.6283e-01, 2.0440e-01],\n",
              "            [3.4924e-01, 5.3288e-02, 1.1916e-02, 6.6845e-01, 7.8682e-01],\n",
              "            [7.9454e-01, 8.5084e-01, 3.4598e-01, 3.9786e-01, 3.3278e-02]]],\n",
              "\n",
              "\n",
              "          [[[5.8120e-01, 6.1686e-01, 6.0295e-01, 9.1756e-01, 3.8180e-01],\n",
              "            [9.7501e-01, 3.9146e-01, 3.0002e-01, 5.3342e-01, 7.0468e-01],\n",
              "            [3.5963e-01, 7.4575e-02, 2.4091e-01, 8.2494e-02, 5.4611e-01]],\n",
              "\n",
              "           [[7.4807e-02, 5.5404e-01, 1.6164e-01, 6.3644e-01, 5.1941e-01],\n",
              "            [2.7685e-01, 6.5966e-01, 8.4342e-01, 9.5361e-01, 3.0203e-01],\n",
              "            [9.8051e-01, 1.8610e-01, 1.2129e-01, 8.4529e-01, 7.9922e-01]],\n",
              "\n",
              "           [[1.3472e-02, 3.0637e-02, 4.1742e-01, 4.0522e-01, 8.5317e-01],\n",
              "            [8.9827e-01, 9.2061e-01, 1.5714e-01, 3.9186e-01, 7.4336e-01],\n",
              "            [4.7480e-02, 9.3651e-01, 5.5058e-02, 9.5597e-01, 3.5309e-01]],\n",
              "\n",
              "           [[9.8051e-01, 2.3500e-01, 1.3347e-01, 2.0988e-01, 7.0048e-01],\n",
              "            [9.2089e-01, 3.7293e-01, 8.4123e-01, 1.6024e-01, 7.8246e-01],\n",
              "            [7.9066e-01, 7.5238e-01, 6.4526e-01, 4.2551e-01, 5.4316e-01]]],\n",
              "\n",
              "\n",
              "          [[[9.5647e-01, 6.3302e-01, 3.3860e-01, 8.2718e-02, 9.9421e-02],\n",
              "            [8.3772e-01, 5.6611e-01, 2.0888e-01, 3.5660e-01, 4.4721e-01],\n",
              "            [5.7505e-01, 2.5085e-02, 4.2482e-01, 7.2223e-01, 3.4768e-01]],\n",
              "\n",
              "           [[6.7091e-01, 5.6734e-01, 1.3198e-01, 6.1543e-01, 9.8896e-01],\n",
              "            [5.0285e-01, 1.4634e-01, 4.2609e-01, 1.8477e-01, 4.2081e-01],\n",
              "            [8.8349e-01, 2.0727e-01, 6.3019e-01, 9.5745e-01, 8.2269e-02]],\n",
              "\n",
              "           [[4.5833e-01, 3.1402e-01, 7.3680e-01, 3.7810e-01, 9.1493e-01],\n",
              "            [7.0770e-01, 3.6919e-02, 3.1241e-02, 4.2260e-01, 3.6073e-02],\n",
              "            [7.2839e-02, 2.6078e-01, 7.4143e-01, 7.7535e-01, 3.2025e-01]],\n",
              "\n",
              "           [[8.0481e-01, 7.2343e-01, 6.3839e-01, 8.3308e-01, 2.9762e-01],\n",
              "            [5.9722e-01, 8.1283e-01, 8.1460e-01, 7.7966e-01, 7.3988e-02],\n",
              "            [7.3868e-01, 1.6146e-01, 2.9548e-01, 8.8527e-01, 8.1006e-02]]],\n",
              "\n",
              "\n",
              "          [[[1.5686e-01, 7.6855e-02, 4.4065e-01, 5.7416e-01, 5.6560e-01],\n",
              "            [8.0914e-01, 6.3870e-01, 9.2166e-01, 7.8466e-02, 9.5811e-01],\n",
              "            [4.5434e-01, 9.5253e-01, 9.6988e-01, 7.3664e-01, 5.7885e-01]],\n",
              "\n",
              "           [[8.1450e-02, 1.1372e-01, 9.1263e-01, 9.5343e-02, 3.6671e-01],\n",
              "            [1.8852e-01, 5.0080e-01, 6.4937e-02, 4.1116e-01, 4.3088e-01],\n",
              "            [5.1728e-01, 3.2845e-01, 3.6130e-01, 6.4225e-01, 4.7543e-01]],\n",
              "\n",
              "           [[8.0823e-02, 1.4431e-01, 6.5344e-01, 9.1163e-01, 7.4712e-01],\n",
              "            [3.6453e-02, 9.0634e-02, 7.5663e-01, 4.1732e-01, 3.2975e-01],\n",
              "            [9.3020e-01, 7.8961e-02, 1.7447e-01, 4.9841e-02, 1.5879e-01]],\n",
              "\n",
              "           [[5.8659e-01, 8.2930e-01, 7.9837e-02, 1.2403e-02, 1.1213e-01],\n",
              "            [3.4822e-01, 4.5418e-01, 1.4283e-02, 2.2614e-01, 6.6449e-01],\n",
              "            [8.8410e-01, 3.9446e-01, 8.9344e-01, 1.3741e-01, 9.3420e-02]]]]],\n",
              "\n",
              "\n",
              "\n",
              "\n",
              "        [[[[[5.8797e-01, 6.8460e-01, 9.8130e-01, 8.9824e-03, 7.7964e-01],\n",
              "            [8.7581e-02, 7.7214e-01, 3.3504e-02, 7.5690e-01, 3.5403e-01],\n",
              "            [8.4332e-01, 5.6243e-01, 2.7688e-01, 6.0872e-01, 7.1907e-01]],\n",
              "\n",
              "           [[6.8471e-01, 9.1217e-01, 8.4721e-01, 5.7601e-01, 9.3446e-02],\n",
              "            [5.5107e-01, 4.4228e-01, 4.1886e-01, 2.5286e-03, 5.7947e-01],\n",
              "            [8.6748e-01, 5.6554e-02, 3.9625e-01, 7.6332e-01, 7.3589e-01]],\n",
              "\n",
              "           [[1.6167e-02, 6.5077e-01, 2.6575e-01, 5.1253e-01, 3.8642e-01],\n",
              "            [7.3402e-01, 2.5980e-01, 4.3661e-01, 4.8472e-01, 7.5939e-01],\n",
              "            [3.2364e-01, 5.5109e-01, 8.2998e-01, 7.5929e-01, 7.1375e-01]],\n",
              "\n",
              "           [[1.4218e-01, 4.8303e-01, 7.8523e-01, 9.4356e-01, 1.5852e-01],\n",
              "            [2.3816e-01, 1.2595e-01, 4.6837e-01, 6.0434e-01, 5.2406e-01],\n",
              "            [9.6614e-01, 2.1977e-01, 3.0439e-01, 7.1888e-01, 8.7730e-01]]],\n",
              "\n",
              "\n",
              "          [[[9.7937e-01, 9.3477e-01, 9.2839e-01, 6.7265e-01, 3.4973e-01],\n",
              "            [8.3414e-01, 2.4261e-01, 9.9316e-01, 2.4462e-01, 5.0318e-01],\n",
              "            [8.0536e-01, 3.6921e-02, 8.1781e-01, 6.5290e-01, 2.7147e-01]],\n",
              "\n",
              "           [[1.5900e-01, 3.8495e-01, 8.1106e-01, 1.3209e-01, 6.4854e-01],\n",
              "            [7.7219e-01, 6.1579e-01, 3.6361e-01, 2.5237e-01, 2.2117e-01],\n",
              "            [2.7751e-01, 3.4744e-01, 1.9628e-01, 8.4773e-01, 7.6882e-01]],\n",
              "\n",
              "           [[8.6902e-01, 8.5232e-01, 9.0206e-01, 3.1486e-01, 9.8143e-01],\n",
              "            [5.8940e-01, 7.0151e-01, 4.5217e-01, 7.3495e-01, 2.3667e-01],\n",
              "            [8.3072e-01, 2.1228e-01, 5.0782e-01, 5.0667e-01, 4.6593e-02]],\n",
              "\n",
              "           [[5.4669e-01, 2.8995e-01, 9.0393e-02, 7.6470e-01, 6.0465e-01],\n",
              "            [1.3159e-01, 8.6329e-01, 7.1307e-01, 2.0995e-01, 5.9787e-01],\n",
              "            [8.0617e-02, 5.5361e-01, 8.1553e-01, 8.8306e-01, 8.5612e-01]]],\n",
              "\n",
              "\n",
              "          [[[5.0812e-01, 3.3174e-01, 2.0629e-01, 9.3679e-01, 5.2532e-01],\n",
              "            [6.3295e-01, 1.5796e-01, 6.0764e-01, 4.3615e-01, 4.8245e-01],\n",
              "            [7.0783e-01, 2.3906e-01, 5.9039e-01, 3.6122e-01, 5.1030e-01]],\n",
              "\n",
              "           [[1.0829e-01, 4.6623e-01, 7.9005e-01, 8.0899e-01, 3.3546e-01],\n",
              "            [1.5979e-01, 6.9382e-01, 7.0810e-01, 7.3128e-01, 4.1100e-02],\n",
              "            [3.8135e-02, 7.5417e-01, 7.6426e-01, 6.5671e-01, 7.8446e-01]],\n",
              "\n",
              "           [[2.5797e-01, 9.6417e-01, 3.1673e-01, 3.0977e-01, 9.5813e-01],\n",
              "            [2.1787e-01, 2.7084e-01, 5.3455e-01, 3.1260e-01, 5.9321e-01],\n",
              "            [8.3882e-01, 8.4826e-01, 9.0218e-01, 6.8816e-01, 2.8471e-01]],\n",
              "\n",
              "           [[5.4085e-01, 9.2523e-01, 1.6300e-01, 9.8540e-01, 9.4546e-02],\n",
              "            [2.1674e-01, 1.8503e-02, 6.9341e-01, 3.4877e-01, 8.8640e-01],\n",
              "            [4.0957e-01, 1.3892e-02, 2.9604e-01, 5.3945e-01, 2.4247e-01]]],\n",
              "\n",
              "\n",
              "          [[[4.5365e-02, 3.5021e-01, 9.1399e-01, 2.4840e-01, 4.3124e-01],\n",
              "            [5.9773e-01, 9.9152e-01, 9.5178e-01, 4.8204e-01, 5.9568e-01],\n",
              "            [7.5190e-01, 8.5328e-02, 4.4632e-01, 8.1602e-01, 9.6535e-02]],\n",
              "\n",
              "           [[2.2201e-01, 1.3562e-02, 9.3988e-02, 9.3693e-01, 7.2823e-01],\n",
              "            [9.7878e-01, 9.2512e-01, 5.1991e-01, 3.5853e-01, 5.6512e-02],\n",
              "            [7.1352e-01, 3.1390e-01, 2.0805e-01, 7.1645e-01, 2.5433e-01]],\n",
              "\n",
              "           [[5.1789e-01, 4.8030e-01, 3.0130e-01, 1.2585e-02, 2.6282e-01],\n",
              "            [4.3439e-02, 4.7876e-01, 1.4441e-01, 7.9836e-01, 4.7404e-01],\n",
              "            [8.7781e-01, 4.6188e-01, 7.6004e-01, 5.6564e-01, 4.7880e-02]],\n",
              "\n",
              "           [[6.7941e-01, 1.5589e-01, 5.0249e-01, 5.6304e-01, 4.0019e-01],\n",
              "            [1.8158e-01, 7.4243e-01, 3.3785e-01, 7.9799e-01, 2.4572e-01],\n",
              "            [1.3486e-01, 5.9559e-01, 8.8643e-01, 5.3215e-01, 1.1541e-01]]]],\n",
              "\n",
              "\n",
              "\n",
              "         [[[[2.4364e-01, 5.9354e-01, 2.6040e-02, 3.8354e-01, 9.7837e-01],\n",
              "            [4.0307e-01, 6.8773e-01, 9.9018e-01, 3.0225e-02, 7.0512e-01],\n",
              "            [6.0792e-01, 7.4156e-02, 6.1619e-01, 2.7095e-01, 6.6960e-01]],\n",
              "\n",
              "           [[2.1599e-01, 6.6020e-01, 7.7650e-01, 3.1818e-01, 2.2732e-01],\n",
              "            [3.7150e-02, 9.9911e-01, 1.1842e-01, 5.6880e-01, 6.1130e-01],\n",
              "            [1.4076e-01, 8.4751e-01, 2.6056e-01, 4.7723e-01, 1.8520e-01]],\n",
              "\n",
              "           [[7.2436e-01, 2.8074e-02, 5.2525e-01, 4.4997e-01, 8.1008e-01],\n",
              "            [7.6760e-01, 7.0662e-01, 4.1854e-01, 6.7461e-01, 4.1224e-01],\n",
              "            [5.9587e-01, 5.0669e-01, 8.5889e-01, 3.1107e-01, 5.1864e-01]],\n",
              "\n",
              "           [[7.1846e-02, 4.5379e-01, 8.5898e-02, 4.3534e-01, 2.2296e-01],\n",
              "            [6.2598e-01, 9.8228e-01, 6.4198e-01, 9.4717e-01, 9.9256e-01],\n",
              "            [4.0638e-01, 8.1179e-01, 7.0450e-01, 5.4214e-01, 7.5385e-01]]],\n",
              "\n",
              "\n",
              "          [[[4.0722e-01, 7.5868e-01, 9.1210e-01, 9.3660e-01, 5.6920e-01],\n",
              "            [1.6426e-01, 2.0573e-01, 7.6184e-01, 2.0580e-01, 5.3134e-02],\n",
              "            [9.3920e-02, 5.1633e-01, 5.6683e-01, 3.1682e-01, 7.7984e-01]],\n",
              "\n",
              "           [[6.8149e-01, 2.2824e-01, 1.5203e-02, 9.5565e-01, 1.5460e-01],\n",
              "            [6.4029e-01, 4.6596e-01, 2.9322e-01, 4.6378e-01, 8.2839e-01],\n",
              "            [7.9533e-01, 9.0364e-01, 9.6559e-01, 5.4126e-01, 9.5643e-01]],\n",
              "\n",
              "           [[3.7888e-01, 4.1783e-01, 4.7386e-01, 9.2402e-01, 1.5875e-01],\n",
              "            [2.7104e-01, 6.4777e-01, 1.9646e-01, 9.9979e-01, 3.9456e-01],\n",
              "            [6.1123e-01, 7.4961e-01, 7.6675e-03, 7.1121e-01, 3.4554e-01]],\n",
              "\n",
              "           [[8.4238e-01, 4.8081e-01, 2.4363e-01, 4.7104e-01, 8.7015e-01],\n",
              "            [8.7998e-01, 5.4915e-01, 7.4882e-01, 5.1625e-01, 6.5395e-01],\n",
              "            [4.5283e-01, 5.5882e-01, 6.1919e-01, 6.6996e-02, 5.2055e-01]]],\n",
              "\n",
              "\n",
              "          [[[1.9809e-01, 6.1880e-02, 3.8647e-01, 1.6726e-01, 2.8476e-01],\n",
              "            [1.0628e-02, 4.4595e-01, 1.7932e-01, 9.9141e-01, 7.0507e-01],\n",
              "            [1.2848e-01, 5.1490e-01, 1.7934e-01, 6.8295e-01, 2.9470e-01]],\n",
              "\n",
              "           [[1.5739e-01, 8.9608e-01, 7.5250e-01, 7.7419e-01, 6.1467e-01],\n",
              "            [8.0422e-01, 5.4603e-02, 7.1767e-02, 1.6286e-01, 7.6616e-01],\n",
              "            [2.1251e-01, 2.1955e-02, 2.3633e-01, 4.8513e-02, 5.6984e-01]],\n",
              "\n",
              "           [[5.9410e-01, 8.6510e-01, 7.5195e-01, 4.9695e-01, 2.1305e-01],\n",
              "            [8.2708e-01, 4.9944e-01, 8.1118e-01, 5.1143e-01, 8.2757e-01],\n",
              "            [5.6846e-01, 7.2079e-02, 2.6112e-01, 7.8892e-01, 4.8023e-01]],\n",
              "\n",
              "           [[5.9328e-01, 7.2352e-01, 2.3265e-01, 3.6077e-02, 4.3229e-01],\n",
              "            [6.0560e-01, 9.6319e-01, 7.2480e-01, 6.1003e-01, 6.8753e-01],\n",
              "            [4.2299e-01, 8.1306e-01, 1.1002e-01, 6.3838e-01, 2.9041e-01]]],\n",
              "\n",
              "\n",
              "          [[[2.7826e-01, 5.6372e-01, 6.3771e-01, 3.8739e-02, 6.4581e-01],\n",
              "            [1.4708e-01, 9.7143e-01, 9.4989e-01, 5.6204e-01, 4.6686e-01],\n",
              "            [5.1430e-01, 3.9500e-01, 7.8249e-01, 6.9456e-01, 6.2706e-01]],\n",
              "\n",
              "           [[3.4353e-01, 6.4025e-01, 2.3112e-01, 3.6712e-01, 8.0321e-01],\n",
              "            [3.1068e-01, 6.1563e-01, 8.6418e-01, 1.6945e-01, 3.3428e-01],\n",
              "            [3.9896e-01, 8.8967e-01, 2.7130e-01, 1.9835e-01, 1.8836e-01]],\n",
              "\n",
              "           [[5.3004e-02, 1.1683e-01, 7.3198e-01, 6.6689e-01, 1.2179e-01],\n",
              "            [4.0098e-01, 9.3105e-01, 4.4146e-01, 8.4782e-01, 9.1929e-01],\n",
              "            [3.8249e-01, 5.6021e-01, 7.1603e-01, 9.2649e-01, 1.2993e-01]],\n",
              "\n",
              "           [[1.8199e-01, 4.1437e-01, 8.0158e-01, 8.7142e-01, 9.4072e-02],\n",
              "            [1.1994e-01, 9.8773e-01, 1.1070e-01, 1.5334e-01, 7.4793e-01],\n",
              "            [8.4298e-01, 9.7562e-01, 7.9348e-01, 7.5419e-01, 5.0738e-01]]]],\n",
              "\n",
              "\n",
              "\n",
              "         [[[[3.9444e-02, 5.7372e-01, 9.9491e-01, 2.5767e-01, 4.2436e-02],\n",
              "            [1.4591e-01, 4.0293e-01, 5.0592e-01, 3.9077e-01, 4.3340e-01],\n",
              "            [8.7816e-01, 6.6187e-01, 1.3305e-01, 3.3213e-01, 9.4379e-01]],\n",
              "\n",
              "           [[7.0027e-01, 7.2346e-01, 7.7220e-01, 2.7833e-01, 4.5688e-01],\n",
              "            [5.6004e-01, 9.6695e-01, 3.8914e-01, 9.5962e-01, 6.0583e-01],\n",
              "            [9.1330e-01, 7.0168e-01, 5.4601e-01, 5.1637e-01, 4.0450e-01]],\n",
              "\n",
              "           [[4.4099e-01, 7.1238e-01, 8.1259e-01, 3.6705e-01, 2.6101e-01],\n",
              "            [6.7450e-01, 5.2268e-01, 6.9477e-01, 6.1054e-01, 1.7564e-01],\n",
              "            [9.4301e-01, 8.1145e-01, 6.8317e-01, 1.4260e-02, 3.9812e-02]],\n",
              "\n",
              "           [[2.8292e-01, 5.1881e-01, 4.8280e-01, 3.2351e-01, 4.7855e-01],\n",
              "            [9.7386e-01, 1.7178e-03, 9.4769e-01, 1.2707e-01, 2.3494e-02],\n",
              "            [7.9627e-01, 5.8556e-01, 4.1963e-01, 8.8757e-01, 6.8466e-01]]],\n",
              "\n",
              "\n",
              "          [[[3.6753e-01, 4.1250e-01, 4.0574e-01, 5.1406e-01, 5.6942e-01],\n",
              "            [6.1301e-01, 6.0777e-01, 1.0982e-01, 1.1827e-01, 2.6788e-01],\n",
              "            [3.9600e-01, 3.3390e-01, 5.8678e-01, 9.7625e-01, 8.8867e-01]],\n",
              "\n",
              "           [[6.8862e-01, 9.7861e-01, 9.2259e-01, 3.5958e-01, 8.7661e-01],\n",
              "            [8.9998e-01, 2.4415e-01, 8.5828e-01, 5.2734e-01, 1.5908e-01],\n",
              "            [6.3562e-01, 8.8180e-01, 8.1989e-01, 2.4358e-01, 2.9046e-01]],\n",
              "\n",
              "           [[9.8803e-01, 1.1721e-01, 3.7612e-01, 9.2054e-01, 4.5557e-01],\n",
              "            [4.1371e-01, 9.0018e-01, 9.9431e-01, 3.3940e-01, 1.3350e-02],\n",
              "            [1.3260e-01, 1.6107e-01, 2.0239e-01, 6.5986e-01, 5.4335e-01]],\n",
              "\n",
              "           [[8.5833e-01, 9.5055e-01, 6.0510e-01, 9.2756e-01, 2.4109e-01],\n",
              "            [8.1008e-01, 1.0291e-01, 9.0980e-01, 7.7300e-01, 3.1915e-01],\n",
              "            [5.6456e-01, 1.9839e-01, 1.2229e-02, 8.5244e-01, 9.2540e-01]]],\n",
              "\n",
              "\n",
              "          [[[4.7849e-01, 7.5560e-01, 6.9894e-01, 3.6067e-01, 2.9625e-01],\n",
              "            [1.3691e-01, 5.7725e-01, 8.4130e-01, 1.7649e-01, 5.3837e-01],\n",
              "            [4.8301e-01, 6.0474e-02, 5.6427e-01, 5.0335e-01, 3.5183e-01]],\n",
              "\n",
              "           [[5.0679e-01, 9.0840e-01, 1.9066e-01, 3.4719e-01, 8.3562e-01],\n",
              "            [1.6376e-01, 2.0272e-01, 8.8644e-01, 7.3201e-01, 5.5117e-01],\n",
              "            [9.7373e-01, 5.6535e-01, 5.8335e-01, 7.4749e-01, 3.5753e-01]],\n",
              "\n",
              "           [[4.0895e-01, 8.0856e-01, 1.5793e-01, 1.8857e-01, 2.1230e-02],\n",
              "            [5.8229e-01, 4.2214e-03, 4.5381e-01, 3.0570e-01, 2.3624e-01],\n",
              "            [9.8499e-01, 9.6999e-01, 1.9817e-01, 1.4308e-01, 8.7675e-01]],\n",
              "\n",
              "           [[3.9230e-01, 6.2728e-01, 6.2080e-01, 4.1828e-01, 7.0366e-01],\n",
              "            [1.7161e-01, 2.0787e-01, 6.3011e-01, 7.8336e-01, 3.7957e-01],\n",
              "            [4.9756e-01, 5.7044e-01, 8.4198e-01, 8.8202e-01, 3.4777e-01]]],\n",
              "\n",
              "\n",
              "          [[[1.9241e-01, 7.2194e-01, 7.3314e-01, 6.3502e-01, 3.4059e-01],\n",
              "            [2.2432e-01, 6.3214e-01, 3.2179e-01, 4.8035e-01, 2.8706e-01],\n",
              "            [2.3384e-01, 3.6097e-01, 9.0560e-01, 5.7736e-01, 5.9352e-01]],\n",
              "\n",
              "           [[4.7535e-01, 1.8026e-02, 8.5676e-01, 9.1878e-01, 5.5192e-01],\n",
              "            [9.1242e-02, 5.9286e-02, 8.3517e-01, 7.5843e-03, 4.9123e-01],\n",
              "            [5.0831e-01, 6.7848e-01, 7.8838e-01, 2.6646e-01, 7.7573e-01]],\n",
              "\n",
              "           [[7.1540e-01, 4.9711e-01, 7.7753e-01, 7.9082e-01, 9.4346e-01],\n",
              "            [8.5772e-01, 7.8285e-01, 2.2334e-01, 4.7358e-01, 7.7754e-02],\n",
              "            [3.6810e-01, 1.6556e-01, 9.2425e-01, 5.2824e-01, 8.4933e-01]],\n",
              "\n",
              "           [[6.7506e-02, 5.1494e-01, 6.0287e-01, 6.9035e-01, 1.8534e-01],\n",
              "            [5.4656e-01, 6.0610e-01, 3.9995e-01, 4.9213e-01, 8.1846e-01],\n",
              "            [3.6680e-01, 8.6074e-01, 4.6535e-01, 7.6408e-01, 7.7753e-01]]]],\n",
              "\n",
              "\n",
              "\n",
              "         [[[[8.3825e-01, 6.0682e-01, 1.7339e-01, 9.5119e-01, 6.0238e-01],\n",
              "            [2.7630e-02, 5.8337e-01, 7.8918e-01, 5.5052e-01, 5.5873e-01],\n",
              "            [2.3825e-01, 8.2917e-01, 1.4253e-01, 1.0914e-01, 7.6861e-02]],\n",
              "\n",
              "           [[6.4205e-01, 2.5271e-01, 4.6334e-01, 2.2286e-01, 3.2268e-01],\n",
              "            [8.6326e-01, 4.4974e-01, 2.3319e-01, 8.3947e-01, 8.9270e-02],\n",
              "            [5.0108e-01, 3.0281e-02, 4.4194e-01, 3.6039e-01, 2.8108e-01]],\n",
              "\n",
              "           [[8.1037e-01, 3.5476e-01, 9.8543e-02, 4.0668e-01, 8.1613e-01],\n",
              "            [8.0011e-01, 6.1907e-01, 8.1808e-01, 1.6601e-01, 3.8607e-01],\n",
              "            [4.7428e-01, 7.7021e-01, 2.5403e-01, 3.1336e-02, 4.1925e-01]],\n",
              "\n",
              "           [[5.2998e-02, 1.7456e-01, 8.5249e-02, 6.4745e-01, 2.3731e-01],\n",
              "            [9.1694e-02, 3.2648e-01, 4.4424e-01, 7.7977e-01, 1.7974e-01],\n",
              "            [9.0797e-01, 1.0437e-01, 9.5893e-01, 2.0133e-01, 4.0182e-01]]],\n",
              "\n",
              "\n",
              "          [[[1.4882e-01, 3.9529e-01, 2.6565e-01, 4.3017e-01, 4.8646e-01],\n",
              "            [3.5800e-01, 7.6873e-01, 5.0217e-01, 4.7756e-01, 8.2740e-01],\n",
              "            [6.8658e-01, 5.6645e-01, 1.7175e-01, 7.6200e-01, 8.3002e-01]],\n",
              "\n",
              "           [[3.1956e-01, 3.3500e-01, 8.4545e-01, 1.5034e-01, 7.3708e-02],\n",
              "            [2.1708e-01, 6.7747e-01, 7.8349e-01, 2.9710e-01, 1.6869e-01],\n",
              "            [2.3958e-01, 3.4635e-01, 8.1373e-01, 8.8563e-02, 5.6865e-01]],\n",
              "\n",
              "           [[8.1091e-01, 7.1367e-01, 2.2634e-01, 3.5732e-01, 1.5779e-01],\n",
              "            [4.3931e-01, 8.4047e-01, 6.6884e-02, 7.6690e-01, 8.5806e-01],\n",
              "            [4.9482e-01, 5.4049e-02, 8.9023e-01, 1.9249e-01, 7.7920e-01]],\n",
              "\n",
              "           [[2.6403e-01, 5.1202e-03, 7.8690e-01, 9.2317e-01, 5.6416e-01],\n",
              "            [4.8479e-01, 5.0519e-01, 8.5496e-01, 8.6226e-01, 2.9392e-01],\n",
              "            [6.5939e-01, 6.8606e-01, 1.8722e-01, 9.5661e-01, 1.8777e-01]]],\n",
              "\n",
              "\n",
              "          [[[1.8723e-01, 8.8461e-01, 4.5217e-01, 3.3956e-01, 7.4101e-03],\n",
              "            [8.1755e-01, 1.1440e-01, 8.9806e-01, 6.9742e-01, 1.5113e-01],\n",
              "            [3.7162e-01, 5.7440e-01, 9.8252e-01, 2.3865e-01, 9.3058e-01]],\n",
              "\n",
              "           [[5.0720e-01, 5.6863e-01, 7.5435e-01, 6.6465e-01, 3.0053e-01],\n",
              "            [9.0436e-01, 5.3042e-01, 8.3232e-01, 7.4568e-01, 2.9959e-02],\n",
              "            [1.1903e-01, 7.7348e-01, 3.0800e-01, 7.2329e-01, 4.9090e-01]],\n",
              "\n",
              "           [[2.4175e-01, 8.0701e-01, 2.1500e-01, 9.7839e-01, 7.5127e-01],\n",
              "            [9.9413e-02, 1.8752e-01, 2.4087e-02, 9.3842e-01, 4.4081e-01],\n",
              "            [2.8640e-01, 4.3817e-01, 8.4376e-01, 4.3451e-02, 6.0597e-01]],\n",
              "\n",
              "           [[1.9192e-02, 3.5041e-01, 6.4909e-01, 3.2528e-01, 9.4790e-01],\n",
              "            [3.1024e-01, 6.9635e-01, 7.8854e-01, 9.5993e-01, 9.6147e-01],\n",
              "            [9.0821e-01, 3.0449e-01, 8.4426e-01, 8.2650e-01, 5.8235e-01]]],\n",
              "\n",
              "\n",
              "          [[[6.5440e-01, 9.3808e-01, 8.1828e-01, 5.7246e-01, 9.0901e-01],\n",
              "            [8.3159e-01, 2.3023e-01, 7.1274e-01, 8.1618e-01, 5.7261e-01],\n",
              "            [6.6177e-01, 2.3389e-01, 3.2640e-01, 8.0032e-01, 3.2820e-01]],\n",
              "\n",
              "           [[6.7502e-01, 3.4285e-01, 9.1592e-01, 3.6539e-01, 1.1083e-01],\n",
              "            [3.3195e-01, 4.9526e-02, 8.3287e-01, 5.8637e-01, 6.7233e-01],\n",
              "            [1.3743e-01, 7.1244e-01, 3.2679e-01, 2.1662e-01, 9.1469e-01]],\n",
              "\n",
              "           [[9.6316e-01, 7.8287e-02, 6.4325e-01, 5.8077e-02, 5.3747e-01],\n",
              "            [1.2821e-02, 7.8727e-02, 6.0402e-01, 6.5289e-01, 5.5427e-01],\n",
              "            [9.2159e-01, 4.6366e-01, 5.3460e-01, 5.2570e-01, 4.9504e-01]],\n",
              "\n",
              "           [[6.2637e-01, 6.6776e-01, 5.9823e-01, 5.9105e-01, 4.1596e-01],\n",
              "            [9.1557e-01, 6.0108e-01, 3.5372e-01, 5.7567e-01, 5.3631e-01],\n",
              "            [3.8089e-02, 1.3867e-01, 9.0409e-01, 9.3421e-01, 5.3213e-01]]]],\n",
              "\n",
              "\n",
              "\n",
              "         [[[[2.3885e-01, 3.5560e-02, 6.9675e-01, 4.5265e-01, 2.6831e-01],\n",
              "            [8.9394e-01, 8.9374e-01, 4.0140e-01, 8.4786e-01, 7.8643e-01],\n",
              "            [3.6049e-02, 5.5647e-01, 5.3745e-01, 4.0624e-01, 1.0669e-02]],\n",
              "\n",
              "           [[6.9724e-01, 5.7885e-01, 8.4399e-01, 7.2680e-02, 4.3465e-01],\n",
              "            [6.7411e-01, 9.1921e-01, 2.0722e-02, 5.3973e-01, 7.3146e-01],\n",
              "            [8.9521e-01, 4.7160e-01, 5.1210e-01, 6.7083e-01, 8.4673e-01]],\n",
              "\n",
              "           [[8.7283e-01, 3.9018e-01, 4.7515e-01, 1.9500e-02, 2.6431e-01],\n",
              "            [6.2687e-02, 3.9828e-01, 1.4778e-01, 9.8109e-02, 9.2516e-01],\n",
              "            [4.3031e-01, 4.3474e-01, 9.0401e-01, 7.5206e-01, 7.5016e-01]],\n",
              "\n",
              "           [[6.8562e-01, 5.0531e-01, 5.5018e-01, 1.0392e-01, 6.7106e-01],\n",
              "            [1.1077e-01, 3.2462e-01, 8.0591e-01, 5.1266e-01, 1.4274e-01],\n",
              "            [2.3220e-01, 4.4727e-01, 1.7381e-01, 3.0607e-01, 8.4246e-01]]],\n",
              "\n",
              "\n",
              "          [[[3.9152e-01, 7.4086e-01, 8.6104e-01, 5.4069e-01, 7.3787e-01],\n",
              "            [5.3857e-01, 4.5650e-01, 2.4627e-01, 1.0950e-01, 6.2001e-01],\n",
              "            [5.2719e-02, 8.5099e-01, 9.1523e-02, 9.2416e-01, 6.8953e-01]],\n",
              "\n",
              "           [[1.9227e-01, 8.7718e-01, 8.8734e-01, 9.0992e-01, 5.4100e-02],\n",
              "            [8.2358e-02, 7.1426e-01, 7.4479e-01, 4.9868e-01, 4.3606e-01],\n",
              "            [5.9284e-01, 6.6437e-01, 2.8852e-01, 9.3593e-01, 4.3235e-01]],\n",
              "\n",
              "           [[2.1278e-01, 3.3468e-01, 7.8287e-01, 4.6724e-01, 6.9562e-01],\n",
              "            [1.5225e-01, 1.1228e-01, 4.8098e-01, 9.8778e-01, 1.1784e-01],\n",
              "            [4.4483e-03, 2.9995e-03, 3.2042e-01, 9.9416e-01, 5.4547e-01]],\n",
              "\n",
              "           [[9.7449e-01, 1.3635e-01, 5.5613e-01, 2.6757e-01, 3.6946e-01],\n",
              "            [3.7315e-01, 2.3451e-01, 8.3768e-01, 3.5871e-01, 1.8657e-01],\n",
              "            [2.5141e-01, 8.0621e-01, 3.6698e-01, 7.5921e-01, 3.6520e-01]]],\n",
              "\n",
              "\n",
              "          [[[7.8550e-01, 4.6889e-01, 8.4213e-01, 9.2379e-01, 8.8688e-01],\n",
              "            [7.0785e-01, 1.9323e-01, 4.7441e-01, 2.2513e-01, 7.3954e-01],\n",
              "            [3.6269e-01, 5.0288e-01, 2.5925e-02, 3.5047e-01, 1.0547e-01]],\n",
              "\n",
              "           [[9.3583e-02, 2.1553e-01, 1.5798e-01, 9.6121e-01, 6.1231e-01],\n",
              "            [6.1841e-01, 9.6442e-02, 3.9311e-01, 8.2679e-01, 1.5135e-01],\n",
              "            [6.9132e-01, 5.9436e-01, 6.6952e-01, 7.2313e-01, 1.3154e-01]],\n",
              "\n",
              "           [[5.9122e-01, 6.7948e-01, 2.2933e-01, 4.2926e-01, 2.4139e-01],\n",
              "            [7.4816e-01, 9.8733e-01, 2.5533e-02, 9.9589e-01, 6.7845e-01],\n",
              "            [9.3025e-01, 1.0317e-01, 9.8257e-01, 9.7687e-01, 9.3127e-01]],\n",
              "\n",
              "           [[8.3721e-01, 5.0738e-01, 6.5980e-01, 9.2492e-02, 3.0575e-01],\n",
              "            [6.1939e-01, 7.0646e-01, 5.0178e-01, 2.0970e-02, 4.9442e-01],\n",
              "            [6.9904e-01, 9.0374e-01, 5.6620e-01, 7.1710e-01, 1.2677e-01]]],\n",
              "\n",
              "\n",
              "          [[[3.3095e-01, 6.3346e-01, 5.3670e-01, 3.4770e-01, 8.0182e-01],\n",
              "            [7.4877e-03, 6.3930e-01, 7.7668e-01, 5.9302e-01, 4.6333e-01],\n",
              "            [8.0977e-01, 4.0469e-01, 4.3434e-01, 1.0138e-01, 3.8059e-01]],\n",
              "\n",
              "           [[3.0129e-01, 3.1140e-02, 6.1869e-01, 4.4121e-01, 2.8549e-01],\n",
              "            [5.6078e-01, 7.1611e-02, 9.8838e-01, 4.6426e-01, 3.0103e-01],\n",
              "            [1.5808e-01, 9.6533e-01, 7.6451e-01, 5.5921e-01, 9.5031e-01]],\n",
              "\n",
              "           [[4.9500e-01, 8.1379e-01, 3.2753e-02, 4.7335e-01, 2.0463e-01],\n",
              "            [1.1892e-02, 4.3825e-01, 9.9546e-01, 9.7771e-01, 5.4909e-01],\n",
              "            [3.0926e-01, 4.9650e-01, 9.4530e-01, 3.8659e-01, 8.7833e-01]],\n",
              "\n",
              "           [[7.5859e-01, 9.3978e-01, 4.7838e-01, 8.7075e-01, 4.4171e-01],\n",
              "            [7.9530e-01, 2.2736e-01, 5.6422e-01, 5.5394e-01, 9.9887e-01],\n",
              "            [2.9642e-01, 2.1417e-01, 8.3021e-02, 3.5966e-01, 8.0994e-01]]]],\n",
              "\n",
              "\n",
              "\n",
              "         [[[[1.2339e-01, 7.4867e-01, 5.2295e-02, 7.8669e-01, 2.3245e-01],\n",
              "            [6.0252e-01, 7.2388e-01, 8.3752e-01, 4.1219e-01, 2.3749e-01],\n",
              "            [2.2154e-01, 4.6739e-01, 2.7193e-01, 7.1151e-01, 4.2293e-02]],\n",
              "\n",
              "           [[4.4728e-01, 1.1899e-01, 6.1286e-01, 5.0399e-01, 3.5204e-01],\n",
              "            [5.3106e-01, 7.5760e-01, 5.2869e-01, 7.6112e-01, 7.2229e-01],\n",
              "            [8.4318e-01, 5.7016e-01, 8.8011e-01, 1.8934e-02, 1.1118e-01]],\n",
              "\n",
              "           [[4.2523e-01, 9.9552e-01, 3.0828e-01, 4.8917e-01, 2.1621e-01],\n",
              "            [5.9741e-01, 6.8476e-03, 7.4771e-01, 9.3328e-02, 3.9288e-01],\n",
              "            [9.2909e-02, 1.4845e-01, 7.9254e-01, 2.0106e-01, 4.3547e-01]],\n",
              "\n",
              "           [[4.2632e-01, 3.9191e-01, 4.3696e-04, 8.7132e-01, 4.5717e-01],\n",
              "            [5.9139e-01, 5.4268e-01, 7.1719e-01, 1.2238e-01, 9.3647e-02],\n",
              "            [3.2147e-03, 3.1783e-01, 5.7233e-01, 4.5735e-02, 6.2495e-01]]],\n",
              "\n",
              "\n",
              "          [[[9.5682e-01, 9.1900e-01, 5.1635e-02, 5.0402e-01, 4.9263e-01],\n",
              "            [8.6765e-01, 4.2914e-01, 7.5561e-01, 5.5467e-01, 9.3196e-01],\n",
              "            [1.0906e-01, 3.6012e-01, 3.9430e-01, 1.5482e-01, 2.0395e-02]],\n",
              "\n",
              "           [[5.2916e-02, 4.3150e-01, 6.6857e-01, 3.1698e-01, 6.0301e-01],\n",
              "            [9.1745e-01, 3.2033e-01, 6.5723e-01, 1.2047e-01, 8.2606e-01],\n",
              "            [5.1425e-01, 8.0955e-01, 3.3744e-02, 7.1499e-01, 4.6455e-01]],\n",
              "\n",
              "           [[8.1353e-01, 5.3751e-01, 1.0301e-01, 2.3999e-01, 9.6227e-01],\n",
              "            [6.6981e-01, 3.4284e-01, 3.5155e-01, 8.8595e-01, 8.4837e-01],\n",
              "            [2.7988e-01, 3.2670e-01, 6.7950e-01, 5.8186e-01, 8.8497e-01]],\n",
              "\n",
              "           [[7.3035e-01, 8.9372e-01, 3.5978e-01, 2.7519e-01, 3.4064e-01],\n",
              "            [6.1961e-01, 5.5701e-02, 8.7086e-01, 6.8567e-01, 5.4708e-01],\n",
              "            [7.7522e-01, 8.6981e-01, 5.4973e-01, 5.8340e-01, 3.9036e-01]]],\n",
              "\n",
              "\n",
              "          [[[6.6196e-01, 5.6444e-01, 2.8454e-01, 2.1615e-01, 9.9085e-01],\n",
              "            [3.5978e-01, 1.3929e-01, 7.2853e-01, 8.0269e-01, 1.3684e-01],\n",
              "            [4.8696e-01, 6.7686e-02, 1.8677e-01, 9.6789e-01, 4.3621e-01]],\n",
              "\n",
              "           [[1.4810e-01, 3.5304e-01, 8.9082e-01, 3.9987e-01, 1.6667e-01],\n",
              "            [6.5945e-01, 5.7003e-01, 4.4425e-01, 6.9471e-01, 1.4589e-02],\n",
              "            [5.2559e-01, 5.5137e-01, 6.4843e-01, 7.3125e-01, 7.8201e-01]],\n",
              "\n",
              "           [[7.1977e-01, 7.2420e-02, 1.1803e-01, 1.1237e-01, 4.3263e-01],\n",
              "            [4.2151e-01, 9.5875e-01, 2.4188e-01, 5.5432e-01, 8.4440e-01],\n",
              "            [7.7438e-01, 6.6005e-01, 6.9717e-01, 5.0184e-01, 4.0236e-01]],\n",
              "\n",
              "           [[7.0341e-01, 4.7031e-01, 9.8748e-01, 9.0707e-01, 2.6299e-01],\n",
              "            [2.9787e-01, 4.5407e-01, 7.9041e-01, 3.5510e-02, 2.3190e-01],\n",
              "            [9.6101e-01, 6.9789e-01, 7.8408e-01, 8.8707e-01, 1.1358e-01]]],\n",
              "\n",
              "\n",
              "          [[[4.1388e-01, 7.7043e-01, 4.4303e-01, 6.9978e-01, 9.1233e-01],\n",
              "            [4.0692e-01, 4.3747e-01, 4.7162e-01, 8.6223e-01, 4.8922e-01],\n",
              "            [8.4090e-01, 5.7956e-01, 6.5904e-01, 8.2795e-03, 6.3929e-01]],\n",
              "\n",
              "           [[8.3725e-01, 7.8409e-01, 8.6340e-01, 8.7221e-01, 5.5100e-01],\n",
              "            [1.8716e-01, 9.6879e-01, 3.4226e-01, 5.5478e-01, 5.0912e-01],\n",
              "            [2.9691e-01, 3.0454e-02, 3.5646e-01, 7.5045e-01, 4.8307e-01]],\n",
              "\n",
              "           [[4.8223e-01, 4.7133e-01, 8.1207e-01, 8.7327e-02, 3.4398e-01],\n",
              "            [1.3943e-01, 3.7418e-01, 3.2386e-01, 6.9870e-01, 7.3144e-02],\n",
              "            [4.8940e-01, 8.8980e-01, 3.8154e-02, 5.4230e-01, 5.0347e-01]],\n",
              "\n",
              "           [[9.2661e-01, 9.2889e-01, 4.7347e-01, 9.7878e-01, 3.8318e-02],\n",
              "            [6.1936e-02, 7.1838e-02, 1.0926e-01, 7.4245e-01, 5.4264e-01],\n",
              "            [6.6767e-01, 4.3846e-01, 8.6656e-01, 3.7551e-01, 3.9132e-01]]]]],\n",
              "\n",
              "\n",
              "\n",
              "\n",
              "        [[[[[6.8767e-01, 4.6983e-01, 9.2941e-01, 9.0240e-01, 2.7371e-01],\n",
              "            [9.6119e-01, 6.4853e-01, 3.8076e-01, 3.2353e-01, 3.3862e-01],\n",
              "            [2.0436e-01, 6.6017e-01, 8.5045e-01, 2.4482e-01, 4.9188e-01]],\n",
              "\n",
              "           [[9.8271e-01, 5.2764e-01, 3.5492e-01, 2.6804e-01, 7.4883e-01],\n",
              "            [5.4451e-01, 9.5055e-01, 1.2984e-02, 5.7283e-01, 3.5354e-01],\n",
              "            [3.5529e-01, 2.2582e-01, 6.0352e-01, 2.1210e-01, 6.3284e-01]],\n",
              "\n",
              "           [[1.8475e-01, 9.4496e-01, 7.2817e-01, 1.6435e-01, 3.4374e-01],\n",
              "            [5.0791e-01, 3.5229e-01, 5.4410e-01, 1.6722e-01, 4.0167e-01],\n",
              "            [8.5173e-01, 1.8558e-01, 3.8078e-01, 2.2932e-01, 2.1084e-01]],\n",
              "\n",
              "           [[6.7735e-02, 1.3494e-01, 3.1993e-01, 7.5363e-01, 5.2065e-02],\n",
              "            [1.8379e-01, 6.3556e-01, 5.2075e-02, 7.1295e-01, 4.3579e-01],\n",
              "            [3.4717e-01, 9.0982e-01, 7.9996e-01, 1.2855e-01, 7.2592e-01]]],\n",
              "\n",
              "\n",
              "          [[[1.0468e-01, 8.9602e-01, 4.7651e-01, 3.5345e-01, 5.5658e-01],\n",
              "            [2.0515e-01, 5.6017e-01, 5.0773e-01, 9.4570e-01, 8.0324e-02],\n",
              "            [5.9399e-01, 1.8811e-01, 7.0612e-01, 1.0897e-01, 4.6446e-01]],\n",
              "\n",
              "           [[6.8062e-01, 2.2037e-01, 1.3590e-01, 5.0745e-01, 5.2584e-01],\n",
              "            [2.7936e-01, 9.1150e-01, 1.5238e-01, 3.0700e-01, 9.3209e-01],\n",
              "            [2.8501e-01, 5.1254e-01, 1.2111e-01, 1.6178e-01, 8.3236e-02]],\n",
              "\n",
              "           [[3.4539e-01, 4.7766e-01, 2.0392e-01, 5.4214e-01, 3.9488e-01],\n",
              "            [8.5900e-01, 4.4877e-02, 5.8245e-01, 4.8063e-01, 3.8282e-01],\n",
              "            [1.8085e-01, 5.0893e-01, 1.3820e-01, 1.0618e-01, 2.6947e-02]],\n",
              "\n",
              "           [[8.3184e-01, 1.2770e-01, 7.4330e-01, 7.6878e-01, 4.0191e-01],\n",
              "            [2.6510e-01, 1.9545e-01, 6.2032e-01, 9.2518e-02, 5.1539e-01],\n",
              "            [1.6760e-01, 4.4767e-01, 3.2921e-01, 1.1455e-01, 6.9757e-01]]],\n",
              "\n",
              "\n",
              "          [[[7.6883e-01, 8.6437e-01, 1.9646e-01, 4.8767e-01, 7.3209e-02],\n",
              "            [1.9708e-01, 9.1402e-01, 2.6966e-01, 1.7755e-01, 4.4645e-01],\n",
              "            [7.5277e-01, 2.2858e-01, 9.9530e-01, 5.4399e-01, 6.0908e-01]],\n",
              "\n",
              "           [[1.1335e-01, 8.5274e-01, 8.7729e-01, 2.3367e-03, 8.2447e-01],\n",
              "            [9.5751e-01, 2.1551e-01, 5.8495e-01, 9.3637e-01, 4.0847e-01],\n",
              "            [8.6970e-01, 3.1008e-01, 6.8147e-01, 2.7788e-01, 1.6639e-01]],\n",
              "\n",
              "           [[1.5549e-01, 4.6293e-01, 2.0034e-01, 1.1818e-01, 9.0224e-01],\n",
              "            [2.8976e-01, 2.9147e-01, 8.3088e-01, 6.8076e-01, 2.8303e-01],\n",
              "            [7.6181e-01, 4.6052e-01, 2.1923e-01, 1.7466e-01, 6.3336e-01]],\n",
              "\n",
              "           [[9.4138e-01, 6.9168e-01, 5.2195e-02, 2.1083e-01, 1.9467e-02],\n",
              "            [2.5755e-01, 2.2003e-01, 3.4034e-01, 2.2607e-01, 1.5630e-01],\n",
              "            [2.3398e-01, 8.8113e-01, 9.4561e-01, 3.6380e-01, 1.2679e-01]]],\n",
              "\n",
              "\n",
              "          [[[2.7788e-02, 1.1416e-01, 9.1710e-01, 6.7623e-01, 4.0463e-01],\n",
              "            [3.3941e-01, 1.4382e-01, 3.3844e-01, 7.3106e-01, 1.1018e-01],\n",
              "            [3.8389e-01, 7.2974e-01, 8.3805e-01, 7.0743e-02, 3.4702e-01]],\n",
              "\n",
              "           [[8.9761e-01, 4.0132e-01, 4.9086e-01, 6.0501e-01, 3.4761e-01],\n",
              "            [8.3804e-01, 9.4993e-01, 2.3337e-01, 8.5120e-01, 6.9124e-01],\n",
              "            [8.2474e-01, 1.9688e-01, 5.3244e-01, 3.2174e-01, 2.0735e-01]],\n",
              "\n",
              "           [[2.3135e-02, 6.0129e-01, 6.1361e-01, 7.4126e-01, 2.8095e-01],\n",
              "            [3.1885e-01, 8.1228e-01, 9.3086e-01, 8.6729e-01, 4.2921e-01],\n",
              "            [7.6270e-01, 9.5411e-01, 8.7403e-01, 5.5618e-01, 1.9743e-01]],\n",
              "\n",
              "           [[8.1544e-02, 4.8684e-01, 2.7905e-01, 3.1472e-02, 6.9679e-01],\n",
              "            [1.9590e-01, 2.3311e-01, 6.4903e-01, 8.1411e-02, 1.2443e-01],\n",
              "            [7.2432e-01, 3.2698e-01, 8.7153e-01, 5.8913e-01, 5.8328e-01]]]],\n",
              "\n",
              "\n",
              "\n",
              "         [[[[3.6627e-01, 8.8538e-01, 1.1536e-01, 9.5563e-01, 1.0721e-01],\n",
              "            [1.7708e-01, 6.0565e-01, 9.6218e-01, 4.7489e-01, 2.7532e-01],\n",
              "            [1.3635e-02, 1.2651e-01, 3.4845e-01, 9.2995e-01, 3.2878e-01]],\n",
              "\n",
              "           [[9.3858e-01, 3.6286e-01, 2.1419e-01, 3.1179e-01, 2.8251e-02],\n",
              "            [6.6420e-01, 5.5800e-02, 5.1281e-01, 3.3555e-01, 1.0947e-01],\n",
              "            [6.5961e-01, 3.4149e-01, 1.0835e-01, 8.1435e-01, 3.1333e-01]],\n",
              "\n",
              "           [[9.9282e-02, 1.1295e-01, 8.8463e-01, 9.5375e-02, 4.8154e-01],\n",
              "            [3.9844e-03, 7.1066e-01, 1.4522e-01, 7.7848e-01, 1.7817e-01],\n",
              "            [8.8711e-01, 7.0196e-01, 5.1997e-01, 4.3429e-01, 9.6814e-01]],\n",
              "\n",
              "           [[5.9598e-01, 4.6527e-01, 2.1957e-01, 6.5472e-01, 3.8981e-01],\n",
              "            [3.0913e-01, 7.5226e-01, 1.4024e-01, 5.5143e-01, 6.2104e-01],\n",
              "            [5.8315e-01, 8.0845e-03, 1.9312e-01, 6.6167e-01, 8.5326e-01]]],\n",
              "\n",
              "\n",
              "          [[[6.1710e-01, 3.1298e-01, 8.5145e-01, 3.5177e-02, 5.7278e-01],\n",
              "            [9.1673e-01, 4.9696e-01, 7.1135e-01, 8.2957e-01, 1.4380e-01],\n",
              "            [6.3975e-01, 9.7768e-01, 3.6787e-01, 9.4530e-01, 8.0446e-01]],\n",
              "\n",
              "           [[5.3357e-02, 1.9825e-04, 7.7107e-01, 3.4991e-01, 3.1133e-01],\n",
              "            [7.4103e-02, 1.6520e-01, 8.2925e-02, 3.7486e-01, 4.6280e-01],\n",
              "            [7.1560e-01, 9.9892e-01, 2.9368e-01, 9.2782e-01, 7.0410e-01]],\n",
              "\n",
              "           [[2.8977e-01, 7.4494e-01, 3.2784e-01, 1.7869e-02, 5.8480e-01],\n",
              "            [4.0401e-01, 3.3636e-01, 3.1873e-01, 5.3987e-01, 1.7022e-02],\n",
              "            [5.5921e-01, 9.5139e-01, 9.1678e-01, 2.1957e-01, 6.0213e-01]],\n",
              "\n",
              "           [[9.3013e-01, 5.7746e-01, 4.4434e-01, 7.5231e-01, 9.7736e-01],\n",
              "            [5.6113e-01, 6.6366e-01, 3.1103e-01, 4.9032e-01, 2.8700e-01],\n",
              "            [9.3438e-01, 9.2416e-01, 8.9622e-01, 5.4496e-01, 7.9396e-01]]],\n",
              "\n",
              "\n",
              "          [[[2.8965e-01, 6.1108e-02, 1.6085e-01, 5.0909e-01, 8.5799e-01],\n",
              "            [9.8531e-01, 2.8647e-02, 8.9517e-01, 5.7306e-01, 8.8516e-01],\n",
              "            [2.0452e-01, 5.8463e-01, 3.6754e-01, 7.7179e-01, 7.6390e-01]],\n",
              "\n",
              "           [[6.4115e-01, 4.0257e-01, 3.9035e-01, 7.9752e-01, 8.4358e-01],\n",
              "            [3.8336e-01, 2.7639e-01, 4.8010e-01, 1.2602e-01, 6.7545e-01],\n",
              "            [3.2080e-01, 9.1882e-01, 1.8108e-01, 7.0627e-01, 2.3820e-01]],\n",
              "\n",
              "           [[2.7659e-01, 8.6314e-01, 9.8419e-01, 2.9143e-01, 5.6190e-01],\n",
              "            [5.5991e-01, 4.4274e-01, 5.6531e-01, 9.0911e-01, 4.1785e-02],\n",
              "            [2.4268e-01, 8.5375e-01, 1.6795e-01, 2.7054e-01, 2.9972e-01]],\n",
              "\n",
              "           [[2.4740e-01, 9.4951e-01, 7.6878e-01, 7.6315e-01, 1.0562e-01],\n",
              "            [4.7762e-01, 9.9666e-01, 4.8329e-01, 4.5406e-01, 1.6552e-01],\n",
              "            [2.3365e-01, 6.5278e-01, 9.6327e-01, 7.5403e-01, 5.6526e-02]]],\n",
              "\n",
              "\n",
              "          [[[8.2506e-01, 2.9013e-01, 4.7515e-01, 4.1297e-01, 5.0010e-01],\n",
              "            [8.2895e-01, 1.8754e-01, 3.7121e-01, 9.8810e-01, 8.4558e-01],\n",
              "            [6.1751e-01, 3.3226e-01, 7.1959e-02, 8.3725e-02, 4.3501e-01]],\n",
              "\n",
              "           [[7.9932e-01, 2.3725e-01, 1.3483e-01, 4.5795e-01, 6.0692e-01],\n",
              "            [8.7644e-01, 2.8833e-01, 5.7686e-01, 7.1648e-01, 9.8309e-01],\n",
              "            [6.8909e-02, 1.8985e-01, 1.1136e-01, 5.7990e-01, 5.8052e-02]],\n",
              "\n",
              "           [[7.4672e-01, 5.2261e-03, 4.1214e-01, 5.6575e-01, 5.5028e-01],\n",
              "            [3.4063e-01, 7.0772e-01, 9.1171e-01, 2.8411e-01, 1.2350e-01],\n",
              "            [8.8903e-01, 9.3593e-02, 6.9428e-01, 7.5537e-01, 2.2968e-02]],\n",
              "\n",
              "           [[3.3978e-01, 5.2913e-01, 8.5808e-01, 6.3086e-01, 1.6493e-01],\n",
              "            [1.5439e-01, 3.4307e-01, 8.0677e-01, 1.0730e-01, 4.8438e-01],\n",
              "            [6.7497e-02, 9.2012e-02, 5.8235e-01, 9.5506e-01, 2.7720e-02]]]],\n",
              "\n",
              "\n",
              "\n",
              "         [[[[1.3660e-01, 9.9646e-01, 8.8279e-01, 5.2394e-01, 4.9373e-02],\n",
              "            [9.1144e-01, 3.4897e-01, 6.6492e-01, 4.1922e-01, 5.6399e-01],\n",
              "            [5.1492e-01, 8.4160e-01, 8.1958e-01, 9.5764e-01, 9.8962e-01]],\n",
              "\n",
              "           [[3.4683e-01, 2.7114e-01, 2.0577e-01, 8.0900e-01, 8.1257e-01],\n",
              "            [1.9501e-01, 8.0629e-01, 5.3086e-01, 7.5232e-01, 8.9651e-01],\n",
              "            [9.6959e-01, 9.6459e-01, 6.1517e-01, 6.7968e-01, 9.1129e-01]],\n",
              "\n",
              "           [[2.6673e-01, 3.0869e-01, 5.2689e-01, 8.6996e-01, 1.9295e-01],\n",
              "            [3.4148e-01, 8.8241e-01, 4.2570e-01, 9.0309e-01, 3.2209e-01],\n",
              "            [5.9926e-01, 6.1331e-01, 2.7982e-01, 1.6340e-01, 3.8281e-01]],\n",
              "\n",
              "           [[4.2782e-01, 2.2910e-01, 3.6027e-01, 2.6468e-01, 2.7028e-01],\n",
              "            [9.2641e-01, 2.3970e-01, 3.4904e-01, 2.6109e-01, 4.5090e-01],\n",
              "            [3.3462e-04, 2.5236e-02, 6.6751e-01, 8.3030e-01, 3.5766e-01]]],\n",
              "\n",
              "\n",
              "          [[[1.8335e-01, 9.9259e-01, 6.7056e-01, 2.9233e-01, 3.2119e-01],\n",
              "            [7.6954e-01, 9.1572e-01, 7.5622e-01, 9.1799e-01, 1.2149e-01],\n",
              "            [4.3567e-02, 6.3533e-01, 2.4425e-01, 4.5059e-01, 5.1754e-01]],\n",
              "\n",
              "           [[2.6277e-01, 1.4042e-01, 1.7609e-01, 7.9122e-01, 5.9713e-01],\n",
              "            [3.0480e-02, 2.1713e-01, 7.2909e-01, 7.1002e-01, 9.4917e-01],\n",
              "            [9.9017e-01, 3.2596e-01, 4.4421e-01, 5.1890e-01, 3.5490e-01]],\n",
              "\n",
              "           [[8.2304e-01, 6.6207e-01, 9.6725e-01, 2.0337e-01, 6.1939e-02],\n",
              "            [8.5006e-01, 6.2175e-01, 9.4411e-01, 6.9047e-01, 1.6845e-01],\n",
              "            [8.7882e-01, 6.3648e-01, 9.9575e-01, 3.0367e-01, 6.5743e-01]],\n",
              "\n",
              "           [[1.1458e-01, 4.8086e-01, 6.5095e-01, 4.9320e-01, 3.8754e-01],\n",
              "            [7.7053e-01, 9.5586e-01, 4.9208e-01, 3.3000e-01, 8.4120e-01],\n",
              "            [1.8769e-01, 5.5085e-01, 5.3567e-01, 8.0159e-01, 6.9621e-01]]],\n",
              "\n",
              "\n",
              "          [[[2.8488e-01, 3.6831e-01, 6.5073e-01, 5.4725e-01, 7.8083e-01],\n",
              "            [5.7074e-01, 9.1626e-01, 1.1621e-01, 4.4497e-01, 6.0918e-02],\n",
              "            [7.2872e-01, 4.8896e-01, 8.4149e-01, 8.7664e-01, 5.5847e-01]],\n",
              "\n",
              "           [[9.9036e-01, 4.8229e-01, 1.6445e-01, 8.1899e-01, 1.6845e-01],\n",
              "            [5.8471e-02, 1.5351e-02, 1.7755e-01, 4.0201e-01, 7.4892e-01],\n",
              "            [1.3927e-01, 2.0612e-02, 3.7214e-01, 8.2158e-01, 1.2138e-01]],\n",
              "\n",
              "           [[4.7162e-01, 4.5781e-01, 3.3054e-01, 8.9814e-01, 5.4907e-01],\n",
              "            [2.3368e-02, 3.2567e-01, 9.8300e-01, 5.0952e-01, 9.4910e-01],\n",
              "            [7.3242e-02, 1.9891e-01, 7.0899e-01, 9.2489e-01, 6.4810e-01]],\n",
              "\n",
              "           [[8.8908e-01, 9.0296e-01, 6.8221e-02, 5.4083e-01, 4.0867e-01],\n",
              "            [6.5864e-03, 9.5956e-03, 1.1422e-02, 1.3266e-01, 5.7049e-01],\n",
              "            [1.3598e-01, 1.7256e-01, 4.6644e-01, 3.1040e-01, 4.5889e-01]]],\n",
              "\n",
              "\n",
              "          [[[2.5781e-01, 6.6519e-01, 5.3818e-01, 3.5858e-01, 3.2321e-01],\n",
              "            [2.2402e-01, 5.4089e-01, 6.8197e-01, 9.1384e-01, 7.4318e-01],\n",
              "            [7.9098e-01, 6.4850e-01, 6.3835e-02, 8.0359e-01, 5.4467e-01]],\n",
              "\n",
              "           [[5.4105e-01, 7.2087e-01, 3.9554e-01, 9.1772e-02, 2.7075e-01],\n",
              "            [2.9935e-01, 8.3236e-01, 6.6769e-02, 7.5636e-02, 9.3512e-01],\n",
              "            [1.3708e-01, 7.5646e-01, 3.9490e-01, 2.3431e-01, 3.2273e-01]],\n",
              "\n",
              "           [[5.9691e-01, 2.0898e-01, 3.7674e-01, 3.0429e-01, 2.7115e-01],\n",
              "            [3.3415e-01, 5.3951e-01, 2.2850e-01, 7.1896e-01, 6.0168e-01],\n",
              "            [4.3990e-01, 2.5783e-01, 1.2163e-01, 2.6438e-02, 4.3083e-01]],\n",
              "\n",
              "           [[1.1284e-01, 5.5000e-01, 4.3010e-01, 2.5548e-01, 6.7606e-01],\n",
              "            [3.2977e-03, 3.6526e-01, 2.1985e-01, 9.6312e-01, 5.7501e-01],\n",
              "            [3.9312e-01, 8.4119e-01, 7.1319e-02, 8.1762e-01, 4.7067e-02]]]],\n",
              "\n",
              "\n",
              "\n",
              "         [[[[2.7460e-01, 4.1610e-01, 9.6653e-01, 3.5852e-01, 4.5217e-01],\n",
              "            [5.0193e-01, 5.6454e-01, 3.3433e-01, 6.7317e-01, 5.6777e-01],\n",
              "            [2.9280e-01, 3.4690e-01, 7.2400e-01, 9.8132e-01, 5.4576e-01]],\n",
              "\n",
              "           [[9.9425e-01, 7.7024e-01, 1.1660e-01, 1.7428e-01, 8.9087e-01],\n",
              "            [4.7663e-01, 4.6638e-02, 1.0397e-01, 9.4418e-01, 9.5802e-01],\n",
              "            [7.0794e-01, 3.7150e-01, 4.4915e-01, 5.0289e-01, 9.6566e-01]],\n",
              "\n",
              "           [[5.5808e-01, 5.7685e-01, 7.8577e-01, 9.6512e-01, 3.2019e-01],\n",
              "            [1.4205e-01, 8.4495e-02, 4.0625e-01, 1.6446e-01, 8.4497e-01],\n",
              "            [2.6116e-01, 9.5991e-01, 8.2095e-01, 2.5251e-01, 5.6024e-02]],\n",
              "\n",
              "           [[7.4046e-01, 3.3306e-01, 3.8993e-01, 3.4674e-01, 6.5469e-01],\n",
              "            [5.9036e-02, 1.5962e-01, 4.2833e-01, 9.9607e-01, 3.5678e-01],\n",
              "            [8.5620e-01, 4.8670e-01, 2.1724e-01, 2.6923e-01, 1.1233e-02]]],\n",
              "\n",
              "\n",
              "          [[[7.3167e-01, 3.6968e-01, 1.1096e-01, 7.7954e-01, 4.2868e-01],\n",
              "            [7.9412e-01, 1.1096e-02, 3.0874e-01, 8.3636e-01, 7.6813e-01],\n",
              "            [5.3974e-01, 6.7897e-01, 7.0736e-01, 6.7940e-01, 7.5522e-01]],\n",
              "\n",
              "           [[1.3577e-01, 9.3308e-01, 4.1161e-01, 8.8792e-01, 8.4008e-01],\n",
              "            [4.6992e-01, 7.8487e-01, 1.7735e-01, 4.6105e-01, 9.5597e-01],\n",
              "            [8.9711e-01, 1.1773e-01, 7.8722e-01, 7.9060e-02, 6.0199e-01]],\n",
              "\n",
              "           [[1.9172e-01, 5.0870e-02, 7.6648e-01, 2.4898e-01, 9.2614e-01],\n",
              "            [1.7628e-01, 5.3509e-01, 1.8293e-01, 5.3940e-01, 1.3786e-01],\n",
              "            [2.7192e-01, 6.8894e-01, 9.6764e-01, 3.7303e-01, 9.7326e-01]],\n",
              "\n",
              "           [[1.3652e-01, 9.9166e-02, 4.2940e-01, 8.5318e-01, 2.4361e-01],\n",
              "            [8.8127e-01, 2.5157e-01, 2.4160e-02, 3.7856e-01, 7.4370e-01],\n",
              "            [7.5226e-02, 5.2451e-02, 6.8463e-01, 5.9801e-01, 5.7020e-01]]],\n",
              "\n",
              "\n",
              "          [[[6.5232e-01, 2.3764e-01, 7.1807e-01, 2.7485e-01, 1.7875e-02],\n",
              "            [2.7722e-01, 8.7732e-01, 2.2970e-01, 1.5196e-01, 7.9904e-01],\n",
              "            [3.0255e-01, 3.9787e-02, 5.4711e-01, 8.1291e-01, 1.1297e-01]],\n",
              "\n",
              "           [[6.5060e-01, 2.6600e-01, 8.1048e-01, 1.7044e-01, 9.9335e-01],\n",
              "            [6.3900e-01, 5.5938e-01, 1.0341e-01, 7.9522e-01, 7.8882e-01],\n",
              "            [4.1962e-01, 3.1911e-02, 7.6908e-01, 8.3907e-01, 1.8534e-01]],\n",
              "\n",
              "           [[3.0439e-01, 7.0134e-02, 9.2971e-01, 5.3372e-01, 6.8426e-01],\n",
              "            [5.8831e-01, 1.6306e-02, 4.5466e-01, 1.5644e-01, 3.7714e-01],\n",
              "            [2.3146e-01, 6.1321e-01, 7.2102e-01, 8.5782e-01, 3.7587e-01]],\n",
              "\n",
              "           [[3.6930e-01, 4.3515e-01, 1.6093e-01, 3.7140e-02, 9.1329e-01],\n",
              "            [4.1774e-01, 9.8522e-02, 4.9340e-01, 8.4920e-01, 9.9261e-01],\n",
              "            [6.1783e-01, 8.5427e-01, 9.2538e-01, 4.4523e-01, 8.5818e-01]]],\n",
              "\n",
              "\n",
              "          [[[5.0411e-01, 2.0440e-01, 8.0982e-01, 5.7348e-01, 5.7870e-02],\n",
              "            [3.9081e-01, 4.4052e-01, 9.8175e-01, 2.7240e-01, 7.7760e-01],\n",
              "            [1.6384e-01, 6.1341e-02, 9.4250e-01, 8.9018e-01, 7.5747e-01]],\n",
              "\n",
              "           [[7.2152e-01, 1.1926e-01, 9.5617e-01, 8.4641e-02, 7.9651e-01],\n",
              "            [9.9632e-01, 3.1053e-01, 4.0212e-01, 5.7525e-01, 5.9382e-01],\n",
              "            [1.5052e-02, 8.2887e-01, 7.3689e-01, 7.0138e-01, 1.3653e-01]],\n",
              "\n",
              "           [[6.2572e-01, 1.8661e-01, 6.4826e-01, 7.4732e-01, 7.7091e-01],\n",
              "            [8.7245e-01, 2.9291e-01, 6.4738e-01, 7.5040e-01, 8.7732e-01],\n",
              "            [1.6383e-01, 7.6126e-01, 9.7137e-01, 3.2410e-01, 2.9191e-01]],\n",
              "\n",
              "           [[4.5333e-01, 7.3155e-01, 1.3244e-01, 4.8904e-01, 4.4581e-01],\n",
              "            [4.0377e-01, 8.6512e-01, 4.5288e-01, 3.5982e-01, 9.4391e-01],\n",
              "            [6.8123e-01, 8.0178e-02, 9.4363e-01, 9.4188e-02, 3.4883e-01]]]],\n",
              "\n",
              "\n",
              "\n",
              "         [[[[2.2079e-01, 1.9514e-01, 6.4883e-01, 5.0918e-02, 8.2623e-01],\n",
              "            [7.9482e-01, 9.8044e-01, 4.7191e-01, 3.6431e-01, 8.2303e-01],\n",
              "            [9.0563e-02, 8.6603e-01, 5.1362e-01, 2.9759e-01, 1.5122e-01]],\n",
              "\n",
              "           [[1.6690e-01, 3.6199e-01, 6.7876e-01, 6.2543e-02, 1.2712e-01],\n",
              "            [5.8967e-01, 9.4161e-01, 8.1438e-01, 6.4915e-01, 3.9529e-01],\n",
              "            [2.2408e-01, 9.8069e-01, 2.0038e-01, 5.7920e-01, 6.1434e-01]],\n",
              "\n",
              "           [[3.4893e-02, 5.4894e-01, 1.3911e-02, 9.4557e-01, 9.5941e-01],\n",
              "            [7.5681e-02, 2.2919e-01, 6.4396e-01, 4.6926e-01, 2.1444e-01],\n",
              "            [2.7272e-01, 8.1135e-01, 6.9344e-02, 3.1546e-01, 8.2596e-01]],\n",
              "\n",
              "           [[3.3429e-01, 7.9808e-01, 9.2392e-01, 4.6580e-02, 1.6179e-01],\n",
              "            [5.8840e-01, 2.7730e-01, 9.6231e-01, 7.9895e-01, 2.4712e-01],\n",
              "            [7.8221e-01, 7.8083e-01, 1.3516e-01, 1.4624e-01, 5.0616e-01]]],\n",
              "\n",
              "\n",
              "          [[[5.9534e-01, 2.2777e-01, 3.4992e-01, 8.9094e-01, 5.4988e-01],\n",
              "            [7.3832e-01, 9.4059e-01, 8.3268e-01, 1.6986e-01, 7.0219e-01],\n",
              "            [9.4319e-01, 7.3586e-01, 2.2740e-01, 8.2911e-01, 2.8921e-01]],\n",
              "\n",
              "           [[3.5318e-01, 1.4807e-01, 4.0929e-01, 8.9350e-01, 4.8934e-01],\n",
              "            [9.1644e-01, 1.6970e-02, 1.8883e-04, 4.6895e-01, 1.0173e-01],\n",
              "            [6.6776e-01, 7.2176e-01, 8.1368e-01, 4.9910e-01, 9.6069e-01]],\n",
              "\n",
              "           [[3.8137e-01, 2.7340e-01, 6.2940e-01, 3.2440e-02, 6.9640e-01],\n",
              "            [9.2447e-02, 9.6959e-01, 7.6390e-01, 7.9837e-01, 6.3453e-01],\n",
              "            [3.6689e-02, 4.9335e-03, 7.4214e-01, 7.7152e-01, 6.5600e-01]],\n",
              "\n",
              "           [[5.8426e-01, 5.1545e-01, 2.6934e-01, 6.8083e-01, 3.5228e-01],\n",
              "            [7.8570e-01, 3.2964e-01, 4.8616e-02, 1.9902e-02, 7.7849e-01],\n",
              "            [2.4832e-01, 3.6214e-01, 7.2650e-01, 3.0196e-01, 8.6352e-01]]],\n",
              "\n",
              "\n",
              "          [[[3.6029e-01, 3.2302e-01, 3.2058e-01, 6.6231e-01, 1.7412e-02],\n",
              "            [9.3665e-01, 7.0762e-01, 6.0949e-01, 9.1616e-01, 8.8386e-01],\n",
              "            [7.1227e-01, 5.0976e-01, 3.5454e-02, 2.7805e-01, 3.7081e-01]],\n",
              "\n",
              "           [[6.6385e-01, 4.3022e-01, 4.8827e-01, 5.1097e-02, 1.5344e-01],\n",
              "            [4.1930e-01, 2.9962e-01, 7.8855e-02, 6.9814e-02, 3.6930e-01],\n",
              "            [2.7542e-01, 2.0914e-01, 6.6634e-02, 4.0481e-01, 5.8927e-01]],\n",
              "\n",
              "           [[9.0580e-01, 4.7234e-01, 5.6926e-01, 6.4338e-01, 1.8978e-01],\n",
              "            [2.9834e-01, 6.3213e-01, 1.7455e-01, 5.9769e-01, 9.3171e-01],\n",
              "            [5.7230e-01, 6.5326e-01, 6.9612e-03, 7.2126e-01, 6.9620e-02]],\n",
              "\n",
              "           [[5.8628e-03, 6.7160e-01, 9.0430e-01, 8.1440e-01, 7.3086e-02],\n",
              "            [9.1075e-01, 8.4660e-01, 2.2667e-01, 4.5335e-01, 1.8148e-01],\n",
              "            [2.8878e-01, 9.6441e-01, 6.1170e-01, 3.6283e-01, 8.4907e-01]]],\n",
              "\n",
              "\n",
              "          [[[3.9554e-01, 6.5894e-01, 9.8690e-01, 8.3811e-01, 3.9042e-01],\n",
              "            [8.8704e-01, 7.5271e-01, 4.5900e-01, 1.7884e-01, 6.2104e-01],\n",
              "            [9.1137e-01, 3.5243e-01, 7.5634e-01, 7.0767e-01, 8.1310e-02]],\n",
              "\n",
              "           [[5.1580e-01, 1.1730e-01, 3.7163e-01, 2.8531e-01, 9.8361e-01],\n",
              "            [6.7075e-01, 8.4055e-02, 6.1587e-02, 4.6348e-01, 8.5024e-01],\n",
              "            [7.2763e-01, 2.1916e-01, 7.7093e-01, 9.2963e-01, 7.1924e-01]],\n",
              "\n",
              "           [[7.6277e-01, 1.2804e-02, 7.8795e-01, 9.5705e-01, 3.3057e-01],\n",
              "            [5.0966e-01, 3.3749e-01, 9.1378e-01, 6.9988e-01, 2.2829e-01],\n",
              "            [9.0767e-01, 2.0706e-01, 9.5913e-01, 9.5857e-01, 5.1321e-01]],\n",
              "\n",
              "           [[7.7607e-01, 5.7661e-01, 3.9059e-02, 9.4180e-02, 7.2736e-01],\n",
              "            [2.1476e-01, 9.5226e-01, 8.1829e-01, 7.5186e-01, 5.2799e-01],\n",
              "            [9.6835e-01, 4.8420e-01, 3.1650e-01, 6.8287e-01, 1.4411e-01]]]],\n",
              "\n",
              "\n",
              "\n",
              "         [[[[3.8100e-01, 3.1068e-01, 8.3656e-01, 1.0855e-01, 2.5199e-01],\n",
              "            [4.3794e-01, 8.4030e-01, 2.3790e-02, 4.4571e-01, 7.1139e-01],\n",
              "            [3.9266e-01, 3.3521e-01, 2.1162e-01, 6.9486e-01, 7.2450e-01]],\n",
              "\n",
              "           [[5.4704e-01, 7.2159e-01, 3.2951e-01, 2.2222e-01, 9.8680e-01],\n",
              "            [4.1332e-01, 6.8161e-01, 4.2975e-02, 9.0988e-01, 6.2948e-01],\n",
              "            [5.7650e-01, 6.0206e-01, 4.0229e-02, 5.0395e-01, 8.9219e-01]],\n",
              "\n",
              "           [[4.8209e-01, 1.4616e-01, 7.5003e-01, 7.5677e-01, 2.1606e-02],\n",
              "            [7.1009e-01, 8.7719e-01, 1.0927e-01, 5.8765e-01, 6.7087e-01],\n",
              "            [2.3101e-01, 4.1106e-01, 4.3566e-01, 1.1658e-01, 8.0272e-01]],\n",
              "\n",
              "           [[8.7589e-01, 5.6008e-02, 9.3696e-01, 1.6072e-01, 8.9548e-03],\n",
              "            [3.6884e-01, 9.6444e-01, 1.5015e-01, 5.3022e-01, 5.9428e-02],\n",
              "            [1.2566e-02, 8.6650e-01, 5.1079e-01, 6.0556e-02, 7.3400e-01]]],\n",
              "\n",
              "\n",
              "          [[[6.9932e-01, 5.0010e-01, 1.6526e-01, 7.1449e-02, 8.5400e-01],\n",
              "            [8.6728e-01, 9.8488e-01, 2.6098e-01, 5.1835e-01, 8.7248e-01],\n",
              "            [1.0485e-01, 1.2307e-01, 1.6776e-02, 9.9510e-01, 4.9234e-01]],\n",
              "\n",
              "           [[9.3719e-01, 9.3913e-01, 2.0811e-01, 8.4390e-01, 9.7421e-02],\n",
              "            [1.6941e-01, 1.3558e-01, 7.9189e-01, 4.1651e-01, 6.2296e-01],\n",
              "            [3.6534e-01, 6.8817e-02, 4.1355e-01, 4.7020e-01, 6.4319e-01]],\n",
              "\n",
              "           [[6.4825e-01, 6.2278e-01, 3.0488e-01, 5.5855e-01, 6.7468e-01],\n",
              "            [9.6642e-01, 1.0871e-01, 9.5919e-01, 3.4965e-02, 4.6909e-01],\n",
              "            [1.0454e-01, 5.1132e-01, 8.0276e-01, 6.4118e-01, 2.6292e-01]],\n",
              "\n",
              "           [[4.2473e-01, 2.7356e-02, 6.0232e-01, 2.8901e-01, 1.3517e-01],\n",
              "            [6.9807e-01, 4.9809e-01, 7.2391e-01, 5.7457e-01, 5.8766e-02],\n",
              "            [9.6757e-01, 1.4340e-01, 9.1688e-01, 6.2203e-01, 2.2610e-01]]],\n",
              "\n",
              "\n",
              "          [[[8.5858e-01, 7.6404e-01, 5.7315e-01, 9.0908e-01, 1.4302e-01],\n",
              "            [9.9281e-01, 1.0760e-01, 9.2434e-01, 6.0977e-01, 7.7965e-02],\n",
              "            [6.4769e-01, 2.2774e-01, 7.8910e-01, 8.7710e-01, 6.8691e-02]],\n",
              "\n",
              "           [[9.4612e-01, 7.7094e-01, 7.9458e-01, 3.4408e-01, 7.5084e-01],\n",
              "            [2.6491e-01, 5.5314e-01, 3.2740e-01, 4.2712e-02, 2.4448e-01],\n",
              "            [7.0781e-02, 9.0899e-01, 8.2406e-01, 2.0997e-01, 8.8258e-01]],\n",
              "\n",
              "           [[4.0124e-02, 4.8957e-01, 9.4732e-02, 7.8204e-01, 7.1653e-01],\n",
              "            [6.8196e-01, 9.2666e-01, 7.3279e-01, 1.9205e-01, 7.5969e-01],\n",
              "            [3.4664e-01, 5.2890e-01, 7.6508e-01, 7.8440e-01, 6.6374e-02]],\n",
              "\n",
              "           [[9.6138e-01, 8.4635e-01, 8.8339e-01, 5.5850e-01, 4.5152e-01],\n",
              "            [7.2773e-01, 1.9929e-01, 8.8833e-01, 7.3900e-01, 4.7939e-01],\n",
              "            [5.9927e-01, 7.1994e-01, 7.7284e-01, 8.1025e-01, 8.6032e-01]]],\n",
              "\n",
              "\n",
              "          [[[4.3766e-01, 6.4343e-01, 3.0841e-01, 6.5765e-01, 1.3567e-01],\n",
              "            [9.4194e-01, 7.4394e-02, 1.7369e-02, 4.5886e-01, 5.3686e-01],\n",
              "            [6.4711e-01, 3.3759e-01, 4.3026e-01, 1.5359e-01, 4.4346e-01]],\n",
              "\n",
              "           [[7.2003e-01, 1.7835e-01, 1.0547e-01, 9.3379e-01, 7.2769e-01],\n",
              "            [1.8239e-01, 6.0391e-01, 2.4748e-01, 6.5398e-01, 2.4976e-01],\n",
              "            [6.5131e-02, 5.0302e-01, 3.5053e-01, 3.5267e-01, 3.6354e-01]],\n",
              "\n",
              "           [[1.1649e-01, 7.0495e-01, 8.6697e-01, 7.9087e-02, 1.3317e-01],\n",
              "            [7.2851e-01, 4.5903e-01, 7.1590e-01, 2.3981e-01, 7.9399e-01],\n",
              "            [5.9983e-01, 9.9013e-01, 4.9637e-01, 5.1575e-02, 9.6353e-01]],\n",
              "\n",
              "           [[9.9613e-01, 7.4129e-01, 4.5055e-01, 5.3098e-01, 6.9334e-01],\n",
              "            [1.7524e-01, 3.8563e-01, 7.5281e-01, 6.0228e-01, 6.5286e-01],\n",
              "            [3.0098e-01, 3.4408e-01, 9.5135e-01, 8.6955e-01, 5.3845e-01]]]]],\n",
              "\n",
              "\n",
              "\n",
              "\n",
              "        [[[[[8.9419e-02, 2.2145e-02, 6.6889e-01, 4.2924e-01, 1.0891e-01],\n",
              "            [9.3696e-01, 6.6207e-01, 4.1116e-01, 6.6379e-03, 2.7407e-01],\n",
              "            [9.3354e-01, 9.0138e-01, 4.2397e-02, 1.2424e-01, 2.9090e-01]],\n",
              "\n",
              "           [[4.8579e-01, 7.3856e-01, 7.8753e-01, 7.5189e-01, 3.4389e-01],\n",
              "            [4.3474e-01, 4.8173e-01, 9.4055e-01, 5.8075e-01, 7.3181e-01],\n",
              "            [6.5807e-01, 6.7413e-01, 7.4986e-01, 2.0420e-01, 9.5053e-01]],\n",
              "\n",
              "           [[1.5461e-01, 3.3961e-01, 4.9342e-01, 1.7532e-01, 2.9218e-01],\n",
              "            [1.0959e-01, 7.2796e-01, 4.9132e-01, 8.5782e-03, 8.1774e-01],\n",
              "            [1.4804e-02, 8.0065e-01, 6.1941e-01, 5.0482e-01, 6.8291e-01]],\n",
              "\n",
              "           [[9.6819e-01, 8.7013e-01, 2.3990e-01, 6.0227e-01, 9.7045e-01],\n",
              "            [7.8808e-01, 8.6322e-01, 8.1159e-01, 2.2578e-02, 4.5033e-01],\n",
              "            [2.9238e-01, 2.4064e-01, 1.6020e-02, 1.0160e-01, 5.7638e-01]]],\n",
              "\n",
              "\n",
              "          [[[5.9358e-01, 8.2245e-01, 4.0799e-01, 7.9208e-01, 5.9223e-02],\n",
              "            [5.2691e-01, 5.6972e-01, 6.9313e-01, 5.1666e-01, 3.2933e-01],\n",
              "            [2.1346e-02, 7.1797e-01, 4.4624e-01, 4.2383e-01, 1.3543e-01]],\n",
              "\n",
              "           [[3.4936e-01, 6.1768e-01, 6.6100e-01, 8.9325e-01, 9.9663e-01],\n",
              "            [9.5544e-01, 3.2737e-01, 6.9342e-01, 9.0535e-01, 3.5816e-01],\n",
              "            [6.3187e-01, 1.5040e-01, 6.2781e-01, 3.8440e-01, 3.1518e-02]],\n",
              "\n",
              "           [[5.2663e-01, 1.8186e-01, 1.6135e-01, 5.3196e-01, 8.0786e-01],\n",
              "            [2.3526e-01, 2.9712e-01, 5.3100e-01, 1.4192e-01, 1.9937e-01],\n",
              "            [4.9666e-01, 1.6990e-01, 9.1751e-01, 1.3254e-01, 9.3699e-01]],\n",
              "\n",
              "           [[5.5186e-01, 1.1574e-01, 1.7476e-01, 8.6721e-01, 8.0444e-01],\n",
              "            [9.4335e-01, 8.7874e-01, 6.0103e-01, 9.7738e-01, 2.5281e-01],\n",
              "            [9.1809e-01, 6.6859e-01, 3.7096e-01, 2.8568e-01, 8.5862e-01]]],\n",
              "\n",
              "\n",
              "          [[[9.4609e-01, 5.4991e-01, 3.2594e-01, 4.7311e-01, 5.4934e-01],\n",
              "            [2.3905e-01, 7.2647e-01, 5.7836e-01, 4.1130e-01, 9.0547e-01],\n",
              "            [8.9300e-01, 2.4570e-01, 9.0361e-02, 5.8317e-03, 9.1865e-01]],\n",
              "\n",
              "           [[7.9697e-01, 8.6044e-01, 2.2554e-01, 2.5752e-02, 3.1089e-01],\n",
              "            [4.6385e-01, 6.3986e-01, 3.3868e-01, 8.7940e-03, 4.9773e-01],\n",
              "            [6.2051e-01, 9.5812e-01, 1.4211e-01, 1.2168e-01, 1.5980e-01]],\n",
              "\n",
              "           [[4.8786e-01, 6.7659e-01, 6.8786e-01, 1.0302e-01, 7.0083e-02],\n",
              "            [9.7485e-01, 1.2035e-01, 1.1133e-02, 6.7474e-01, 9.3842e-01],\n",
              "            [9.4241e-01, 6.3234e-01, 4.5565e-01, 9.1805e-01, 4.8740e-01]],\n",
              "\n",
              "           [[4.0805e-02, 8.6344e-01, 9.2464e-01, 2.6547e-02, 4.4303e-02],\n",
              "            [2.2891e-01, 7.6075e-01, 1.4846e-02, 3.9205e-02, 8.3930e-01],\n",
              "            [6.4891e-02, 1.3876e-01, 8.8161e-01, 9.1119e-02, 3.2105e-01]]],\n",
              "\n",
              "\n",
              "          [[[9.5644e-01, 1.0028e-01, 7.2126e-01, 6.6952e-01, 3.5366e-01],\n",
              "            [9.7666e-02, 7.0683e-01, 6.4809e-01, 2.5570e-01, 1.2434e-01],\n",
              "            [9.6243e-01, 2.6188e-01, 4.2402e-01, 7.2480e-01, 5.6733e-01]],\n",
              "\n",
              "           [[3.4582e-01, 3.7780e-01, 3.3720e-01, 2.4290e-01, 3.5703e-01],\n",
              "            [6.3010e-01, 5.3438e-01, 6.5248e-01, 6.8498e-01, 2.1563e-01],\n",
              "            [3.9843e-01, 9.9367e-01, 8.6818e-01, 2.7945e-01, 1.3726e-01]],\n",
              "\n",
              "           [[9.2830e-01, 1.8170e-01, 6.4397e-01, 5.1388e-01, 5.0377e-01],\n",
              "            [1.8011e-01, 4.9753e-01, 7.6022e-01, 9.2366e-01, 5.7862e-01],\n",
              "            [6.5357e-01, 3.2474e-01, 2.8504e-01, 8.9780e-01, 5.1872e-01]],\n",
              "\n",
              "           [[2.9413e-01, 2.5064e-02, 5.9955e-03, 5.5426e-01, 8.9685e-02],\n",
              "            [9.0857e-01, 1.7748e-01, 1.0497e-01, 6.5858e-01, 7.7548e-01],\n",
              "            [8.9684e-01, 2.1094e-01, 7.8319e-01, 8.6906e-02, 5.5246e-01]]]],\n",
              "\n",
              "\n",
              "\n",
              "         [[[[6.8547e-01, 2.7566e-01, 8.7407e-01, 5.3814e-01, 3.4081e-02],\n",
              "            [6.8262e-01, 7.8187e-01, 7.9033e-01, 4.5557e-01, 2.2076e-01],\n",
              "            [8.3561e-02, 2.5653e-01, 8.0554e-01, 1.4725e-01, 4.7662e-01]],\n",
              "\n",
              "           [[8.2864e-01, 7.4222e-01, 1.7231e-01, 8.9545e-01, 6.7082e-01],\n",
              "            [1.1699e-01, 1.4556e-01, 7.4787e-01, 5.1983e-01, 7.5923e-01],\n",
              "            [4.3963e-01, 3.6440e-01, 9.8338e-03, 1.2202e-01, 7.3171e-01]],\n",
              "\n",
              "           [[5.7875e-01, 8.9628e-01, 3.1542e-01, 6.3550e-01, 8.5589e-01],\n",
              "            [9.1282e-01, 4.4401e-01, 3.6307e-01, 7.5235e-01, 1.1942e-01],\n",
              "            [6.7873e-01, 7.6504e-01, 2.0011e-01, 4.0621e-01, 8.7567e-01]],\n",
              "\n",
              "           [[6.4877e-01, 8.0563e-01, 9.5272e-02, 3.2900e-01, 8.0597e-01],\n",
              "            [8.9428e-01, 3.4811e-01, 8.4438e-02, 7.8781e-01, 9.4346e-01],\n",
              "            [2.4830e-02, 5.5464e-01, 9.9420e-01, 3.1081e-01, 8.9214e-02]]],\n",
              "\n",
              "\n",
              "          [[[8.8829e-01, 5.2783e-01, 1.8571e-01, 2.3216e-01, 9.3019e-01],\n",
              "            [7.6348e-01, 5.4434e-01, 4.0093e-01, 7.4634e-01, 7.8508e-01],\n",
              "            [1.8988e-01, 5.9773e-01, 6.2803e-01, 5.8600e-03, 5.8754e-01]],\n",
              "\n",
              "           [[7.6545e-01, 6.4820e-01, 5.5361e-01, 1.5840e-01, 5.3308e-01],\n",
              "            [3.4339e-01, 8.4306e-01, 2.2729e-01, 5.2492e-01, 2.6182e-01],\n",
              "            [6.5342e-01, 6.8338e-01, 8.0184e-01, 6.9266e-02, 3.7019e-01]],\n",
              "\n",
              "           [[8.8798e-01, 4.4666e-01, 6.9711e-01, 6.8174e-01, 5.4562e-01],\n",
              "            [7.9682e-01, 1.6142e-02, 9.1572e-01, 8.5694e-01, 9.1218e-01],\n",
              "            [1.6815e-01, 5.7247e-01, 7.6947e-01, 2.3465e-01, 5.5960e-01]],\n",
              "\n",
              "           [[2.1821e-01, 8.1031e-02, 5.5230e-01, 1.0841e-01, 5.5917e-01],\n",
              "            [5.0245e-02, 7.6738e-01, 4.9775e-01, 4.9838e-01, 4.2984e-01],\n",
              "            [4.8070e-01, 2.7104e-01, 1.6817e-01, 8.8627e-01, 5.4432e-01]]],\n",
              "\n",
              "\n",
              "          [[[3.4005e-01, 8.6499e-01, 2.1077e-01, 9.7519e-01, 2.5598e-01],\n",
              "            [3.4114e-01, 4.0266e-01, 2.0252e-01, 4.2365e-01, 9.7594e-01],\n",
              "            [2.6939e-01, 2.5465e-01, 5.8596e-01, 1.3518e-01, 4.9136e-01]],\n",
              "\n",
              "           [[8.9833e-01, 7.7162e-01, 9.1774e-01, 1.6548e-01, 2.8478e-01],\n",
              "            [8.5609e-01, 4.2965e-01, 3.1297e-01, 5.4553e-01, 4.6400e-01],\n",
              "            [6.2078e-01, 6.2425e-01, 3.3118e-01, 1.5000e-01, 5.6487e-02]],\n",
              "\n",
              "           [[7.1546e-01, 6.6058e-01, 3.6392e-01, 5.9716e-01, 3.2740e-01],\n",
              "            [4.5574e-01, 9.6570e-01, 4.6121e-01, 7.9429e-01, 8.0281e-01],\n",
              "            [3.5159e-01, 9.7297e-01, 6.3167e-01, 6.9992e-01, 2.5084e-01]],\n",
              "\n",
              "           [[5.3433e-01, 2.3870e-01, 3.2190e-01, 8.7818e-01, 1.4202e-01],\n",
              "            [2.9636e-02, 1.8652e-01, 9.7391e-01, 8.9082e-01, 6.4448e-01],\n",
              "            [3.3822e-01, 8.2894e-01, 2.7050e-01, 3.7760e-01, 3.1402e-01]]],\n",
              "\n",
              "\n",
              "          [[[9.1774e-01, 1.3274e-01, 7.5103e-01, 2.5381e-01, 8.2849e-01],\n",
              "            [3.2117e-01, 4.7372e-01, 4.4414e-01, 4.2887e-01, 7.2067e-01],\n",
              "            [7.6518e-01, 3.6727e-01, 4.4362e-01, 6.1053e-01, 4.6201e-01]],\n",
              "\n",
              "           [[4.8376e-01, 2.2878e-01, 2.1459e-01, 4.8024e-01, 5.0635e-01],\n",
              "            [6.8842e-01, 8.7314e-01, 7.6631e-01, 4.2310e-01, 9.0207e-02],\n",
              "            [1.6700e-01, 7.0523e-01, 4.5939e-02, 1.1591e-01, 8.8061e-01]],\n",
              "\n",
              "           [[2.5220e-01, 8.8610e-01, 4.5750e-01, 5.0038e-01, 9.5825e-01],\n",
              "            [1.4307e-01, 7.6410e-01, 8.1952e-01, 1.6333e-01, 1.3616e-01],\n",
              "            [6.8508e-01, 9.1848e-01, 9.0044e-01, 2.1786e-01, 8.9794e-01]],\n",
              "\n",
              "           [[5.5428e-02, 8.1980e-01, 5.0065e-01, 8.2374e-01, 9.6567e-02],\n",
              "            [5.4949e-01, 4.2119e-01, 2.9157e-01, 2.1606e-01, 3.3184e-01],\n",
              "            [3.1595e-01, 7.9284e-01, 5.0322e-02, 4.9065e-01, 4.3128e-01]]]],\n",
              "\n",
              "\n",
              "\n",
              "         [[[[9.9962e-01, 7.2337e-01, 8.2467e-02, 2.4599e-01, 7.7928e-02],\n",
              "            [4.4223e-01, 8.3788e-01, 3.8319e-01, 5.9813e-01, 9.7678e-01],\n",
              "            [4.9723e-01, 7.4296e-01, 1.6429e-01, 9.8713e-01, 1.2637e-01]],\n",
              "\n",
              "           [[9.7956e-01, 7.7636e-02, 4.8893e-01, 9.9048e-01, 2.5957e-02],\n",
              "            [3.5092e-01, 6.2174e-01, 5.0166e-01, 5.3494e-01, 8.6216e-01],\n",
              "            [8.7083e-01, 4.4762e-01, 4.6913e-01, 8.1761e-01, 3.2874e-01]],\n",
              "\n",
              "           [[5.5351e-01, 6.5977e-01, 6.4818e-01, 5.1833e-01, 6.8657e-03],\n",
              "            [5.1850e-02, 8.0500e-01, 8.5126e-01, 3.1283e-01, 3.2121e-01],\n",
              "            [3.5306e-01, 4.8828e-01, 6.0301e-01, 2.1547e-01, 8.3943e-01]],\n",
              "\n",
              "           [[1.7898e-01, 7.4633e-01, 8.3455e-03, 6.6921e-01, 8.1976e-01],\n",
              "            [1.7668e-01, 1.4912e-01, 1.7848e-01, 1.0551e-01, 5.5396e-01],\n",
              "            [1.6350e-01, 9.0233e-01, 7.2118e-01, 4.8629e-01, 4.8621e-01]]],\n",
              "\n",
              "\n",
              "          [[[2.6273e-01, 1.6205e-01, 7.9125e-01, 5.1708e-01, 7.4045e-01],\n",
              "            [3.2101e-01, 4.0156e-01, 4.8060e-01, 5.1127e-01, 4.0863e-01],\n",
              "            [1.2717e-01, 4.5236e-01, 1.0603e-01, 6.5233e-01, 5.0068e-01]],\n",
              "\n",
              "           [[1.0102e-01, 7.0966e-01, 7.8742e-01, 2.0513e-01, 7.8033e-01],\n",
              "            [5.9993e-01, 6.4805e-02, 5.7386e-02, 2.7049e-01, 2.9035e-01],\n",
              "            [8.9346e-01, 2.7809e-02, 5.6454e-01, 4.4416e-01, 4.2382e-01]],\n",
              "\n",
              "           [[8.4882e-03, 7.8243e-01, 2.3429e-01, 8.2408e-01, 7.2063e-01],\n",
              "            [3.4970e-01, 6.0863e-01, 9.8198e-01, 7.9651e-01, 6.3109e-01],\n",
              "            [3.8061e-01, 4.8020e-01, 9.2174e-01, 6.5057e-01, 7.2403e-02]],\n",
              "\n",
              "           [[7.9516e-01, 6.1451e-01, 7.2762e-01, 6.8105e-01, 9.0410e-01],\n",
              "            [4.4123e-01, 3.0909e-01, 4.2846e-01, 9.4442e-01, 2.5118e-01],\n",
              "            [2.7574e-01, 3.7834e-01, 7.8124e-01, 7.6638e-01, 7.2226e-01]]],\n",
              "\n",
              "\n",
              "          [[[9.5969e-01, 2.9209e-01, 8.4985e-01, 4.4451e-01, 7.6810e-01],\n",
              "            [7.3924e-02, 3.0552e-01, 8.2270e-01, 7.5752e-01, 7.0397e-01],\n",
              "            [4.5015e-01, 5.0584e-01, 5.2733e-01, 7.5487e-01, 4.0674e-01]],\n",
              "\n",
              "           [[2.6606e-01, 2.5631e-01, 2.8733e-02, 5.7382e-01, 7.5501e-01],\n",
              "            [6.2351e-01, 2.4471e-01, 4.2740e-01, 4.9758e-01, 4.3316e-01],\n",
              "            [1.4814e-01, 9.7784e-01, 1.8271e-01, 4.6048e-01, 1.0704e-01]],\n",
              "\n",
              "           [[2.2658e-01, 4.3139e-01, 6.6451e-01, 5.7628e-01, 1.8588e-01],\n",
              "            [4.3651e-01, 7.1705e-01, 1.5704e-01, 7.2199e-01, 8.2445e-01],\n",
              "            [4.1796e-01, 3.3301e-02, 4.8638e-01, 1.8651e-01, 3.3173e-01]],\n",
              "\n",
              "           [[9.5931e-01, 6.8220e-01, 8.9782e-03, 2.0768e-01, 8.2609e-01],\n",
              "            [9.6745e-01, 8.6769e-01, 5.6531e-01, 1.0602e-01, 6.2378e-01],\n",
              "            [3.9939e-01, 5.7160e-01, 4.0638e-01, 3.2832e-01, 5.8591e-01]]],\n",
              "\n",
              "\n",
              "          [[[3.6178e-01, 7.4325e-01, 3.0817e-01, 3.3792e-01, 6.2259e-01],\n",
              "            [1.2450e-03, 9.4005e-01, 5.6927e-01, 6.7613e-01, 8.4906e-01],\n",
              "            [3.8044e-01, 4.6246e-01, 6.5340e-01, 3.8903e-01, 3.6356e-01]],\n",
              "\n",
              "           [[3.0094e-01, 9.3501e-01, 1.4886e-01, 1.1830e-01, 4.8718e-01],\n",
              "            [9.6330e-01, 2.7267e-01, 4.5934e-01, 3.8687e-01, 4.6793e-01],\n",
              "            [7.8214e-01, 4.2175e-01, 9.4945e-02, 1.8493e-01, 3.7112e-01]],\n",
              "\n",
              "           [[9.5018e-01, 3.9641e-02, 5.1016e-01, 8.2698e-01, 2.2551e-01],\n",
              "            [2.4507e-01, 8.7717e-01, 5.4697e-01, 5.9478e-01, 1.8407e-01],\n",
              "            [2.6701e-01, 5.2758e-01, 7.2675e-01, 5.2923e-01, 9.7586e-01]],\n",
              "\n",
              "           [[3.5995e-02, 3.1126e-01, 4.0414e-01, 4.9409e-01, 8.0643e-01],\n",
              "            [1.9983e-01, 1.5140e-01, 5.2911e-01, 8.5094e-01, 9.8456e-01],\n",
              "            [2.9624e-02, 4.0061e-01, 4.8927e-01, 6.6063e-01, 6.1996e-01]]]],\n",
              "\n",
              "\n",
              "\n",
              "         [[[[8.5530e-01, 6.9173e-01, 5.2737e-01, 4.4261e-01, 8.8994e-01],\n",
              "            [2.3337e-01, 1.4799e-01, 4.1458e-01, 1.2393e-01, 8.6187e-01],\n",
              "            [9.7858e-01, 3.0173e-01, 5.7395e-01, 6.3864e-01, 4.2597e-01]],\n",
              "\n",
              "           [[5.7710e-01, 8.1300e-01, 1.3931e-01, 3.2482e-01, 7.9367e-02],\n",
              "            [6.0011e-01, 3.9662e-01, 5.3216e-02, 4.7030e-01, 3.8067e-01],\n",
              "            [3.7563e-01, 7.4831e-01, 2.0852e-01, 7.1596e-01, 2.5204e-01]],\n",
              "\n",
              "           [[5.7923e-01, 3.6492e-01, 1.0075e-01, 1.4916e-01, 2.1050e-01],\n",
              "            [7.9587e-02, 9.6537e-01, 7.8333e-01, 5.6707e-01, 8.1621e-01],\n",
              "            [8.1083e-01, 2.4304e-01, 1.5101e-01, 7.3832e-01, 3.8382e-01]],\n",
              "\n",
              "           [[1.4935e-01, 6.2896e-01, 4.7487e-01, 1.2123e-01, 9.1263e-01],\n",
              "            [9.7317e-01, 4.9309e-01, 9.7204e-01, 9.5901e-01, 7.5940e-01],\n",
              "            [7.9357e-02, 7.4281e-01, 8.2355e-02, 1.9380e-01, 7.9750e-01]]],\n",
              "\n",
              "\n",
              "          [[[3.3367e-01, 9.8665e-01, 3.6607e-01, 5.3046e-01, 3.5187e-01],\n",
              "            [7.3024e-01, 5.3726e-01, 9.6594e-01, 6.3422e-01, 3.8347e-01],\n",
              "            [4.9911e-01, 9.5756e-01, 8.0966e-01, 9.4606e-01, 9.3649e-01]],\n",
              "\n",
              "           [[3.9009e-01, 2.1629e-01, 2.2466e-01, 1.3935e-01, 9.6881e-01],\n",
              "            [9.6561e-01, 4.0053e-01, 4.8272e-01, 7.7420e-01, 6.2079e-01],\n",
              "            [2.8850e-01, 1.6790e-02, 2.9073e-01, 4.7532e-01, 2.4706e-02]],\n",
              "\n",
              "           [[4.3326e-01, 3.9955e-03, 5.0787e-01, 8.0945e-01, 6.4002e-01],\n",
              "            [6.2506e-01, 6.1032e-01, 5.9541e-01, 7.7974e-01, 2.9027e-01],\n",
              "            [7.5757e-01, 4.4416e-01, 3.0047e-01, 7.1265e-01, 5.4356e-01]],\n",
              "\n",
              "           [[3.2252e-01, 6.0347e-01, 6.3304e-02, 4.7278e-01, 6.1197e-02],\n",
              "            [8.9790e-01, 9.5708e-02, 1.9193e-01, 5.5581e-01, 7.0718e-01],\n",
              "            [9.9328e-01, 1.6147e-01, 4.7373e-01, 2.5130e-01, 4.0356e-01]]],\n",
              "\n",
              "\n",
              "          [[[1.7547e-01, 1.9488e-01, 6.9151e-01, 7.7271e-01, 4.0826e-01],\n",
              "            [9.3940e-01, 8.8735e-01, 4.6740e-01, 7.1621e-01, 6.5234e-01],\n",
              "            [7.9342e-01, 8.7071e-01, 7.0363e-01, 7.5471e-01, 7.5130e-02]],\n",
              "\n",
              "           [[1.3286e-02, 8.1292e-01, 5.2072e-01, 8.4934e-01, 5.0879e-01],\n",
              "            [5.7693e-01, 4.1243e-01, 5.5891e-01, 5.4402e-01, 8.4107e-01],\n",
              "            [4.2291e-02, 4.4373e-01, 5.7451e-01, 7.1723e-02, 8.7719e-01]],\n",
              "\n",
              "           [[3.7925e-01, 6.2493e-01, 1.5301e-01, 5.3768e-01, 1.6573e-01],\n",
              "            [3.6936e-01, 5.6657e-01, 2.2939e-01, 7.2554e-01, 3.3540e-01],\n",
              "            [9.4073e-01, 5.9536e-01, 1.5990e-01, 6.0394e-01, 2.3187e-01]],\n",
              "\n",
              "           [[1.7937e-01, 5.3297e-01, 7.3782e-01, 4.7082e-01, 3.5201e-01],\n",
              "            [3.2924e-01, 9.8803e-01, 5.7633e-01, 3.8362e-01, 9.8859e-01],\n",
              "            [6.2449e-01, 1.1758e-01, 4.2049e-01, 9.5315e-01, 4.1061e-01]]],\n",
              "\n",
              "\n",
              "          [[[9.6784e-01, 8.1595e-01, 9.2482e-01, 1.0439e-01, 6.3024e-01],\n",
              "            [9.7840e-01, 4.7305e-01, 4.9974e-01, 1.3358e-01, 9.0107e-01],\n",
              "            [9.0508e-01, 2.2334e-01, 2.2397e-01, 8.0272e-01, 2.2272e-01]],\n",
              "\n",
              "           [[5.7650e-01, 4.2735e-01, 3.9440e-01, 3.5540e-01, 8.0964e-01],\n",
              "            [5.2651e-01, 9.8448e-01, 3.0893e-01, 8.2317e-01, 1.1454e-02],\n",
              "            [2.6001e-01, 6.4623e-01, 4.8297e-01, 6.8269e-01, 4.1032e-01]],\n",
              "\n",
              "           [[8.4762e-01, 4.3893e-01, 6.3497e-01, 4.8043e-01, 2.7092e-01],\n",
              "            [5.1516e-01, 1.0578e-01, 2.6736e-01, 2.5005e-02, 5.7933e-01],\n",
              "            [8.8047e-01, 1.3658e-01, 3.6919e-01, 6.2262e-01, 5.7887e-01]],\n",
              "\n",
              "           [[9.2517e-01, 2.4996e-01, 3.0356e-01, 6.3752e-01, 2.8129e-01],\n",
              "            [9.6354e-01, 6.1948e-01, 2.3690e-01, 3.7463e-01, 8.3434e-01],\n",
              "            [5.5332e-02, 8.5155e-01, 2.6461e-01, 5.5971e-01, 4.5065e-01]]]],\n",
              "\n",
              "\n",
              "\n",
              "         [[[[1.9799e-02, 7.9970e-01, 6.5704e-01, 4.5286e-01, 1.5563e-01],\n",
              "            [6.6926e-01, 5.4241e-02, 5.9416e-01, 8.8167e-01, 7.6589e-01],\n",
              "            [2.9276e-01, 7.2791e-01, 2.4705e-01, 1.3263e-01, 2.5190e-01]],\n",
              "\n",
              "           [[3.7842e-01, 4.7449e-01, 7.8551e-01, 4.4987e-02, 4.7178e-01],\n",
              "            [3.4487e-01, 2.4428e-01, 5.5589e-01, 6.1130e-01, 5.9420e-01],\n",
              "            [5.2751e-01, 6.6337e-01, 4.0730e-01, 2.9228e-01, 1.2571e-01]],\n",
              "\n",
              "           [[5.8110e-01, 7.0236e-01, 9.6358e-01, 4.0329e-01, 9.0149e-01],\n",
              "            [6.3687e-01, 3.0816e-01, 1.9435e-01, 3.0447e-01, 3.1704e-01],\n",
              "            [6.8833e-01, 9.6934e-01, 6.3137e-01, 6.7622e-01, 9.6506e-01]],\n",
              "\n",
              "           [[5.9450e-01, 9.7408e-01, 1.6005e-01, 3.7238e-01, 6.6004e-01],\n",
              "            [2.5296e-01, 6.0852e-01, 8.5982e-01, 1.0902e-02, 6.3519e-01],\n",
              "            [5.1504e-01, 1.1046e-02, 2.2783e-01, 7.4281e-01, 4.2819e-01]]],\n",
              "\n",
              "\n",
              "          [[[8.6211e-03, 1.3097e-01, 2.2121e-02, 4.8246e-01, 1.0983e-01],\n",
              "            [3.5715e-01, 9.5331e-01, 4.3458e-01, 7.7908e-01, 8.9895e-02],\n",
              "            [3.2923e-01, 4.9126e-01, 5.3034e-01, 8.0123e-01, 4.7546e-01]],\n",
              "\n",
              "           [[7.2765e-01, 2.1584e-01, 5.9884e-02, 1.2158e-01, 2.6856e-01],\n",
              "            [4.2754e-01, 2.8163e-01, 2.7021e-01, 5.3173e-01, 6.7149e-01],\n",
              "            [3.6865e-01, 9.6776e-01, 9.4742e-01, 2.6186e-01, 5.9785e-01]],\n",
              "\n",
              "           [[5.4929e-01, 9.3710e-01, 3.8162e-01, 7.7392e-01, 7.8912e-01],\n",
              "            [7.1242e-01, 1.0741e-01, 9.3048e-01, 6.6141e-01, 1.8993e-01],\n",
              "            [3.5722e-01, 8.4710e-01, 8.7316e-01, 9.7985e-01, 6.0664e-02]],\n",
              "\n",
              "           [[9.5971e-01, 3.4199e-01, 6.7879e-01, 7.3636e-01, 3.4388e-01],\n",
              "            [4.9243e-02, 1.8158e-01, 4.0379e-01, 5.4194e-01, 4.8198e-02],\n",
              "            [5.4220e-01, 9.4549e-01, 8.0674e-01, 3.6435e-01, 7.8741e-01]]],\n",
              "\n",
              "\n",
              "          [[[7.7156e-01, 3.3911e-01, 3.6130e-01, 8.2339e-01, 9.4296e-02],\n",
              "            [5.0172e-01, 2.0446e-01, 4.9374e-01, 4.5617e-01, 8.3511e-01],\n",
              "            [8.7005e-01, 5.7212e-01, 7.5506e-01, 9.5864e-01, 4.6611e-02]],\n",
              "\n",
              "           [[9.5372e-01, 2.0338e-01, 1.3112e-01, 7.0866e-01, 3.2227e-01],\n",
              "            [6.9252e-01, 8.0045e-02, 2.8845e-01, 2.6744e-01, 3.7043e-01],\n",
              "            [3.3093e-01, 7.6804e-01, 8.9220e-01, 6.5605e-01, 3.7502e-01]],\n",
              "\n",
              "           [[5.5377e-01, 1.5288e-01, 5.1193e-01, 4.8873e-02, 2.2600e-01],\n",
              "            [4.3046e-02, 4.3001e-01, 6.9770e-01, 6.2804e-01, 5.8000e-01],\n",
              "            [2.7735e-01, 8.1310e-01, 3.0667e-02, 6.3383e-01, 8.9543e-01]],\n",
              "\n",
              "           [[5.6527e-01, 1.9329e-01, 7.4890e-01, 2.0286e-01, 2.5844e-01],\n",
              "            [7.1708e-01, 2.4352e-02, 2.7047e-01, 4.4463e-02, 6.3440e-01],\n",
              "            [9.9010e-01, 3.5939e-01, 7.3239e-01, 9.8060e-01, 9.4182e-01]]],\n",
              "\n",
              "\n",
              "          [[[4.3453e-01, 1.5694e-01, 4.2088e-01, 7.4087e-01, 3.9670e-01],\n",
              "            [8.7548e-01, 6.3539e-01, 7.7344e-02, 5.1339e-01, 1.3902e-01],\n",
              "            [1.9734e-01, 4.8897e-01, 8.9266e-01, 8.0042e-01, 2.9931e-01]],\n",
              "\n",
              "           [[3.2622e-01, 5.5309e-01, 8.0621e-01, 8.1849e-01, 1.9928e-01],\n",
              "            [5.1374e-01, 7.2180e-02, 1.5511e-01, 6.3939e-02, 3.4383e-01],\n",
              "            [1.7707e-01, 6.3226e-01, 2.5593e-01, 5.1775e-01, 2.1836e-02]],\n",
              "\n",
              "           [[6.7853e-01, 3.4584e-01, 9.1379e-01, 8.1092e-01, 4.4845e-01],\n",
              "            [2.8052e-01, 4.5226e-01, 6.6466e-01, 3.3213e-01, 8.5513e-01],\n",
              "            [6.4806e-01, 3.3462e-01, 1.9825e-01, 9.5432e-01, 4.5023e-01]],\n",
              "\n",
              "           [[3.3730e-01, 3.6420e-01, 9.2381e-01, 2.4638e-01, 7.0035e-01],\n",
              "            [8.9929e-01, 8.7734e-01, 9.7896e-01, 5.1240e-01, 6.9218e-01],\n",
              "            [7.4258e-01, 5.4718e-01, 4.4624e-01, 5.2071e-02, 1.7618e-01]]]],\n",
              "\n",
              "\n",
              "\n",
              "         [[[[6.2857e-01, 1.0542e-01, 8.3982e-01, 5.1871e-01, 9.7379e-01],\n",
              "            [8.6654e-02, 6.1396e-02, 4.9013e-01, 9.0290e-01, 2.5580e-02],\n",
              "            [2.7743e-01, 1.4213e-01, 5.6851e-01, 1.5790e-01, 7.5705e-01]],\n",
              "\n",
              "           [[6.8954e-01, 7.7126e-01, 9.1783e-02, 9.9926e-01, 2.1105e-01],\n",
              "            [4.1259e-01, 8.6831e-02, 1.8772e-01, 9.5927e-01, 8.0833e-01],\n",
              "            [2.7364e-01, 4.0030e-01, 5.0320e-01, 2.0060e-01, 5.7986e-01]],\n",
              "\n",
              "           [[8.9661e-01, 2.5976e-01, 5.2843e-01, 4.8156e-01, 1.5241e-01],\n",
              "            [7.0538e-01, 9.3883e-02, 5.6320e-01, 3.9761e-01, 9.8632e-01],\n",
              "            [9.9963e-01, 7.3455e-01, 7.7926e-01, 2.2078e-01, 2.6125e-01]],\n",
              "\n",
              "           [[6.4363e-01, 2.9566e-01, 3.2321e-01, 8.9891e-01, 3.3097e-02],\n",
              "            [2.6430e-01, 7.1614e-01, 8.6309e-01, 1.7334e-02, 5.5469e-01],\n",
              "            [3.4634e-01, 7.3359e-01, 1.9712e-01, 8.3544e-01, 6.5954e-01]]],\n",
              "\n",
              "\n",
              "          [[[7.6316e-01, 9.8079e-01, 1.4152e-02, 8.6387e-01, 7.4460e-01],\n",
              "            [5.8262e-01, 4.7119e-01, 7.7180e-01, 1.8735e-01, 6.4770e-02],\n",
              "            [1.2450e-01, 7.7319e-01, 5.6391e-01, 7.6805e-01, 7.7220e-01]],\n",
              "\n",
              "           [[9.7957e-01, 9.6237e-01, 4.9987e-02, 8.9784e-01, 4.5696e-01],\n",
              "            [1.0457e-01, 5.5346e-01, 9.5154e-01, 3.8068e-01, 9.4950e-01],\n",
              "            [6.0386e-01, 2.2703e-01, 2.6780e-01, 7.1947e-01, 3.7726e-01]],\n",
              "\n",
              "           [[4.9737e-01, 5.9480e-01, 3.8863e-01, 2.8408e-01, 1.9240e-01],\n",
              "            [8.6746e-01, 8.0804e-01, 6.7584e-01, 5.8555e-01, 1.2917e-01],\n",
              "            [5.9137e-01, 5.8014e-01, 3.8278e-01, 4.5137e-01, 1.3976e-02]],\n",
              "\n",
              "           [[7.1808e-01, 5.4154e-01, 7.7125e-01, 9.3322e-01, 1.2040e-01],\n",
              "            [9.5064e-01, 7.3604e-01, 4.1953e-01, 4.2773e-01, 8.1456e-01],\n",
              "            [9.6588e-01, 7.5051e-01, 9.8477e-01, 9.7144e-01, 4.6610e-01]]],\n",
              "\n",
              "\n",
              "          [[[2.9608e-01, 1.5869e-01, 9.0231e-01, 8.8991e-01, 1.3207e-02],\n",
              "            [6.7156e-01, 1.6024e-01, 5.2884e-01, 5.3264e-01, 3.3715e-01],\n",
              "            [5.2500e-01, 9.6445e-01, 4.9488e-01, 4.8373e-01, 9.6353e-01]],\n",
              "\n",
              "           [[4.1472e-01, 9.7306e-01, 6.6704e-01, 8.1264e-01, 5.4628e-01],\n",
              "            [3.2602e-01, 3.8570e-01, 9.9302e-01, 7.7154e-01, 4.0410e-01],\n",
              "            [8.9931e-01, 9.8501e-01, 4.9532e-01, 9.6683e-01, 1.3876e-01]],\n",
              "\n",
              "           [[5.8698e-02, 7.4404e-01, 8.1502e-01, 9.4819e-01, 3.2043e-01],\n",
              "            [7.4307e-01, 8.6665e-01, 3.3832e-01, 2.1106e-01, 8.1764e-01],\n",
              "            [9.9084e-02, 7.6501e-02, 9.1808e-01, 3.2524e-01, 2.0948e-01]],\n",
              "\n",
              "           [[8.9085e-01, 1.3079e-01, 8.7487e-01, 8.5785e-02, 2.0243e-01],\n",
              "            [1.8193e-01, 9.2446e-01, 5.5316e-01, 3.5042e-01, 2.3295e-01],\n",
              "            [7.5692e-01, 3.4613e-01, 9.8797e-02, 7.2455e-01, 8.7323e-01]]],\n",
              "\n",
              "\n",
              "          [[[9.0700e-01, 8.6217e-01, 6.6328e-01, 1.5144e-01, 8.6354e-01],\n",
              "            [4.5566e-02, 4.5827e-01, 4.8631e-01, 9.1684e-02, 4.3965e-01],\n",
              "            [8.3560e-01, 2.1444e-01, 5.5992e-01, 8.9006e-01, 5.1547e-01]],\n",
              "\n",
              "           [[7.4751e-01, 2.8953e-01, 9.4213e-01, 7.0053e-01, 7.0371e-01],\n",
              "            [4.4598e-01, 5.9193e-01, 2.9761e-01, 4.8956e-01, 1.2912e-01],\n",
              "            [5.9623e-01, 8.3999e-01, 9.8772e-01, 1.2195e-01, 7.0553e-01]],\n",
              "\n",
              "           [[6.1546e-01, 7.4170e-01, 5.1171e-01, 4.6595e-02, 3.7279e-01],\n",
              "            [3.7197e-01, 8.2481e-01, 8.8140e-01, 5.7421e-01, 1.4692e-01],\n",
              "            [8.1002e-01, 2.7463e-01, 5.8721e-01, 4.1253e-02, 3.0030e-01]],\n",
              "\n",
              "           [[9.8334e-01, 5.9006e-01, 4.1845e-01, 1.2293e-01, 1.0991e-01],\n",
              "            [8.5354e-01, 8.0757e-01, 8.4717e-01, 9.8084e-01, 1.4257e-01],\n",
              "            [2.3020e-01, 8.4311e-01, 1.5742e-01, 5.0808e-01, 5.5040e-01]]]]]])"
            ]
          },
          "execution_count": 60,
          "metadata": {},
          "output_type": "execute_result"
        }
      ],
      "source": [
        "randomTensor"
      ]
    },
    {
      "cell_type": "code",
      "execution_count": 61,
      "metadata": {
        "id": "imrbHz32UGwk"
      },
      "outputs": [],
      "source": [
        "import matplotlib.pyplot as plt"
      ]
    },
    {
      "cell_type": "code",
      "execution_count": 62,
      "metadata": {
        "colab": {
          "base_uri": "https://localhost:8080/"
        },
        "id": "5QFFlXXTXZYf",
        "outputId": "9dc1bbf7-14e6-4d2e-b747-c54513244609"
      },
      "outputs": [
        {
          "data": {
            "text/plain": [
              "tensor([[0., 0., 0.],\n",
              "        [0., 0., 0.],\n",
              "        [0., 0., 0.]])"
            ]
          },
          "execution_count": 62,
          "metadata": {},
          "output_type": "execute_result"
        }
      ],
      "source": [
        "zero = torch.zeros(3,3)\n",
        "zero"
      ]
    },
    {
      "cell_type": "code",
      "execution_count": 63,
      "metadata": {
        "colab": {
          "base_uri": "https://localhost:8080/"
        },
        "id": "h7dLHTwwaOMy",
        "outputId": "6fbb9d67-aeae-4089-a44f-ddb31ac239ca"
      },
      "outputs": [
        {
          "data": {
            "text/plain": [
              "tensor([[1., 1., 1.],\n",
              "        [1., 1., 1.],\n",
              "        [1., 1., 1.]])"
            ]
          },
          "execution_count": 63,
          "metadata": {},
          "output_type": "execute_result"
        }
      ],
      "source": [
        "ones = torch.ones(3,3)\n",
        "ones"
      ]
    },
    {
      "cell_type": "code",
      "execution_count": 64,
      "metadata": {
        "colab": {
          "base_uri": "https://localhost:8080/"
        },
        "id": "SXKxndB0adA_",
        "outputId": "c361cec0-81be-4533-aa5d-6e4db0a610ef"
      },
      "outputs": [
        {
          "data": {
            "text/plain": [
              "tensor([[1., 1., 1.],\n",
              "        [1., 1., 1.],\n",
              "        [1., 1., 1.]])"
            ]
          },
          "execution_count": 64,
          "metadata": {},
          "output_type": "execute_result"
        }
      ],
      "source": [
        "zero + ones"
      ]
    },
    {
      "cell_type": "code",
      "execution_count": 65,
      "metadata": {
        "colab": {
          "base_uri": "https://localhost:8080/"
        },
        "id": "O5k4KnFdafgn",
        "outputId": "4eb16621-2ca8-4f3a-862e-e57b5e282772"
      },
      "outputs": [
        {
          "data": {
            "text/plain": [
              "tensor([[1., 1., 1.],\n",
              "        [1., 1., 1.],\n",
              "        [1., 1., 1.]])"
            ]
          },
          "execution_count": 65,
          "metadata": {},
          "output_type": "execute_result"
        }
      ],
      "source": [
        "torch.ones_like(scalr) ## takes an input tensor and return one unit tensor for that input size"
      ]
    },
    {
      "cell_type": "code",
      "execution_count": 67,
      "metadata": {
        "colab": {
          "base_uri": "https://localhost:8080/"
        },
        "id": "R1cWq9z1b3eD",
        "outputId": "c414e892-8bb3-4f8e-e661-7f79f9b66097"
      },
      "outputs": [
        {
          "data": {
            "text/plain": [
              "tensor([[1., 1., 1., 1., 1.],\n",
              "        [1., 1., 1., 1., 1.],\n",
              "        [1., 1., 1., 1., 1.]])"
            ]
          },
          "execution_count": 67,
          "metadata": {},
          "output_type": "execute_result"
        }
      ],
      "source": [
        "torch.nn.init.ones_(w)\n",
        "w"
      ]
    },
    {
      "cell_type": "code",
      "execution_count": 68,
      "metadata": {
        "colab": {
          "base_uri": "https://localhost:8080/"
        },
        "id": "zPPl01k5cMcz",
        "outputId": "2def66d7-2a9f-478d-8634-348857df6eeb"
      },
      "outputs": [
        {
          "data": {
            "text/plain": [
              "tensor([ 1,  2,  3,  4,  5,  6,  7,  8,  9, 10])"
            ]
          },
          "execution_count": 68,
          "metadata": {},
          "output_type": "execute_result"
        }
      ],
      "source": [
        "torch.arange(1,11)"
      ]
    },
    {
      "cell_type": "code",
      "execution_count": 69,
      "metadata": {
        "colab": {
          "base_uri": "https://localhost:8080/"
        },
        "id": "fjLvtKv8dbBh",
        "outputId": "af9bd49b-924d-4c02-e122-173b8f12e95a"
      },
      "outputs": [
        {
          "data": {
            "text/plain": [
              "tensor([1, 3, 5, 7, 9])"
            ]
          },
          "execution_count": 69,
          "metadata": {},
          "output_type": "execute_result"
        }
      ],
      "source": [
        "torch.arange(1,11,2)"
      ]
    },
    {
      "cell_type": "code",
      "execution_count": 70,
      "metadata": {
        "colab": {
          "base_uri": "https://localhost:8080/"
        },
        "id": "6SCqBVSOdhZx",
        "outputId": "20e4999d-2844-4391-8bfc-76019c84f9d4"
      },
      "outputs": [
        {
          "data": {
            "text/plain": [
              "tensor([[3., 3., 3.],\n",
              "        [3., 3., 3.],\n",
              "        [3., 3., 3.]])"
            ]
          },
          "execution_count": 70,
          "metadata": {},
          "output_type": "execute_result"
        }
      ],
      "source": [
        "torch.full_like(scalr, fill_value=3)"
      ]
    },
    {
      "cell_type": "markdown",
      "metadata": {
        "id": "vVOlqD2kdszq"
      },
      "source": [
        "tensor creattion **args\n",
        "\n",
        "- default dtype = None/float32\n",
        "- other dtypes are complex16-32/float16-32-62 & more\n",
        "- device = cpu/cuda** tensors not on same device wont work together\n",
        "- requires_grad =T/F pytorch calcluates gradient? for tensor after numerical calculations"
      ]
    },
    {
      "cell_type": "code",
      "execution_count": 71,
      "metadata": {
        "id": "Qc9hg7IWjpAX"
      },
      "outputs": [],
      "source": [
        "scalar16 = scalar.type(torch.float16)"
      ]
    },
    {
      "cell_type": "code",
      "execution_count": 72,
      "metadata": {
        "colab": {
          "base_uri": "https://localhost:8080/"
        },
        "id": "2dUjbnnQkc1W",
        "outputId": "a328f39f-c327-4ea8-906f-d5a42edbb7c8"
      },
      "outputs": [
        {
          "data": {
            "text/plain": [
              "tensor([7., 7.], dtype=torch.float16)"
            ]
          },
          "execution_count": 72,
          "metadata": {},
          "output_type": "execute_result"
        }
      ],
      "source": [
        "scalar16"
      ]
    },
    {
      "cell_type": "code",
      "execution_count": 73,
      "metadata": {
        "colab": {
          "base_uri": "https://localhost:8080/"
        },
        "id": "1Hra-QIRkeiH",
        "outputId": "a4140315-4cf3-491e-b39a-0b2bafdacd29"
      },
      "outputs": [
        {
          "data": {
            "text/plain": [
              "tensor([49., 49.], dtype=torch.float16)"
            ]
          },
          "execution_count": 73,
          "metadata": {},
          "output_type": "execute_result"
        }
      ],
      "source": [
        "scalar16*scalar"
      ]
    },
    {
      "cell_type": "code",
      "execution_count": 74,
      "metadata": {
        "colab": {
          "base_uri": "https://localhost:8080/"
        },
        "id": "XkvdUMx3k9t3",
        "outputId": "1a890769-1d8b-4d9e-8a62-937ac27eb066"
      },
      "outputs": [
        {
          "data": {
            "text/plain": [
              "tensor([[0., 0., 0.],\n",
              "        [0., 0., 0.],\n",
              "        [0., 0., 0.]])"
            ]
          },
          "execution_count": 74,
          "metadata": {},
          "output_type": "execute_result"
        }
      ],
      "source": [
        "torch.zeros(3,3) * torch.ones(3,3)"
      ]
    },
    {
      "cell_type": "code",
      "execution_count": 75,
      "metadata": {
        "colab": {
          "base_uri": "https://localhost:8080/"
        },
        "id": "SiIRPyd4lCXt",
        "outputId": "288264a3-e322-4966-ea53-09bbf9a18aca"
      },
      "outputs": [
        {
          "data": {
            "text/plain": [
              "tensor([[9., 9., 9.],\n",
              "        [9., 9., 9.],\n",
              "        [9., 9., 9.]])"
            ]
          },
          "execution_count": 75,
          "metadata": {},
          "output_type": "execute_result"
        }
      ],
      "source": [
        "three = torch.full_like(torch.empty(3,3), fill_value=3)\n",
        "three * three"
      ]
    },
    {
      "cell_type": "code",
      "execution_count": 76,
      "metadata": {
        "id": "2uKVNYtulgQK"
      },
      "outputs": [],
      "source": [
        "## torch.rand(3,3,device=\"cuda\")"
      ]
    },
    {
      "cell_type": "code",
      "execution_count": 77,
      "metadata": {
        "colab": {
          "base_uri": "https://localhost:8080/"
        },
        "id": "yaaZc4Nbp0hh",
        "outputId": "ba86468e-9df3-4cc6-e34f-f26f3c3abaef"
      },
      "outputs": [
        {
          "data": {
            "text/plain": [
              "tensor([1, 2, 3])"
            ]
          },
          "execution_count": 77,
          "metadata": {},
          "output_type": "execute_result"
        }
      ],
      "source": [
        "new = torch.tensor([1,2,3])\n",
        "new"
      ]
    },
    {
      "cell_type": "code",
      "execution_count": 78,
      "metadata": {
        "colab": {
          "base_uri": "https://localhost:8080/"
        },
        "id": "gUTyeIxcqrQG",
        "outputId": "e8942309-3dfa-448a-85b8-cad051d3ad20"
      },
      "outputs": [
        {
          "data": {
            "text/plain": [
              "tensor([11, 12, 13])"
            ]
          },
          "execution_count": 78,
          "metadata": {},
          "output_type": "execute_result"
        }
      ],
      "source": [
        "new + 10"
      ]
    },
    {
      "cell_type": "code",
      "execution_count": 79,
      "metadata": {
        "colab": {
          "base_uri": "https://localhost:8080/"
        },
        "id": "aRxD5nvIqeWu",
        "outputId": "64d421c9-87c5-4d21-ae31-ec0d984dc3ac"
      },
      "outputs": [
        {
          "data": {
            "text/plain": [
              "tensor([-1,  0,  1])"
            ]
          },
          "execution_count": 79,
          "metadata": {},
          "output_type": "execute_result"
        }
      ],
      "source": [
        "new + (-2)"
      ]
    },
    {
      "cell_type": "code",
      "execution_count": 80,
      "metadata": {
        "colab": {
          "base_uri": "https://localhost:8080/"
        },
        "id": "YTvLq0_Yqlqm",
        "outputId": "c91c2de7-27d1-4f93-edd0-c795b745ec8f"
      },
      "outputs": [
        {
          "data": {
            "text/plain": [
              "tensor([1, 4, 9])"
            ]
          },
          "execution_count": 80,
          "metadata": {},
          "output_type": "execute_result"
        }
      ],
      "source": [
        "new * new"
      ]
    },
    {
      "cell_type": "code",
      "execution_count": 81,
      "metadata": {
        "colab": {
          "base_uri": "https://localhost:8080/"
        },
        "id": "12frPtg5q5z3",
        "outputId": "c1f4fb69-31e3-4073-c290-9ec90464d165"
      },
      "outputs": [
        {
          "data": {
            "text/plain": [
              "tensor([[2.6014, 2.2953, 3.7415]])"
            ]
          },
          "execution_count": 81,
          "metadata": {},
          "output_type": "execute_result"
        }
      ],
      "source": [
        "new / torch.rand(1,3)"
      ]
    },
    {
      "cell_type": "code",
      "execution_count": 82,
      "metadata": {
        "colab": {
          "base_uri": "https://localhost:8080/"
        },
        "id": "-u492p8nq9zg",
        "outputId": "b16d4f04-e7bf-4bbb-a1d3-095d1208b2c2"
      },
      "outputs": [
        {
          "data": {
            "text/plain": [
              "tensor([1, 4, 9])"
            ]
          },
          "execution_count": 82,
          "metadata": {},
          "output_type": "execute_result"
        }
      ],
      "source": [
        "torch.multiply(new,new)"
      ]
    },
    {
      "cell_type": "code",
      "execution_count": 83,
      "metadata": {
        "colab": {
          "base_uri": "https://localhost:8080/"
        },
        "id": "ij2hK4VNr_pN",
        "outputId": "7ca286a8-28fd-497b-dc03-a900b0034c84"
      },
      "outputs": [
        {
          "data": {
            "text/plain": [
              "tensor([[12., 12., 12.],\n",
              "        [12., 12., 12.],\n",
              "        [12., 12., 12.]])"
            ]
          },
          "execution_count": 83,
          "metadata": {},
          "output_type": "execute_result"
        }
      ],
      "source": [
        "first = torch.full_like(torch.empty(3,3), fill_value=3)\n",
        "second = torch.full_like(torch.empty(3,3), fill_value=4)\n",
        "third = torch.full_like(torch.empty(3,4), fill_value=3)\n",
        "\n",
        "torch.multiply(first, second)"
      ]
    },
    {
      "cell_type": "code",
      "execution_count": 84,
      "metadata": {
        "colab": {
          "base_uri": "https://localhost:8080/"
        },
        "id": "SxcdNYk3schT",
        "outputId": "6b384698-569e-4aba-cb29-fe1e1c45fed2"
      },
      "outputs": [
        {
          "data": {
            "text/plain": [
              "tensor([[36., 36., 36.],\n",
              "        [36., 36., 36.],\n",
              "        [36., 36., 36.]])"
            ]
          },
          "execution_count": 84,
          "metadata": {},
          "output_type": "execute_result"
        }
      ],
      "source": [
        "torch.matmul(first, second)"
      ]
    },
    {
      "cell_type": "code",
      "execution_count": 94,
      "metadata": {
        "id": "hFMSS8JDskfq"
      },
      "outputs": [],
      "source": [
        "# torch.multiply(first, third)"
      ]
    },
    {
      "cell_type": "code",
      "execution_count": 86,
      "metadata": {
        "colab": {
          "base_uri": "https://localhost:8080/"
        },
        "id": "uTSx9BQTtCob",
        "outputId": "e55b1af7-e6cd-480a-db8a-083026a90f06"
      },
      "outputs": [
        {
          "data": {
            "text/plain": [
              "tensor([[27., 27., 27., 27.],\n",
              "        [27., 27., 27., 27.],\n",
              "        [27., 27., 27., 27.]])"
            ]
          },
          "execution_count": 86,
          "metadata": {},
          "output_type": "execute_result"
        }
      ],
      "source": [
        "torch.matmul(first, third)"
      ]
    },
    {
      "cell_type": "code",
      "execution_count": 87,
      "metadata": {
        "colab": {
          "base_uri": "https://localhost:8080/"
        },
        "id": "1UwFv1IGtFRD",
        "outputId": "59ea42cb-48b9-46cf-94f6-c45599df297d"
      },
      "outputs": [
        {
          "data": {
            "text/plain": [
              "tensor(14)"
            ]
          },
          "execution_count": 87,
          "metadata": {},
          "output_type": "execute_result"
        }
      ],
      "source": [
        "torch.matmul(torch.tensor([1,2,3]), torch.tensor([1,2,3]))  ## matmuls doubles as matrix mutliplication and vector dot product"
      ]
    },
    {
      "cell_type": "code",
      "execution_count": 89,
      "metadata": {
        "id": "zwU5ERLWtsn2"
      },
      "outputs": [],
      "source": [
        "fourth = torch.full_like(torch.empty(4,3), fill_value=5)"
      ]
    },
    {
      "cell_type": "code",
      "execution_count": 91,
      "metadata": {
        "colab": {
          "base_uri": "https://localhost:8080/"
        },
        "id": "Pe85gTYxwK1X",
        "outputId": "3c202689-16ef-404e-f851-18a5c3de3452"
      },
      "outputs": [
        {
          "data": {
            "text/plain": [
              "tensor([[5., 5., 5., 5.],\n",
              "        [5., 5., 5., 5.],\n",
              "        [5., 5., 5., 5.]])"
            ]
          },
          "execution_count": 91,
          "metadata": {},
          "output_type": "execute_result"
        }
      ],
      "source": [
        "fourth.T"
      ]
    },
    {
      "cell_type": "code",
      "execution_count": 96,
      "metadata": {
        "colab": {
          "base_uri": "https://localhost:8080/"
        },
        "id": "Tm-GpNOXwS66",
        "outputId": "0723fdeb-3c26-4a99-84be-8904b6f491bd"
      },
      "outputs": [
        {
          "data": {
            "text/plain": [
              "tensor([[60., 60., 60., 60.],\n",
              "        [60., 60., 60., 60.],\n",
              "        [60., 60., 60., 60.]])"
            ]
          },
          "execution_count": 96,
          "metadata": {},
          "output_type": "execute_result"
        }
      ],
      "source": [
        "torch.mm(second, fourth.T)"
      ]
    },
    {
      "cell_type": "markdown",
      "metadata": {
        "id": "s_W2wLJkxcIA"
      },
      "source": [
        "current timestamp - 2:50:00"
      ]
    },
    {
      "cell_type": "code",
      "execution_count": 128,
      "metadata": {
        "id": "o1dLvG6XyFkU"
      },
      "outputs": [],
      "source": [
        "first = torch.rand(4, 4) * (11 - 1) + 1"
      ]
    },
    {
      "cell_type": "code",
      "execution_count": 146,
      "metadata": {
        "colab": {
          "base_uri": "https://localhost:8080/"
        },
        "id": "5AEeexuR1nQe",
        "outputId": "cd373da1-0a11-463e-c5a4-eb226cbdc1d4"
      },
      "outputs": [
        {
          "data": {
            "text/plain": [
              "tensor([[ 9.9818, 10.1899,  8.6344,  3.7334],\n",
              "        [ 7.5663,  8.0053,  4.2280,  1.8220],\n",
              "        [10.4300,  5.9147,  2.3281,  9.3560],\n",
              "        [ 8.9211, 10.1987, 10.4366,  6.5863]])"
            ]
          },
          "execution_count": 146,
          "metadata": {},
          "output_type": "execute_result"
        }
      ],
      "source": [
        "first"
      ]
    },
    {
      "cell_type": "code",
      "execution_count": 147,
      "metadata": {
        "colab": {
          "base_uri": "https://localhost:8080/"
        },
        "id": "EwWs26Idxi1n",
        "outputId": "448947af-ecb9-4c48-f9a8-fb107f7ec328"
      },
      "outputs": [
        {
          "data": {
            "text/plain": [
              "tensor([[300.0994, 272.4329, 188.3362, 161.2047],\n",
              "        [196.4490, 184.7749, 128.0360,  94.3915],\n",
              "        [256.6114, 262.8193, 218.1293, 133.1198],\n",
              "        [333.8276, 301.4512, 213.1859, 192.9129]])"
            ]
          },
          "execution_count": 147,
          "metadata": {},
          "output_type": "execute_result"
        }
      ],
      "source": [
        "first.matrix_power(2)"
      ]
    },
    {
      "cell_type": "code",
      "execution_count": 130,
      "metadata": {
        "colab": {
          "base_uri": "https://localhost:8080/"
        },
        "id": "tDqxI8O1xtci",
        "outputId": "0258060c-8be2-43a1-a26b-f7783647654f"
      },
      "outputs": [
        {
          "data": {
            "text/plain": [
              "tensor(10.4366)"
            ]
          },
          "execution_count": 130,
          "metadata": {},
          "output_type": "execute_result"
        }
      ],
      "source": [
        "first.max()"
      ]
    },
    {
      "cell_type": "code",
      "execution_count": 131,
      "metadata": {
        "colab": {
          "base_uri": "https://localhost:8080/"
        },
        "id": "hSskBMQCx3bx",
        "outputId": "3aa97185-cc27-4db5-a7d9-8f3d1e64893a"
      },
      "outputs": [
        {
          "data": {
            "text/plain": [
              "tensor(1.8220)"
            ]
          },
          "execution_count": 131,
          "metadata": {},
          "output_type": "execute_result"
        }
      ],
      "source": [
        "first.min()"
      ]
    },
    {
      "cell_type": "code",
      "execution_count": 132,
      "metadata": {
        "colab": {
          "base_uri": "https://localhost:8080/"
        },
        "id": "tGmI2j5Ax6Ph",
        "outputId": "0338685b-37a5-4dc4-f48a-107e9e6e00e3"
      },
      "outputs": [
        {
          "data": {
            "text/plain": [
              "tensor(118.3328)"
            ]
          },
          "execution_count": 132,
          "metadata": {},
          "output_type": "execute_result"
        }
      ],
      "source": [
        "first.sum()"
      ]
    },
    {
      "cell_type": "code",
      "execution_count": 133,
      "metadata": {
        "colab": {
          "base_uri": "https://localhost:8080/"
        },
        "id": "dZZ_Mn5zx8FC",
        "outputId": "f3311f00-b4c7-42c6-c359-89793323f9e0"
      },
      "outputs": [
        {
          "data": {
            "text/plain": [
              "tensor(7.3958)"
            ]
          },
          "execution_count": 133,
          "metadata": {},
          "output_type": "execute_result"
        }
      ],
      "source": [
        "first.mean()"
      ]
    },
    {
      "cell_type": "code",
      "execution_count": 134,
      "metadata": {
        "colab": {
          "base_uri": "https://localhost:8080/"
        },
        "id": "H-h8Qt8Mx-G6",
        "outputId": "f29c5827-fb9b-481f-b49e-9879cc75fbb1"
      },
      "outputs": [
        {
          "data": {
            "text/plain": [
              "tensor([[ 9., 10.,  8.,  3.],\n",
              "        [ 7.,  8.,  4.,  1.],\n",
              "        [10.,  5.,  2.,  9.],\n",
              "        [ 8., 10., 10.,  6.]])"
            ]
          },
          "execution_count": 134,
          "metadata": {},
          "output_type": "execute_result"
        }
      ],
      "source": [
        "first.floor()"
      ]
    },
    {
      "cell_type": "code",
      "execution_count": 135,
      "metadata": {
        "colab": {
          "base_uri": "https://localhost:8080/"
        },
        "id": "G5JGy1iOy9kE",
        "outputId": "86e405b5-c96a-4025-b621-21d4193b33b0"
      },
      "outputs": [
        {
          "data": {
            "text/plain": [
              "tensor([[10., 11.,  9.,  4.],\n",
              "        [ 8.,  9.,  5.,  2.],\n",
              "        [11.,  6.,  3., 10.],\n",
              "        [ 9., 11., 11.,  7.]])"
            ]
          },
          "execution_count": 135,
          "metadata": {},
          "output_type": "execute_result"
        }
      ],
      "source": [
        "first.ceil()"
      ]
    },
    {
      "cell_type": "code",
      "execution_count": 136,
      "metadata": {
        "colab": {
          "base_uri": "https://localhost:8080/"
        },
        "id": "vaRv3bxdzFPM",
        "outputId": "252d0685-f879-4875-c596-04e82e7a9658"
      },
      "outputs": [
        {
          "data": {
            "text/plain": [
              "tensor([[10., 10.,  9.,  4.],\n",
              "        [ 8.,  8.,  4.,  2.],\n",
              "        [10.,  6.,  2.,  9.],\n",
              "        [ 9., 10., 10.,  7.]])"
            ]
          },
          "execution_count": 136,
          "metadata": {},
          "output_type": "execute_result"
        }
      ],
      "source": [
        "first.round()"
      ]
    },
    {
      "cell_type": "code",
      "execution_count": 137,
      "metadata": {
        "colab": {
          "base_uri": "https://localhost:8080/"
        },
        "id": "yIQyXOSizHKu",
        "outputId": "898ca188-2320-45e3-b3f2-6952dada4359"
      },
      "outputs": [
        {
          "data": {
            "text/plain": [
              "tensor(7.3958)"
            ]
          },
          "execution_count": 137,
          "metadata": {},
          "output_type": "execute_result"
        }
      ],
      "source": [
        "torch.mean(first)"
      ]
    },
    {
      "cell_type": "code",
      "execution_count": 139,
      "metadata": {
        "colab": {
          "base_uri": "https://localhost:8080/"
        },
        "id": "jtNAeyljz0Rf",
        "outputId": "554c6d91-6f98-496f-fccb-92942a871ad3"
      },
      "outputs": [
        {
          "data": {
            "text/plain": [
              "(tensor(7), tensor(14))"
            ]
          },
          "execution_count": 139,
          "metadata": {},
          "output_type": "execute_result"
        }
      ],
      "source": [
        "first.argmin(), first.argmax()  ## returns index value of arg"
      ]
    },
    {
      "cell_type": "code",
      "execution_count": 151,
      "metadata": {
        "colab": {
          "base_uri": "https://localhost:8080/"
        },
        "id": "twH78izb0PVF",
        "outputId": "84d4040d-daee-400c-8a0c-fa2b0ec12f4f"
      },
      "outputs": [
        {
          "data": {
            "text/plain": [
              "(tensor(10.4366), tensor(1.8220))"
            ]
          },
          "execution_count": 151,
          "metadata": {},
          "output_type": "execute_result"
        }
      ],
      "source": [
        "first.flatten()[14], first.flatten()[7]"
      ]
    },
    {
      "cell_type": "code",
      "execution_count": 144,
      "metadata": {
        "id": "bcifyFeF0ZA0"
      },
      "outputs": [],
      "source": []
    }
  ],
  "metadata": {
    "colab": {
      "provenance": []
    },
    "kernelspec": {
      "display_name": "Python 3",
      "name": "python3"
    },
    "language_info": {
      "name": "python"
    }
  },
  "nbformat": 4,
  "nbformat_minor": 0
}
