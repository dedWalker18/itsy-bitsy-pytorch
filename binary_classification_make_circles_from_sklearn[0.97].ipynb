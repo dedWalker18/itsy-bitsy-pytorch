{
  "nbformat": 4,
  "nbformat_minor": 0,
  "metadata": {
    "colab": {
      "provenance": [],
      "gpuType": "T4"
    },
    "kernelspec": {
      "name": "python3",
      "display_name": "Python 3"
    },
    "language_info": {
      "name": "python"
    },
    "accelerator": "GPU"
  },
  "cells": [
    {
      "cell_type": "code",
      "execution_count": 1,
      "metadata": {
        "id": "bAV4YiUNqgOt"
      },
      "outputs": [],
      "source": [
        "import torch"
      ]
    },
    {
      "cell_type": "code",
      "source": [
        "from torch import nn"
      ],
      "metadata": {
        "id": "cZtJ_JTIJ3G1"
      },
      "execution_count": 2,
      "outputs": []
    },
    {
      "cell_type": "code",
      "source": [
        "import sklearn\n",
        "from sklearn.datasets import make_circles\n",
        "from sklearn.model_selection import train_test_split"
      ],
      "metadata": {
        "id": "5oiaKcbEJ8lT"
      },
      "execution_count": 3,
      "outputs": []
    },
    {
      "cell_type": "code",
      "source": [
        "X, y = make_circles(1000, random_state=42, noise=0.05)\n",
        "X = torch.from_numpy(X).type(torch.float32)\n",
        "y = torch.from_numpy(y).type(torch.float32)"
      ],
      "metadata": {
        "id": "tFk5_84orjI-"
      },
      "execution_count": 4,
      "outputs": []
    },
    {
      "cell_type": "code",
      "source": [
        "len(X) == len(y), y.shape, y.device, y.dtype"
      ],
      "metadata": {
        "colab": {
          "base_uri": "https://localhost:8080/"
        },
        "id": "4nB1qiktr5GY",
        "outputId": "ad9bd31b-f576-4f75-ff41-1eabd34c5797"
      },
      "execution_count": 5,
      "outputs": [
        {
          "output_type": "execute_result",
          "data": {
            "text/plain": [
              "(True, torch.Size([1000]), device(type='cpu'), torch.float32)"
            ]
          },
          "metadata": {},
          "execution_count": 5
        }
      ]
    },
    {
      "cell_type": "code",
      "source": [
        "device = \"cuda\" if torch.cuda.is_available() else \"cpu\"\n",
        "device"
      ],
      "metadata": {
        "colab": {
          "base_uri": "https://localhost:8080/",
          "height": 35
        },
        "id": "N0wmWu0htoTH",
        "outputId": "3501d962-e7c1-4c97-9850-6e2a6589192c"
      },
      "execution_count": 6,
      "outputs": [
        {
          "output_type": "execute_result",
          "data": {
            "text/plain": [
              "'cuda'"
            ],
            "application/vnd.google.colaboratory.intrinsic+json": {
              "type": "string"
            }
          },
          "metadata": {},
          "execution_count": 6
        }
      ]
    },
    {
      "cell_type": "code",
      "source": [
        "X = X.to(device)\n",
        "y = y.to(device)\n",
        "X_train, X_test,y_train, y_test = train_test_split(X, y,\n",
        "                                                    test_size=0.3 ,\n",
        "                                                    random_state=43)\n",
        "\n",
        "y_test = y_test.squeeze(dim=0)\n",
        "X_test = X_test.squeeze(dim=0)"
      ],
      "metadata": {
        "id": "8sWhRwUxr61e"
      },
      "execution_count": 7,
      "outputs": []
    },
    {
      "cell_type": "code",
      "source": [
        "X_train.shape, X_train.device"
      ],
      "metadata": {
        "colab": {
          "base_uri": "https://localhost:8080/"
        },
        "id": "a9u1H8BttRAu",
        "outputId": "28e620df-ce52-4c8c-afe1-1f89491e36e5"
      },
      "execution_count": 8,
      "outputs": [
        {
          "output_type": "execute_result",
          "data": {
            "text/plain": [
              "(torch.Size([700, 2]), device(type='cuda', index=0))"
            ]
          },
          "metadata": {},
          "execution_count": 8
        }
      ]
    },
    {
      "cell_type": "code",
      "source": [
        "torch.manual_seed(43)\n",
        "class CircleClassifier(nn.Module):\n",
        "  def __init__(self):\n",
        "    super().__init__()\n",
        "    self.layer_1 = nn.Linear(in_features=2, out_features=8)\n",
        "    self.layer_2 = nn.Linear(in_features=8, out_features=1)\n",
        "\n",
        "\n",
        "  def forward(self, x):\n",
        "    return self.layer_2(self.layer_1(x))\n",
        "\n",
        "\n",
        "model0 = CircleClassifier().to(device)\n",
        "model0"
      ],
      "metadata": {
        "colab": {
          "base_uri": "https://localhost:8080/"
        },
        "id": "q16xcwHDtlNQ",
        "outputId": "2da7714c-188d-4f70-d12d-b0179c5ffe08"
      },
      "execution_count": 9,
      "outputs": [
        {
          "output_type": "execute_result",
          "data": {
            "text/plain": [
              "CircleClassifier(\n",
              "  (layer_1): Linear(in_features=2, out_features=8, bias=True)\n",
              "  (layer_2): Linear(in_features=8, out_features=1, bias=True)\n",
              ")"
            ]
          },
          "metadata": {},
          "execution_count": 9
        }
      ]
    },
    {
      "cell_type": "code",
      "source": [
        "# same model implemented using torch module, defining forward class is better for more complex models\n",
        "torch.manual_seed(43)\n",
        "model0 = nn.Sequential(nn.Linear(in_features=2, out_features=128),\n",
        "                       nn.ReLU(),\n",
        "                      nn.Linear(in_features=128, out_features=256),\n",
        "                       nn.ReLU(),\n",
        "                      nn.Linear(in_features=256, out_features=128),\n",
        "                       nn.ReLU(),\n",
        "                      nn.Linear(in_features=128, out_features=1)).to(device)\n",
        "# model0.state_dict()\n",
        "\n",
        "# same model implemented using torch module, defining forward class is better for more complex models\n",
        "model1 = nn.Sequential(nn.Linear(in_features=2, out_features=128),\n",
        "                       nn.ReLU(),\n",
        "                      nn.Linear(in_features=128, out_features=256),\n",
        "                       nn.ReLU(),\n",
        "                      nn.Linear(in_features=256, out_features=128),\n",
        "                       nn.ReLU(),\n",
        "                      nn.Linear(in_features=128, out_features=1)).to(device)\n",
        "# model0.state_dict()# model1.state_dict()"
      ],
      "metadata": {
        "id": "_-E-NIp0x3DR"
      },
      "execution_count": 10,
      "outputs": []
    },
    {
      "cell_type": "code",
      "source": [
        "next(model0.parameters()).device"
      ],
      "metadata": {
        "colab": {
          "base_uri": "https://localhost:8080/"
        },
        "id": "i_E0hOZP5m4h",
        "outputId": "c5d1ba02-73b3-4ee3-8c3e-707acfc10ab9"
      },
      "execution_count": 11,
      "outputs": [
        {
          "output_type": "execute_result",
          "data": {
            "text/plain": [
              "device(type='cuda', index=0)"
            ]
          },
          "metadata": {},
          "execution_count": 11
        }
      ]
    },
    {
      "cell_type": "code",
      "source": [
        "loss_func1 = nn.BCELoss()         ## sigmoid implemented in this\n",
        "loss_func2 = nn.BCEWithLogitsLoss()       ## not in this, more stable apparently??check docs"
      ],
      "metadata": {
        "id": "Q1q-42Ah0fUk"
      },
      "execution_count": 12,
      "outputs": []
    },
    {
      "cell_type": "code",
      "source": [
        "untrained_preds = model0(X_test).to(device).squeeze(dim=1)\n",
        "# loss_func1(untrained_preds, y_test), loss_func2(untrained_preds, y_test)\n",
        "loss_func2(untrained_preds, y_test)"
      ],
      "metadata": {
        "colab": {
          "base_uri": "https://localhost:8080/"
        },
        "id": "aXMv9MtPzNqP",
        "outputId": "3476c4f3-5c46-4516-8cd3-5674ff285cfb"
      },
      "execution_count": 13,
      "outputs": [
        {
          "output_type": "execute_result",
          "data": {
            "text/plain": [
              "tensor(0.6938, device='cuda:0',\n",
              "       grad_fn=<BinaryCrossEntropyWithLogitsBackward0>)"
            ]
          },
          "metadata": {},
          "execution_count": 13
        }
      ]
    },
    {
      "cell_type": "code",
      "source": [
        "optimiser0 = torch.optim.SGD(params=model0.parameters(), lr=0.001)\n",
        "optimiser1 = torch.optim.SGD(params=model1.parameters(), lr=0.001)\n"
      ],
      "metadata": {
        "id": "H48YqVaR3EGu"
      },
      "execution_count": 14,
      "outputs": []
    },
    {
      "cell_type": "code",
      "source": [
        "def accuracy_func(y_true, y_pred):\n",
        "  correct = torch.eq(y_true, y_pred).sum().item()\n",
        "  accuracy = correct/len(y_pred) * 100\n",
        "  return accuracy"
      ],
      "metadata": {
        "id": "gh9UGmRn4Ucb"
      },
      "execution_count": 15,
      "outputs": []
    },
    {
      "cell_type": "code",
      "source": [
        "X_train.device, X_test.device, y_train.device, y_test.device"
      ],
      "metadata": {
        "colab": {
          "base_uri": "https://localhost:8080/"
        },
        "id": "-cYLAAIL4yPF",
        "outputId": "00d1422a-6488-465d-f8d0-15237a99cc75"
      },
      "execution_count": 16,
      "outputs": [
        {
          "output_type": "execute_result",
          "data": {
            "text/plain": [
              "(device(type='cuda', index=0),\n",
              " device(type='cuda', index=0),\n",
              " device(type='cuda', index=0),\n",
              " device(type='cuda', index=0))"
            ]
          },
          "metadata": {},
          "execution_count": 16
        }
      ]
    },
    {
      "cell_type": "code",
      "source": [
        "model0.eval()\n",
        "with torch.inference_mode():\n",
        "  y_logits = model0(X_test.to(device))\n",
        "y_logits[:5]"
      ],
      "metadata": {
        "colab": {
          "base_uri": "https://localhost:8080/"
        },
        "id": "B9BeJZAR52L6",
        "outputId": "7b55c7f9-1750-4c07-9324-b645635bfa0b"
      },
      "execution_count": 17,
      "outputs": [
        {
          "output_type": "execute_result",
          "data": {
            "text/plain": [
              "tensor([[-0.0693],\n",
              "        [-0.0714],\n",
              "        [-0.0622],\n",
              "        [-0.0705],\n",
              "        [-0.0664]], device='cuda:0')"
            ]
          },
          "metadata": {},
          "execution_count": 17
        }
      ]
    },
    {
      "cell_type": "code",
      "source": [
        "y_logits.device"
      ],
      "metadata": {
        "colab": {
          "base_uri": "https://localhost:8080/"
        },
        "id": "GThZBwbP6Lci",
        "outputId": "58882f2e-505d-415d-b9f1-bdcde1daf439"
      },
      "execution_count": 18,
      "outputs": [
        {
          "output_type": "execute_result",
          "data": {
            "text/plain": [
              "device(type='cuda', index=0)"
            ]
          },
          "metadata": {},
          "execution_count": 18
        }
      ]
    },
    {
      "cell_type": "code",
      "source": [
        "untrained_labels = torch.round(torch.sigmoid(y_logits))\n",
        "untrained_labels[:5]"
      ],
      "metadata": {
        "colab": {
          "base_uri": "https://localhost:8080/"
        },
        "id": "TJnCpRQr6iS9",
        "outputId": "0d5a18d2-88ba-4cfc-8a99-beadd594955f"
      },
      "execution_count": 19,
      "outputs": [
        {
          "output_type": "execute_result",
          "data": {
            "text/plain": [
              "tensor([[0.],\n",
              "        [0.],\n",
              "        [0.],\n",
              "        [0.],\n",
              "        [0.]], device='cuda:0')"
            ]
          },
          "metadata": {},
          "execution_count": 19
        }
      ]
    },
    {
      "cell_type": "code",
      "source": [
        "## torch.eq() ## takes 2 tensors and returns a tensor with true when two elemts are same"
      ],
      "metadata": {
        "id": "i7I62cNC7MHX"
      },
      "execution_count": 20,
      "outputs": []
    },
    {
      "cell_type": "code",
      "source": [
        "loss_func1(y_test, untrained_labels.squeeze())"
      ],
      "metadata": {
        "colab": {
          "base_uri": "https://localhost:8080/"
        },
        "id": "lgRehZed8Fv_",
        "outputId": "91912884-8b31-4a1c-ce4a-308f57fb0633"
      },
      "execution_count": 21,
      "outputs": [
        {
          "output_type": "execute_result",
          "data": {
            "text/plain": [
              "tensor(50.6667, device='cuda:0')"
            ]
          },
          "metadata": {},
          "execution_count": 21
        }
      ]
    },
    {
      "cell_type": "code",
      "source": [
        "## using bce loss\n",
        "epochs = 10000\n",
        "\n",
        "for epoch in range(epochs):\n",
        "  model0.train()\n",
        "  y_logits = model0(X_train)\n",
        "  y_pred = torch.sigmoid(y_logits)  ## forward pass\n",
        "  loss = loss_func1(y_pred.squeeze(), y_train)\n",
        "  optimiser0.zero_grad()\n",
        "  loss.backward()\n",
        "  optimiser0.step()\n",
        "\n",
        "  model0.eval()\n",
        "  with torch.inference_mode():\n",
        "    test_logits = model0(X_test).squeeze()\n",
        "    y_pred_test = torch.sigmoid(test_logits)\n",
        "\n",
        "    test_loss = loss_func1(y_pred_test, y_test)\n",
        "    test_acc = accuracy_func(y_true=y_test, y_pred=torch.round(y_pred_test))\n",
        "\n",
        "  if epoch % 1000 == 0:\n",
        "    print(epoch, test_loss, test_acc)"
      ],
      "metadata": {
        "colab": {
          "base_uri": "https://localhost:8080/"
        },
        "id": "myznPz4Q86R7",
        "outputId": "c1d02891-59bc-4ad5-8198-76ec9e32f237"
      },
      "execution_count": 29,
      "outputs": [
        {
          "output_type": "stream",
          "name": "stdout",
          "text": [
            "0 tensor(0.2001, device='cuda:0') 97.0\n",
            "1000 tensor(0.1802, device='cuda:0') 97.33333333333334\n",
            "2000 tensor(0.1639, device='cuda:0') 97.33333333333334\n",
            "3000 tensor(0.1503, device='cuda:0') 97.33333333333334\n",
            "4000 tensor(0.1390, device='cuda:0') 97.33333333333334\n",
            "5000 tensor(0.1295, device='cuda:0') 97.33333333333334\n",
            "6000 tensor(0.1216, device='cuda:0') 97.33333333333334\n",
            "7000 tensor(0.1148, device='cuda:0') 97.33333333333334\n",
            "8000 tensor(0.1090, device='cuda:0') 97.33333333333334\n",
            "9000 tensor(0.1040, device='cuda:0') 97.33333333333334\n"
          ]
        }
      ]
    },
    {
      "cell_type": "code",
      "source": [
        "## using bcewithouutsigmoid loss\n",
        "epochs = 10000\n",
        "\n",
        "for epoch in range(epochs):\n",
        "  model1.train()\n",
        "  y_logits = model1(X_train)\n",
        "  y_pred= torch.round(torch.sigmoid(y_logits))  ## forward pass\n",
        "  loss = loss_func2(y_logits.squeeze(), y_train)\n",
        "  acc = accuracy_func(y_true=y_train,\n",
        "                      y_pred=y_pred)\n",
        "  optimiser1.zero_grad()\n",
        "  loss.backward()\n",
        "  optimiser1.step()\n",
        "\n",
        "  model1.eval()\n",
        "  with torch.inference_mode():\n",
        "    test_logits = model1(X_test).squeeze()\n",
        "    y_pred_test = torch.round(torch.sigmoid(test_logits))\n",
        "\n",
        "    test_loss = loss_func2(test_logits, y_test)\n",
        "    test_acc = accuracy_func(y_true=y_test, y_pred=y_pred_test)\n",
        "\n",
        "  if epoch % 1000 == 0:\n",
        "    print(epoch, test_loss, test_acc)"
      ],
      "metadata": {
        "colab": {
          "base_uri": "https://localhost:8080/"
        },
        "id": "jTOZ8YqxApRT",
        "outputId": "a97840c1-57cf-4f05-f332-dcf18a4dfad4"
      },
      "execution_count": 30,
      "outputs": [
        {
          "output_type": "stream",
          "name": "stdout",
          "text": [
            "0 tensor(0.4096, device='cuda:0') 95.0\n",
            "1000 tensor(0.3674, device='cuda:0') 95.66666666666667\n",
            "2000 tensor(0.3263, device='cuda:0') 95.66666666666667\n",
            "3000 tensor(0.2884, device='cuda:0') 96.66666666666667\n",
            "4000 tensor(0.2550, device='cuda:0') 97.0\n",
            "5000 tensor(0.2265, device='cuda:0') 97.0\n",
            "6000 tensor(0.2025, device='cuda:0') 97.0\n",
            "7000 tensor(0.1823, device='cuda:0') 97.33333333333334\n",
            "8000 tensor(0.1656, device='cuda:0') 97.33333333333334\n",
            "9000 tensor(0.1517, device='cuda:0') 97.0\n"
          ]
        }
      ]
    },
    {
      "cell_type": "code",
      "source": [],
      "metadata": {
        "id": "7IqyUboNC2o6"
      },
      "execution_count": 23,
      "outputs": []
    },
    {
      "cell_type": "code",
      "source": [],
      "metadata": {
        "id": "rVrxG_pqDBKC"
      },
      "execution_count": 23,
      "outputs": []
    }
  ]
}