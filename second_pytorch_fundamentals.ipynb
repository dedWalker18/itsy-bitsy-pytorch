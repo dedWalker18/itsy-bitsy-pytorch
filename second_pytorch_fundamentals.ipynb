{
  "cells": [
    {
      "cell_type": "code",
      "execution_count": 1,
      "metadata": {
        "id": "DC3Z8MGc29oB"
      },
      "outputs": [],
      "source": [
        "import torch"
      ]
    },
    {
      "cell_type": "code",
      "execution_count": 3,
      "metadata": {
        "colab": {
          "base_uri": "https://localhost:8080/"
        },
        "id": "s3Mape1amU7H",
        "outputId": "d09f2609-f00e-4bd9-902b-be56bcecdd11"
      },
      "outputs": [
        {
          "data": {
            "text/plain": [
              "tensor([1, 2, 3, 4, 5, 6])"
            ]
          },
          "execution_count": 3,
          "metadata": {},
          "output_type": "execute_result"
        }
      ],
      "source": [
        "x = torch.arange(1,7)\n",
        "x"
      ]
    },
    {
      "cell_type": "code",
      "execution_count": 14,
      "metadata": {
        "colab": {
          "base_uri": "https://localhost:8080/"
        },
        "id": "57CNQr3hnWh7",
        "outputId": "be4cb0ae-29ec-45d7-b867-eb8f2b9cfa90"
      },
      "outputs": [
        {
          "data": {
            "text/plain": [
              "tensor([[1, 2, 3, 4, 5, 6]])"
            ]
          },
          "execution_count": 14,
          "metadata": {},
          "output_type": "execute_result"
        }
      ],
      "source": [
        "x = x.reshape(1,6)\n",
        "x"
      ]
    },
    {
      "cell_type": "code",
      "execution_count": 15,
      "metadata": {
        "colab": {
          "base_uri": "https://localhost:8080/"
        },
        "id": "h-q3fW5lna4q",
        "outputId": "3c90245d-6082-4ad8-a4d0-5aed52c3d890"
      },
      "outputs": [
        {
          "data": {
            "text/plain": [
              "tensor([[1],\n",
              "        [2],\n",
              "        [3],\n",
              "        [4],\n",
              "        [5],\n",
              "        [6]])"
            ]
          },
          "execution_count": 15,
          "metadata": {},
          "output_type": "execute_result"
        }
      ],
      "source": [
        "x = x.reshape(6,1)\n",
        "x"
      ]
    },
    {
      "cell_type": "code",
      "execution_count": 16,
      "metadata": {
        "colab": {
          "base_uri": "https://localhost:8080/"
        },
        "id": "OGgyMecyoF-y",
        "outputId": "d5b8bb77-ac75-45a5-e53c-27d8ea861754"
      },
      "outputs": [
        {
          "data": {
            "text/plain": [
              "tensor([[1, 2, 3],\n",
              "        [4, 5, 6]])"
            ]
          },
          "execution_count": 16,
          "metadata": {},
          "output_type": "execute_result"
        }
      ],
      "source": [
        "x = x.reshape(2,3)\n",
        "x"
      ]
    },
    {
      "cell_type": "code",
      "execution_count": 20,
      "metadata": {
        "colab": {
          "base_uri": "https://localhost:8080/"
        },
        "id": "X6aSIUXXoIma",
        "outputId": "e462cc1b-ccda-407e-83e4-2e9cc1e63b7f"
      },
      "outputs": [
        {
          "data": {
            "text/plain": [
              "tensor([4, 5, 6])"
            ]
          },
          "execution_count": 20,
          "metadata": {},
          "output_type": "execute_result"
        }
      ],
      "source": [
        "x[1]"
      ]
    },
    {
      "cell_type": "code",
      "execution_count": 22,
      "metadata": {
        "id": "XcDndLTHoNfo"
      },
      "outputs": [],
      "source": [
        "## x[2]"
      ]
    },
    {
      "cell_type": "code",
      "execution_count": 23,
      "metadata": {
        "colab": {
          "base_uri": "https://localhost:8080/"
        },
        "id": "OsPLW-G-oWPu",
        "outputId": "60a64018-c39c-4ac7-d611-b34e1ff91406"
      },
      "outputs": [
        {
          "data": {
            "text/plain": [
              "torch.Size([2, 3])"
            ]
          },
          "execution_count": 23,
          "metadata": {},
          "output_type": "execute_result"
        }
      ],
      "source": [
        "x.shape"
      ]
    },
    {
      "cell_type": "code",
      "execution_count": 26,
      "metadata": {
        "colab": {
          "base_uri": "https://localhost:8080/"
        },
        "id": "boyvyONRor3-",
        "outputId": "88029de5-c15d-46cf-e06e-310e66b7fa6a"
      },
      "outputs": [
        {
          "data": {
            "text/plain": [
              "torch.Size([1, 6])"
            ]
          },
          "execution_count": 26,
          "metadata": {},
          "output_type": "execute_result"
        }
      ],
      "source": [
        "z = x.view(1,6)\n",
        "z.shape"
      ]
    },
    {
      "cell_type": "markdown",
      "metadata": {
        "id": "Fd7UQoeZot87"
      },
      "source": [
        "Views share memory with original tensor. This means change in z is change in x."
      ]
    },
    {
      "cell_type": "code",
      "execution_count": 30,
      "metadata": {
        "colab": {
          "base_uri": "https://localhost:8080/"
        },
        "id": "jklHRzzdo4nS",
        "outputId": "ea5b1f7a-5153-412e-ec9b-15d16b1b360d"
      },
      "outputs": [
        {
          "data": {
            "text/plain": [
              "tensor([[[1, 2, 3],\n",
              "         [4, 5, 6]],\n",
              "\n",
              "        [[1, 2, 3],\n",
              "         [4, 5, 6]],\n",
              "\n",
              "        [[1, 2, 3],\n",
              "         [4, 5, 6]]])"
            ]
          },
          "execution_count": 30,
          "metadata": {},
          "output_type": "execute_result"
        }
      ],
      "source": [
        "stackOfX = torch.stack([x,x,x])\n",
        "stackOfX"
      ]
    },
    {
      "cell_type": "code",
      "execution_count": 33,
      "metadata": {
        "colab": {
          "base_uri": "https://localhost:8080/"
        },
        "id": "V1kje_X8pJiH",
        "outputId": "81a6e15d-61df-421f-9a4c-9b4a1c177e82"
      },
      "outputs": [
        {
          "data": {
            "text/plain": [
              "tensor([[[1, 2, 3],\n",
              "         [4, 5, 6]],\n",
              "\n",
              "        [[1, 2, 3],\n",
              "         [4, 5, 6]],\n",
              "\n",
              "        [[1, 2, 3],\n",
              "         [4, 5, 6]],\n",
              "\n",
              "        [[1, 2, 3],\n",
              "         [4, 5, 6]]])"
            ]
          },
          "execution_count": 33,
          "metadata": {},
          "output_type": "execute_result"
        }
      ],
      "source": [
        "stackOfX = torch.stack([x,z.view(2,3),x,z.view(2,3)])\n",
        "stackOfX"
      ]
    },
    {
      "cell_type": "code",
      "execution_count": 34,
      "metadata": {
        "colab": {
          "base_uri": "https://localhost:8080/"
        },
        "id": "MnxKRkIZpYI-",
        "outputId": "c87e0060-57a9-4d48-abd1-26948be03c05"
      },
      "outputs": [
        {
          "data": {
            "text/plain": [
              "torch.Size([4, 2, 3])"
            ]
          },
          "execution_count": 34,
          "metadata": {},
          "output_type": "execute_result"
        }
      ],
      "source": [
        "stackOfX.shape"
      ]
    },
    {
      "cell_type": "code",
      "execution_count": 39,
      "metadata": {
        "colab": {
          "base_uri": "https://localhost:8080/"
        },
        "id": "jKuDihegpsq7",
        "outputId": "469b822d-9148-46c5-a57a-bac0880379a8"
      },
      "outputs": [
        {
          "data": {
            "text/plain": [
              "(tensor([[1, 2, 3, 1, 2, 3, 1, 2, 3, 1, 2, 3],\n",
              "         [4, 5, 6, 4, 5, 6, 4, 5, 6, 4, 5, 6]]),\n",
              " torch.Size([2, 12]))"
            ]
          },
          "execution_count": 39,
          "metadata": {},
          "output_type": "execute_result"
        }
      ],
      "source": [
        "stackOfX = torch.hstack([x,z.view(2,3),x,z.view(2,3)])\n",
        "stackOfX, stackOfX.shape"
      ]
    },
    {
      "cell_type": "code",
      "execution_count": 40,
      "metadata": {
        "colab": {
          "base_uri": "https://localhost:8080/"
        },
        "id": "gx5xIoFnpzPd",
        "outputId": "425e1bde-56bb-40f4-9eb7-d8a5cb5669e5"
      },
      "outputs": [
        {
          "data": {
            "text/plain": [
              "(tensor([[1, 2, 3],\n",
              "         [4, 5, 6],\n",
              "         [1, 2, 3],\n",
              "         [4, 5, 6],\n",
              "         [1, 2, 3],\n",
              "         [4, 5, 6],\n",
              "         [1, 2, 3],\n",
              "         [4, 5, 6]]),\n",
              " torch.Size([8, 3]))"
            ]
          },
          "execution_count": 40,
          "metadata": {},
          "output_type": "execute_result"
        }
      ],
      "source": [
        "stackOfX = torch.vstack([x,z.view(2,3),x,z.view(2,3)])\n",
        "stackOfX, stackOfX.shape"
      ]
    },
    {
      "cell_type": "code",
      "execution_count": 43,
      "metadata": {
        "colab": {
          "base_uri": "https://localhost:8080/"
        },
        "id": "_VRVXex2qDSr",
        "outputId": "19a67bf1-96c5-4f49-8331-15012ce9e2f1"
      },
      "outputs": [
        {
          "data": {
            "text/plain": [
              "(tensor([[[1, 2, 3],\n",
              "          [4, 5, 6]],\n",
              " \n",
              "         [[1, 2, 3],\n",
              "          [4, 5, 6]],\n",
              " \n",
              "         [[1, 2, 3],\n",
              "          [4, 5, 6]],\n",
              " \n",
              "         [[1, 2, 3],\n",
              "          [4, 5, 6]]]),\n",
              " torch.Size([4, 2, 3]))"
            ]
          },
          "execution_count": 43,
          "metadata": {},
          "output_type": "execute_result"
        }
      ],
      "source": [
        "stackOfX = torch.stack([x,x,x,x], dim=0)\n",
        "stackOfX, stackOfX.shape"
      ]
    },
    {
      "cell_type": "code",
      "execution_count": 44,
      "metadata": {
        "colab": {
          "base_uri": "https://localhost:8080/"
        },
        "id": "V5o0RdSeqjnG",
        "outputId": "3e017e59-a0f3-49c4-c692-6e665a872c78"
      },
      "outputs": [
        {
          "data": {
            "text/plain": [
              "(tensor([[[1, 2, 3],\n",
              "          [1, 2, 3],\n",
              "          [1, 2, 3],\n",
              "          [1, 2, 3]],\n",
              " \n",
              "         [[4, 5, 6],\n",
              "          [4, 5, 6],\n",
              "          [4, 5, 6],\n",
              "          [4, 5, 6]]]),\n",
              " torch.Size([2, 4, 3]))"
            ]
          },
          "execution_count": 44,
          "metadata": {},
          "output_type": "execute_result"
        }
      ],
      "source": [
        "stackOfX = torch.stack([x,x,x,x], dim=1)\n",
        "stackOfX, stackOfX.shape"
      ]
    },
    {
      "cell_type": "code",
      "execution_count": 48,
      "metadata": {
        "colab": {
          "base_uri": "https://localhost:8080/"
        },
        "id": "A_oAFGCLqml0",
        "outputId": "dea4108f-271b-4142-94f1-366a6c4d074a"
      },
      "outputs": [
        {
          "data": {
            "text/plain": [
              "(tensor([[[1, 1, 1, 1],\n",
              "          [2, 2, 2, 2],\n",
              "          [3, 3, 3, 3]],\n",
              " \n",
              "         [[4, 4, 4, 4],\n",
              "          [5, 5, 5, 5],\n",
              "          [6, 6, 6, 6]]]),\n",
              " torch.Size([2, 3, 4]),\n",
              " tensor([[[1, 2, 3],\n",
              "          [1, 2, 3],\n",
              "          [1, 2, 3],\n",
              "          [1, 2, 3]],\n",
              " \n",
              "         [[4, 5, 6],\n",
              "          [4, 5, 6],\n",
              "          [4, 5, 6],\n",
              "          [4, 5, 6]]]),\n",
              " torch.Size([2, 4, 3]))"
            ]
          },
          "execution_count": 48,
          "metadata": {},
          "output_type": "execute_result"
        }
      ],
      "source": [
        "stackOfX = torch.stack([x,x,x,x], dim=2)\n",
        "stackOfX, stackOfX.shape, stackOfX.mT, stackOfX.mT.shape"
      ]
    },
    {
      "cell_type": "code",
      "execution_count": 64,
      "metadata": {
        "colab": {
          "base_uri": "https://localhost:8080/"
        },
        "id": "pxsTLubZsjvZ",
        "outputId": "ea94e874-1f38-4266-cdc1-ee4c91c3f4f3"
      },
      "outputs": [
        {
          "data": {
            "text/plain": [
              "tensor([[[[1, 2, 3, 4, 5, 6]]]])"
            ]
          },
          "execution_count": 64,
          "metadata": {},
          "output_type": "execute_result"
        }
      ],
      "source": [
        "x = x.reshape(1,1,1,6)  ## remove single dimensions from tensor?\n",
        "x"
      ]
    },
    {
      "cell_type": "code",
      "execution_count": 65,
      "metadata": {
        "colab": {
          "base_uri": "https://localhost:8080/"
        },
        "id": "Qn7WkrqetOwP",
        "outputId": "cc4b7e12-8dce-4cb1-c9ec-15d781a23d03"
      },
      "outputs": [
        {
          "data": {
            "text/plain": [
              "(tensor([1, 2, 3, 4, 5, 6]), torch.Size([6]))"
            ]
          },
          "execution_count": 65,
          "metadata": {},
          "output_type": "execute_result"
        }
      ],
      "source": [
        "x = torch.squeeze(x)\n",
        "x, x.shape"
      ]
    },
    {
      "cell_type": "code",
      "execution_count": 69,
      "metadata": {
        "id": "-SrfFW1wtYho"
      },
      "outputs": [],
      "source": [
        "rz = torch.rand(3,1,4,1,6)"
      ]
    },
    {
      "cell_type": "code",
      "execution_count": 71,
      "metadata": {
        "colab": {
          "base_uri": "https://localhost:8080/"
        },
        "id": "9GNWusWLuqNR",
        "outputId": "8624403a-5733-4f59-d423-7a41a5f07049"
      },
      "outputs": [
        {
          "data": {
            "text/plain": [
              "torch.Size([3, 1, 4, 1, 6, 1])"
            ]
          },
          "execution_count": 71,
          "metadata": {},
          "output_type": "execute_result"
        }
      ],
      "source": [
        "rz = rz.unsqueeze(-1)\n",
        "rz.shape"
      ]
    },
    {
      "cell_type": "code",
      "execution_count": 94,
      "metadata": {
        "colab": {
          "base_uri": "https://localhost:8080/"
        },
        "id": "UWTZJb8Fuw5m",
        "outputId": "b069a51f-66ec-4cbe-bad2-39023cfafafa"
      },
      "outputs": [
        {
          "data": {
            "text/plain": [
              "torch.Size([1, 1, 1, 3, 4, 6])"
            ]
          },
          "execution_count": 94,
          "metadata": {},
          "output_type": "execute_result"
        }
      ],
      "source": [
        "rz = rz.permute(5,1,3,0,2,4)\n",
        "rz.shape"
      ]
    },
    {
      "cell_type": "code",
      "execution_count": 95,
      "metadata": {
        "colab": {
          "base_uri": "https://localhost:8080/"
        },
        "id": "EnlzDpxqv8Xo",
        "outputId": "466363b4-6461-43aa-a2f1-fbb4f81628e4"
      },
      "outputs": [
        {
          "data": {
            "text/plain": [
              "torch.Size([6, 4, 3, 1, 1, 1])"
            ]
          },
          "execution_count": 95,
          "metadata": {},
          "output_type": "execute_result"
        }
      ],
      "source": [
        "rz.permute(*torch.arange(rz.ndim - 1, -1, -1)).shape"
      ]
    },
    {
      "cell_type": "code",
      "execution_count": 98,
      "metadata": {
        "colab": {
          "base_uri": "https://localhost:8080/"
        },
        "id": "pRPgAKb6yioV",
        "outputId": "36bae737-526e-40eb-a824-e1db852d6807"
      },
      "outputs": [
        {
          "data": {
            "text/plain": [
              "tensor([5, 4, 3, 2, 1, 0])"
            ]
          },
          "execution_count": 98,
          "metadata": {},
          "output_type": "execute_result"
        }
      ],
      "source": [
        "torch.arange(rz.ndim - 1, -1, -1)"
      ]
    },
    {
      "cell_type": "code",
      "execution_count": 101,
      "metadata": {
        "colab": {
          "base_uri": "https://localhost:8080/"
        },
        "id": "XVR14gLPyvGe",
        "outputId": "599c4cfc-32f3-4c35-af2a-722d5d5d82ec"
      },
      "outputs": [
        {
          "name": "stdout",
          "output_type": "stream",
          "text": [
            "CPU times: user 147 µs, sys: 0 ns, total: 147 µs\n",
            "Wall time: 154 µs\n"
          ]
        }
      ],
      "source": [
        "%%time\n",
        "rz = rz.permute(5,1,3,0,2,4)"
      ]
    },
    {
      "cell_type": "markdown",
      "metadata": {
        "id": "w832FO__zGOr"
      },
      "source": [
        "Remember that permuted tensors share memory with original tensor.\n",
        "\n",
        "This means that change in one would be reflected in other as well."
      ]
    },
    {
      "cell_type": "code",
      "execution_count": 102,
      "metadata": {
        "colab": {
          "base_uri": "https://localhost:8080/"
        },
        "id": "yRg2NUe90Deh",
        "outputId": "c4e93efe-ac3d-434c-c0ec-f7b908a84e18"
      },
      "outputs": [
        {
          "data": {
            "text/plain": [
              "tensor([[[1, 2, 3],\n",
              "         [4, 5, 6],\n",
              "         [7, 8, 9]]])"
            ]
          },
          "execution_count": 102,
          "metadata": {},
          "output_type": "execute_result"
        }
      ],
      "source": [
        "x = torch.arange(1,10).reshape(1,3,3)\n",
        "x"
      ]
    },
    {
      "cell_type": "code",
      "execution_count": 123,
      "metadata": {
        "colab": {
          "base_uri": "https://localhost:8080/"
        },
        "id": "AyQzcSHd3vi_",
        "outputId": "b077d1ba-f90a-47bd-9da9-aa3a776452e5"
      },
      "outputs": [
        {
          "data": {
            "text/plain": [
              "(tensor(9), tensor([9]), tensor([[3, 6, 9]]))"
            ]
          },
          "execution_count": 123,
          "metadata": {},
          "output_type": "execute_result"
        }
      ],
      "source": [
        "x[0][2][2], x[:,2,2], x[:,:,2]"
      ]
    },
    {
      "cell_type": "code",
      "execution_count": 127,
      "metadata": {
        "colab": {
          "base_uri": "https://localhost:8080/"
        },
        "id": "MJ8jJRMK3w1w",
        "outputId": "a4389677-9f75-4787-e0dd-4f6f10155021"
      },
      "outputs": [
        {
          "data": {
            "text/plain": [
              "(tensor([1, 2, 3, 4, 5, 6, 7, 8, 9]), tensor(9))"
            ]
          },
          "execution_count": 127,
          "metadata": {},
          "output_type": "execute_result"
        }
      ],
      "source": [
        "f = x.flatten()\n",
        "f, f[-1]"
      ]
    },
    {
      "cell_type": "markdown",
      "metadata": {
        "id": "9gLrqN__4zMq"
      },
      "source": [
        "numpy to tensor => `torch.from_numpy(ndararray)`\n",
        "\n",
        "tensor to numpy => `torch.Tensor.numpy()`\n",
        "\n",
        "dtypes mismatch might occur. np default dtype is float64 and torch reflects it it coverted tensor unless specified.\n",
        "\n",
        "memory is not shared here unlike view."
      ]
    },
    {
      "cell_type": "code",
      "execution_count": 151,
      "metadata": {
        "colab": {
          "base_uri": "https://localhost:8080/"
        },
        "id": "zGFc2FBw5-Tx",
        "outputId": "b6d520c3-79f7-4bf0-a730-de42437c2106"
      },
      "outputs": [
        {
          "data": {
            "text/plain": [
              "(tensor([[0.4540, 0.1965, 0.9210],\n",
              "         [0.3462, 0.1481, 0.0858]]),\n",
              " tensor([[0.5909, 0.0659],\n",
              "         [0.7476, 0.6253],\n",
              "         [0.9392, 0.1338]]))"
            ]
          },
          "execution_count": 151,
          "metadata": {},
          "output_type": "execute_result"
        }
      ],
      "source": [
        "torch.random.manual_seed(43)\n",
        "torch.rand([2,3]) ,torch.rand([3,2])"
      ]
    },
    {
      "cell_type": "markdown",
      "metadata": {
        "id": "JWbghqoM7T8w"
      },
      "source": [
        "manual seed works only for the next line, ie, line next to it"
      ]
    },
    {
      "cell_type": "code",
      "execution_count": 157,
      "metadata": {
        "colab": {
          "base_uri": "https://localhost:8080/",
          "height": 35
        },
        "id": "p8F51jmk8pVs",
        "outputId": "ce3fbf96-ae16-4dd2-9f46-045e3a699566"
      },
      "outputs": [
        {
          "data": {
            "application/vnd.google.colaboratory.intrinsic+json": {
              "type": "string"
            },
            "text/plain": [
              "'cpu'"
            ]
          },
          "execution_count": 157,
          "metadata": {},
          "output_type": "execute_result"
        }
      ],
      "source": [
        "import torch\n",
        "device = \"cuda\" if torch.cuda.is_available() else \"cpu\"\n",
        "device"
      ]
    },
    {
      "cell_type": "code",
      "execution_count": 160,
      "metadata": {
        "colab": {
          "base_uri": "https://localhost:8080/"
        },
        "id": "5JPiWFLY-i7F",
        "outputId": "acca8d88-47f8-4f5b-f9bd-a09993d75143"
      },
      "outputs": [
        {
          "data": {
            "text/plain": [
              "device(type='cpu')"
            ]
          },
          "execution_count": 160,
          "metadata": {},
          "output_type": "execute_result"
        }
      ],
      "source": [
        "tensorGpu = torch.tensor([1,2,3])\n",
        "tensorGpu.to(device)\n",
        "tensorGpu.device"
      ]
    },
    {
      "cell_type": "markdown",
      "metadata": {
        "id": "ChVhKHkZAegv"
      },
      "source": [
        "can't convert tensor on gpu to numpy"
      ]
    },
    {
      "cell_type": "code",
      "execution_count": 161,
      "metadata": {
        "colab": {
          "base_uri": "https://localhost:8080/"
        },
        "id": "aDWOT0P5BTzh",
        "outputId": "8cd82043-a019-4b27-8d53-51887b769886"
      },
      "outputs": [
        {
          "data": {
            "text/plain": [
              "tensor([[2.2974],\n",
              "        [1.7910],\n",
              "        [2.2538],\n",
              "        [2.2568],\n",
              "        [2.1363],\n",
              "        [1.9414],\n",
              "        [1.4094]])"
            ]
          },
          "execution_count": 161,
          "metadata": {},
          "output_type": "execute_result"
        }
      ],
      "source": [
        "torch.matmul(torch.rand(7,7), torch.rand(1,7).mT)"
      ]
    },
    {
      "cell_type": "code",
      "execution_count": 163,
      "metadata": {
        "colab": {
          "base_uri": "https://localhost:8080/"
        },
        "id": "29Ds7wS3CChQ",
        "outputId": "2851560a-8644-49a0-cdf0-c2ebc6bdd923"
      },
      "outputs": [
        {
          "data": {
            "text/plain": [
              "False"
            ]
          },
          "execution_count": 163,
          "metadata": {},
          "output_type": "execute_result"
        }
      ],
      "source": [
        "ten = torch.rand(1,1,1,10)\n",
        "sqten = torch.squeeze_copy(ten)\n",
        "ten.shape, sqten.shape"
      ]
    },
    {
      "cell_type": "markdown",
      "metadata": {
        "id": "Cb-LTH5xCo9i"
      },
      "source": [
        "##### By default, PyTorch uses a single global RNG. If multiple processes or threads access the RNG simultaneously, it can lead to unpredictable results.\n",
        "\n",
        "fork_rng creates a separate RNG state for each process/thread, ensuring each one generates its own random number sequence without interfering with others."
      ]
    },
    {
      "cell_type": "markdown",
      "metadata": {
        "vscode": {
          "languageId": "plaintext"
        }
      },
      "source": [
        "You typically use manual_seed to set a global seed for the RNG when you want reproducible results across different runs of your code.\n",
        "You use fork_rng primarily in multi-process or multi-threaded scenarios to avoid conflicts between different processes/threads accessing the same RNG.\n",
        "You might use get_rng_state and set_rng_state along with fork_rng for more advanced use cases. For instance, you could save the RNG state at a specific point in your training and later restore it to reproduce that exact state (useful for debugging or resuming training).\n",
        "\n",
        "pen_spark\n"
      ]
    },
    {
      "cell_type": "code",
      "execution_count": null,
      "metadata": {
        "vscode": {
          "languageId": "plaintext"
        }
      },
      "outputs": [],
      "source": []
    }
  ],
  "metadata": {
    "colab": {
      "provenance": []
    },
    "kernelspec": {
      "display_name": "Python 3",
      "name": "python3"
    },
    "language_info": {
      "name": "python"
    }
  },
  "nbformat": 4,
  "nbformat_minor": 0
}
